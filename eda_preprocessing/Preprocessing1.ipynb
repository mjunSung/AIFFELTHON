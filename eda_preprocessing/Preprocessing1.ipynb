{
 "cells": [
  {
   "cell_type": "code",
   "execution_count": null,
   "metadata": {
    "colab": {
     "base_uri": "https://localhost:8080/"
    },
    "executionInfo": {
     "elapsed": 3153,
     "status": "ok",
     "timestamp": 1741071608776,
     "user": {
      "displayName": "JiWoong Yang",
      "userId": "05447232063217391592"
     },
     "user_tz": -540
    },
    "id": "wOuGNfQaVyql",
    "outputId": "1aad9194-35fd-4426-932e-954d45121142"
   },
   "outputs": [
    {
     "name": "stdout",
     "output_type": "stream",
     "text": [
      "Drive already mounted at /content/drive; to attempt to forcibly remount, call drive.mount(\"/content/drive\", force_remount=True).\n"
     ]
    }
   ],
   "source": [
    "from google.colab import drive\n",
    "drive.mount('/content/drive')"
   ]
  },
  {
   "cell_type": "code",
   "execution_count": 1,
   "metadata": {
    "executionInfo": {
     "elapsed": 1556,
     "status": "ok",
     "timestamp": 1741351830282,
     "user": {
      "displayName": "JiWoong Yang",
      "userId": "05447232063217391592"
     },
     "user_tz": -540
    },
    "id": "0IwzXxWDGrwi"
   },
   "outputs": [],
   "source": [
    "import pandas as pd\n",
    "import numpy as np\n",
    "import requests\n",
    "import json\n",
    "import matplotlib.pyplot as plt\n",
    "import seaborn as sns\n",
    "import re"
   ]
  },
  {
   "cell_type": "code",
   "execution_count": null,
   "metadata": {
    "executionInfo": {
     "elapsed": 15066,
     "status": "ok",
     "timestamp": 1741351845351,
     "user": {
      "displayName": "JiWoong Yang",
      "userId": "05447232063217391592"
     },
     "user_tz": -540
    },
    "id": "EoSjno6LHHE1"
   },
   "outputs": [],
   "source": [
    "url = \"\"\n",
    "\n",
    "with open(url,\"r\",encoding=\"utf-8\") as f:\n",
    "    data_original = json.load(f)"
   ]
  },
  {
   "cell_type": "code",
   "execution_count": 3,
   "metadata": {
    "executionInfo": {
     "elapsed": 295,
     "status": "ok",
     "timestamp": 1741351845648,
     "user": {
      "displayName": "JiWoong Yang",
      "userId": "05447232063217391592"
     },
     "user_tz": -540
    },
    "id": "F0fKEfl-ksla"
   },
   "outputs": [],
   "source": [
    "data_original = pd.DataFrame(data_original)"
   ]
  },
  {
   "cell_type": "code",
   "execution_count": 4,
   "metadata": {
    "colab": {
     "base_uri": "https://localhost:8080/"
    },
    "executionInfo": {
     "elapsed": 140,
     "status": "ok",
     "timestamp": 1741351845789,
     "user": {
      "displayName": "JiWoong Yang",
      "userId": "05447232063217391592"
     },
     "user_tz": -540
    },
    "id": "DbGCCw-skxir",
    "outputId": "0dd6f8b4-f058-46de-9d3a-0dedea8aed7a"
   },
   "outputs": [
    {
     "name": "stdout",
     "output_type": "stream",
     "text": [
      "<class 'pandas.core.frame.DataFrame'>\n",
      "RangeIndex: 50000 entries, 0 to 49999\n",
      "Data columns (total 21 columns):\n",
      " #   Column       Non-Null Count  Dtype  \n",
      "---  ------       --------------  -----  \n",
      " 0   ISBN         50000 non-null  object \n",
      " 1   ITEM_ID      50000 non-null  int64  \n",
      " 2   BID          42652 non-null  float64\n",
      " 3   GOODS_NO     7348 non-null   float64\n",
      " 4   분류           46967 non-null  object \n",
      " 5   제목           49996 non-null  object \n",
      " 6   부제           33406 non-null  object \n",
      " 7   원제           4506 non-null   object \n",
      " 8   저자           50000 non-null  object \n",
      " 9   발행자          50000 non-null  object \n",
      " 10  발행일          50000 non-null  object \n",
      " 11  페이지          50000 non-null  int64  \n",
      " 12  가격           50000 non-null  int64  \n",
      " 13  표지           50000 non-null  object \n",
      " 14  간략소개         48590 non-null  object \n",
      " 15  책소개          47002 non-null  object \n",
      " 16  저자소개         37934 non-null  object \n",
      " 17  목차           45459 non-null  object \n",
      " 18  출판사리뷰        29156 non-null  object \n",
      " 19  INSERT_DATE  50000 non-null  object \n",
      " 20  UPDATE_DATE  10000 non-null  object \n",
      "dtypes: float64(2), int64(3), object(16)\n",
      "memory usage: 8.0+ MB\n"
     ]
    }
   ],
   "source": [
    "data_original.info()"
   ]
  },
  {
   "cell_type": "code",
   "execution_count": 9,
   "metadata": {
    "colab": {
     "base_uri": "https://localhost:8080/"
    },
    "executionInfo": {
     "elapsed": 549,
     "status": "ok",
     "timestamp": 1741351891236,
     "user": {
      "displayName": "JiWoong Yang",
      "userId": "05447232063217391592"
     },
     "user_tz": -540
    },
    "id": "bJBAQBaSnx9q",
    "outputId": "165a9ca4-ebdf-460d-a516-008a8a538c26"
   },
   "outputs": [
    {
     "name": "stdout",
     "output_type": "stream",
     "text": [
      "토씨하나까지 동일한 텍스트 : 3\n"
     ]
    }
   ],
   "source": [
    "# 원본 데이터\n",
    "a = data_original['제목'].astype(str)\n",
    "b = data_original['책소개'].astype(str)\n",
    "\n",
    "# \\n 전부 제거\n",
    "a_clean = a.apply(lambda x: re.sub(r'\\n+', '', x).strip())\n",
    "b_clean = b.apply(lambda x: re.sub(r'\\n+', '', x).strip())\n",
    "\n",
    "# 토씨하나까지 동일한 텍스트인가?\n",
    "exact_match_count = (a_clean == b_clean).sum()\n",
    "\n",
    "print(f\"토씨하나까지 동일한 텍스트 : {exact_match_count}\")"
   ]
  },
  {
   "cell_type": "code",
   "execution_count": 10,
   "metadata": {
    "executionInfo": {
     "elapsed": 4,
     "status": "ok",
     "timestamp": 1741351898620,
     "user": {
      "displayName": "JiWoong Yang",
      "userId": "05447232063217391592"
     },
     "user_tz": -540
    },
    "id": "a6qd43UhqKAB"
   },
   "outputs": [],
   "source": [
    "matching_rows = data_original[a_clean == b_clean]"
   ]
  },
  {
   "cell_type": "code",
   "execution_count": null,
   "metadata": {
    "colab": {
     "base_uri": "https://localhost:8080/",
     "height": 1000
    },
    "executionInfo": {
     "elapsed": 80,
     "status": "ok",
     "timestamp": 1741351902468,
     "user": {
      "displayName": "JiWoong Yang",
      "userId": "05447232063217391592"
     },
     "user_tz": -540
    },
    "id": "Hg4kn88JqVU4",
    "outputId": "8910240b-9a38-4dc8-8c70-fa5b5a7b1db7"
   },
   "outputs": [],
   "source": [
    "matching_rows\n",
    "\n",
    "# ISBN\n",
    "# ['9788929512385','9791137231061','9791137249509']\n",
    "# 9788929512385 만 제목과 책소개가 None\n",
    "# 나머지는 책소개가 책 제목으로 들어가있음"
   ]
  },
  {
   "cell_type": "code",
   "execution_count": 12,
   "metadata": {
    "colab": {
     "base_uri": "https://localhost:8080/"
    },
    "executionInfo": {
     "elapsed": 267,
     "status": "ok",
     "timestamp": 1741352018279,
     "user": {
      "displayName": "JiWoong Yang",
      "userId": "05447232063217391592"
     },
     "user_tz": -540
    },
    "id": "M99Epn4EqsEQ",
    "outputId": "7a594b0d-ad78-484b-94b4-7f2171403b78"
   },
   "outputs": [
    {
     "name": "stdout",
     "output_type": "stream",
     "text": [
      "토씨하나까지 동일한 텍스트 : 1647\n"
     ]
    }
   ],
   "source": [
    "# 원본 데이터\n",
    "a = data_original['제목'].astype(str)\n",
    "b = data_original['간략소개'].astype(str)\n",
    "\n",
    "# \\n 전부 제거\n",
    "a_clean = a.apply(lambda x: re.sub(r'\\n+', '', x).strip())\n",
    "b_clean = b.apply(lambda x: re.sub(r'\\n+', '', x).strip())\n",
    "\n",
    "# 토씨하나까지 동일한 텍스트인가?\n",
    "exact_match_count = (a_clean == b_clean).sum()\n",
    "\n",
    "print(f\"토씨하나까지 동일한 텍스트 : {exact_match_count}\")"
   ]
  },
  {
   "cell_type": "code",
   "execution_count": null,
   "metadata": {
    "colab": {
     "base_uri": "https://localhost:8080/",
     "height": 1000
    },
    "executionInfo": {
     "elapsed": 47,
     "status": "ok",
     "timestamp": 1741352022786,
     "user": {
      "displayName": "JiWoong Yang",
      "userId": "05447232063217391592"
     },
     "user_tz": -540
    },
    "id": "h2NwleHqqyLY",
    "outputId": "9d6ae6aa-ae9d-4526-b0fa-3c5a7414ce4e"
   },
   "outputs": [],
   "source": [
    "# 해당 데이터는 간략 소개를 책 소개로 대체할 수 없음.\n",
    "# 따로 ISBN을 뽑아낸 뒤, 데이터를 합칠 때 조건을 달아야 함.\n",
    "matching_rows = data_original[a_clean == b_clean]\n",
    "matching_rows"
   ]
  },
  {
   "cell_type": "code",
   "execution_count": null,
   "metadata": {
    "colab": {
     "base_uri": "https://localhost:8080/",
     "height": 147
    },
    "executionInfo": {
     "elapsed": 43,
     "status": "ok",
     "timestamp": 1741318063407,
     "user": {
      "displayName": "JiWoong Yang",
      "userId": "05447232063217391592"
     },
     "user_tz": -540
    },
    "id": "4p_o3Z-QpHoU",
    "outputId": "eaeffba9-1a97-4943-88b7-bfd9a9dd7068"
   },
   "outputs": [
    {
     "data": {
      "text/html": [
       "<div>\n",
       "<style scoped>\n",
       "    .dataframe tbody tr th:only-of-type {\n",
       "        vertical-align: middle;\n",
       "    }\n",
       "\n",
       "    .dataframe tbody tr th {\n",
       "        vertical-align: top;\n",
       "    }\n",
       "\n",
       "    .dataframe thead th {\n",
       "        text-align: right;\n",
       "    }\n",
       "</style>\n",
       "<table border=\"1\" class=\"dataframe\">\n",
       "  <thead>\n",
       "    <tr style=\"text-align: right;\">\n",
       "      <th></th>\n",
       "      <th>95</th>\n",
       "    </tr>\n",
       "  </thead>\n",
       "  <tbody>\n",
       "    <tr>\n",
       "      <th>제목</th>\n",
       "      <td>이재수 실기</td>\n",
       "    </tr>\n",
       "    <tr>\n",
       "      <th>간략소개</th>\n",
       "      <td>이재수 실기</td>\n",
       "    </tr>\n",
       "  </tbody>\n",
       "</table>\n",
       "</div><br><label><b>dtype:</b> object</label>"
      ],
      "text/plain": [
       "제목      이재수 실기\n",
       "간략소개    이재수 실기\n",
       "Name: 95, dtype: object"
      ]
     },
     "execution_count": 48,
     "metadata": {},
     "output_type": "execute_result"
    }
   ],
   "source": [
    "data_original[['제목','간략소개']].iloc[95,:]"
   ]
  },
  {
   "cell_type": "code",
   "execution_count": null,
   "metadata": {
    "colab": {
     "base_uri": "https://localhost:8080/",
     "height": 424
    },
    "executionInfo": {
     "elapsed": 126,
     "status": "ok",
     "timestamp": 1741316999078,
     "user": {
      "displayName": "JiWoong Yang",
      "userId": "05447232063217391592"
     },
     "user_tz": -540
    },
    "id": "pq3vcMcWlFlE",
    "outputId": "2eb07983-3e94-4b37-f9e2-317e995f4997"
   },
   "outputs": [
    {
     "data": {
      "application/vnd.google.colaboratory.intrinsic+json": {
       "summary": "{\n  \"name\": \"data_original[['\\uc81c\\ubaa9','\\ubd80\\uc81c','\\ubd84\\ub958']][~data_original['\\ubd84\\ub958']\",\n  \"rows\": 3269,\n  \"fields\": [\n    {\n      \"column\": \"\\uc81c\\ubaa9\",\n      \"properties\": {\n        \"dtype\": \"string\",\n        \"num_unique_values\": 3088,\n        \"samples\": [\n          \"2023 \\ubbfc\\ubc95\\uc815\\ub9ac 5 \\uac00\\uc871\\ubc95\",\n          \"2023 \\ud3c9\\uc0dd \\ubb34\\ub8cc \\ub3d9\\uc601\\uc0c1\\uacfc \\ud568\\uaed8\\ud558\\ub294 \\uc18c\\ubc29\\uc124\\ube44\\uc0b0\\uc5c5\\uae30\\uc0ac \\ud544\\uae30 \\uc804\\uae30\\ud3b8\",\n          \"Win-Q \\uc790\\ub3d9\\ucc28\\uc815\\ube44\\uae30\\ub2a5\\uc0ac \\ud544\\uae30 \\ub2e8\\uae30\\uc644\\uc131\"\n        ],\n        \"semantic_type\": \"\",\n        \"description\": \"\"\n      }\n    },\n    {\n      \"column\": \"\\ubd80\\uc81c\",\n      \"properties\": {\n        \"dtype\": \"string\",\n        \"num_unique_values\": 1747,\n        \"samples\": [\n          \"\\uac1c\\uc815\\ub41c \\ucd9c\\uc81c\\uae30\\uc900\\uc5d0 \\uc758\\ud55c CBT \\uc2dc\\ud5d8\\ub300\\ube44 \\uc9c0\\uce68\\uc11c,2022\",\n          \"\\uc790\\ub3d9\\ucc28\\uc804\\ubb38\\uad50\\uc721\\uae30\\uad00 \\uc9c0\\uc815\\uad50\\uc7ac\",\n          \"2021,IPAT \\uad6d\\uac00\\uacf5\\uc778\\uc790\\uaca9 \\uc2dc\\ud5d8 \\ub300\\ube44\"\n        ],\n        \"semantic_type\": \"\",\n        \"description\": \"\"\n      }\n    },\n    {\n      \"column\": \"\\ubd84\\ub958\",\n      \"properties\": {\n        \"dtype\": \"category\",\n        \"num_unique_values\": 75,\n        \"samples\": [\n          \"[\\\"\\uc678\\uad6d\\ub3c4\\uc11c > \\uccad\\uc18c\\ub144 > \\ud734\\uc77c/\\uae30\\ub150\\uc77c > \\ubd80\\ud65c\\uc808/\\uc0ac\\uc21c\\uc808\\\", \\\"\\uc678\\uad6d\\ub3c4\\uc11c > \\uc5b4\\ub9b0\\uc774 > \\ub9ac\\ub354\\uc2a4 > \\ub9ac\\ub354\\\", \\\"\\uc678\\uad6d\\ub3c4\\uc11c > \\uc5b4\\ub9b0\\uc774 > \\ucc55\\ud130\\ubd81 > \\ub17c\\ud53d\\uc158 \\ucc55\\ud130\\ubd81\\\", \\\"\\uc678\\uad6d\\ub3c4\\uc11c > \\uc5b4\\ub9b0\\uc774 > \\ub17c\\ud53d\\uc158 > \\uae30\\ub150\\uc77c  > \\ucd94\\uc218\\uac10\\uc0ac\\uc808/\\ubd80\\ud65c\\uc808 \\\"]\",\n          \"[\\\"\\uc678\\uad6d\\ub3c4\\uc11c > \\uc218\\ud5d8\\uc11c > Book Notes \\\", \\\"\\uc678\\uad6d\\ub3c4\\uc11c > \\uac8c\\uc784/\\ud1a0\\uc774 > \\uac8c\\uc784 > \\ub450\\ub1cc\\uac8c\\uc784\\\", \\\"\\uc678\\uad6d\\ub3c4\\uc11c > \\uc790\\uc5f0\\uacfc\\ud559 > \\uc218\\ud559 > \\ub300\\uc218\\ud559 > \\ub300\\uc218\\ud559 \\uc77c\\ubc18\\\"]\",\n          \"[\\\"\\uc678\\uad6d\\ub3c4\\uc11c > \\uc5b4\\ub9b0\\uc774 > \\uc601\\uc5b4 \\ud559\\uc2b5 > Reading & Comprehension\\\"]\"\n        ],\n        \"semantic_type\": \"\",\n        \"description\": \"\"\n      }\n    }\n  ]\n}",
       "type": "dataframe"
      },
      "text/html": [
       "\n",
       "  <div id=\"df-dbe973cc-84e1-46d7-aef2-227bdd0fb044\" class=\"colab-df-container\">\n",
       "    <div>\n",
       "<style scoped>\n",
       "    .dataframe tbody tr th:only-of-type {\n",
       "        vertical-align: middle;\n",
       "    }\n",
       "\n",
       "    .dataframe tbody tr th {\n",
       "        vertical-align: top;\n",
       "    }\n",
       "\n",
       "    .dataframe thead th {\n",
       "        text-align: right;\n",
       "    }\n",
       "</style>\n",
       "<table border=\"1\" class=\"dataframe\">\n",
       "  <thead>\n",
       "    <tr style=\"text-align: right;\">\n",
       "      <th></th>\n",
       "      <th>제목</th>\n",
       "      <th>부제</th>\n",
       "      <th>분류</th>\n",
       "    </tr>\n",
       "  </thead>\n",
       "  <tbody>\n",
       "    <tr>\n",
       "      <th>37</th>\n",
       "      <td>합격자 Win-Q 무역영어 1급·2급 단기완성</td>\n",
       "      <td>2022</td>\n",
       "      <td>None</td>\n",
       "    </tr>\n",
       "    <tr>\n",
       "      <th>43</th>\n",
       "      <td>2022 위생사 실기시험문제</td>\n",
       "      <td>개정16판</td>\n",
       "      <td>None</td>\n",
       "    </tr>\n",
       "    <tr>\n",
       "      <th>87</th>\n",
       "      <td>해커스 세무회계엔딩 소득세법(2020)(개정판)</td>\n",
       "      <td>2020 최신 개정세법 반영ㅣ공인회계사ㆍ세무사 1,2차 시험 대비</td>\n",
       "      <td>None</td>\n",
       "    </tr>\n",
       "    <tr>\n",
       "      <th>118</th>\n",
       "      <td>에듀윌 전산회계 1급 이론편+실무편+최신기출</td>\n",
       "      <td>최대 70강 무료,모든 이론 강의 72시간 무료,2020</td>\n",
       "      <td>None</td>\n",
       "    </tr>\n",
       "    <tr>\n",
       "      <th>119</th>\n",
       "      <td>일반기계기사 필기+무료동영상+핸드북</td>\n",
       "      <td>2022</td>\n",
       "      <td>None</td>\n",
       "    </tr>\n",
       "    <tr>\n",
       "      <th>...</th>\n",
       "      <td>...</td>\n",
       "      <td>...</td>\n",
       "      <td>...</td>\n",
       "    </tr>\n",
       "    <tr>\n",
       "      <th>49928</th>\n",
       "      <td>요양보호사 필기&amp;실기문제집 7일만에 합격하기</td>\n",
       "      <td>2022</td>\n",
       "      <td>None</td>\n",
       "    </tr>\n",
       "    <tr>\n",
       "      <th>49932</th>\n",
       "      <td>조경기능사 실기</td>\n",
       "      <td>NCS 기반 출제기준에 따른, 2022</td>\n",
       "      <td>None</td>\n",
       "    </tr>\n",
       "    <tr>\n",
       "      <th>49935</th>\n",
       "      <td>딱!! 한권으로 끝내주는 이용사 필기·실기 시험문제</td>\n",
       "      <td>이용장 포함, 2022</td>\n",
       "      <td>None</td>\n",
       "    </tr>\n",
       "    <tr>\n",
       "      <th>49965</th>\n",
       "      <td>핵심 소방기술사</td>\n",
       "      <td>18판</td>\n",
       "      <td>None</td>\n",
       "    </tr>\n",
       "    <tr>\n",
       "      <th>49987</th>\n",
       "      <td>위험물산업기사 1차 필기</td>\n",
       "      <td>기술자격증 합격교재,2021</td>\n",
       "      <td>None</td>\n",
       "    </tr>\n",
       "  </tbody>\n",
       "</table>\n",
       "<p>3269 rows × 3 columns</p>\n",
       "</div>\n",
       "    <div class=\"colab-df-buttons\">\n",
       "\n",
       "  <div class=\"colab-df-container\">\n",
       "    <button class=\"colab-df-convert\" onclick=\"convertToInteractive('df-dbe973cc-84e1-46d7-aef2-227bdd0fb044')\"\n",
       "            title=\"Convert this dataframe to an interactive table.\"\n",
       "            style=\"display:none;\">\n",
       "\n",
       "  <svg xmlns=\"http://www.w3.org/2000/svg\" height=\"24px\" viewBox=\"0 -960 960 960\">\n",
       "    <path d=\"M120-120v-720h720v720H120Zm60-500h600v-160H180v160Zm220 220h160v-160H400v160Zm0 220h160v-160H400v160ZM180-400h160v-160H180v160Zm440 0h160v-160H620v160ZM180-180h160v-160H180v160Zm440 0h160v-160H620v160Z\"/>\n",
       "  </svg>\n",
       "    </button>\n",
       "\n",
       "  <style>\n",
       "    .colab-df-container {\n",
       "      display:flex;\n",
       "      gap: 12px;\n",
       "    }\n",
       "\n",
       "    .colab-df-convert {\n",
       "      background-color: #E8F0FE;\n",
       "      border: none;\n",
       "      border-radius: 50%;\n",
       "      cursor: pointer;\n",
       "      display: none;\n",
       "      fill: #1967D2;\n",
       "      height: 32px;\n",
       "      padding: 0 0 0 0;\n",
       "      width: 32px;\n",
       "    }\n",
       "\n",
       "    .colab-df-convert:hover {\n",
       "      background-color: #E2EBFA;\n",
       "      box-shadow: 0px 1px 2px rgba(60, 64, 67, 0.3), 0px 1px 3px 1px rgba(60, 64, 67, 0.15);\n",
       "      fill: #174EA6;\n",
       "    }\n",
       "\n",
       "    .colab-df-buttons div {\n",
       "      margin-bottom: 4px;\n",
       "    }\n",
       "\n",
       "    [theme=dark] .colab-df-convert {\n",
       "      background-color: #3B4455;\n",
       "      fill: #D2E3FC;\n",
       "    }\n",
       "\n",
       "    [theme=dark] .colab-df-convert:hover {\n",
       "      background-color: #434B5C;\n",
       "      box-shadow: 0px 1px 3px 1px rgba(0, 0, 0, 0.15);\n",
       "      filter: drop-shadow(0px 1px 2px rgba(0, 0, 0, 0.3));\n",
       "      fill: #FFFFFF;\n",
       "    }\n",
       "  </style>\n",
       "\n",
       "    <script>\n",
       "      const buttonEl =\n",
       "        document.querySelector('#df-dbe973cc-84e1-46d7-aef2-227bdd0fb044 button.colab-df-convert');\n",
       "      buttonEl.style.display =\n",
       "        google.colab.kernel.accessAllowed ? 'block' : 'none';\n",
       "\n",
       "      async function convertToInteractive(key) {\n",
       "        const element = document.querySelector('#df-dbe973cc-84e1-46d7-aef2-227bdd0fb044');\n",
       "        const dataTable =\n",
       "          await google.colab.kernel.invokeFunction('convertToInteractive',\n",
       "                                                    [key], {});\n",
       "        if (!dataTable) return;\n",
       "\n",
       "        const docLinkHtml = 'Like what you see? Visit the ' +\n",
       "          '<a target=\"_blank\" href=https://colab.research.google.com/notebooks/data_table.ipynb>data table notebook</a>'\n",
       "          + ' to learn more about interactive tables.';\n",
       "        element.innerHTML = '';\n",
       "        dataTable['output_type'] = 'display_data';\n",
       "        await google.colab.output.renderOutput(dataTable, element);\n",
       "        const docLink = document.createElement('div');\n",
       "        docLink.innerHTML = docLinkHtml;\n",
       "        element.appendChild(docLink);\n",
       "      }\n",
       "    </script>\n",
       "  </div>\n",
       "\n",
       "\n",
       "<div id=\"df-dbc0ae7d-e83b-43a2-9f63-4abcab5b5748\">\n",
       "  <button class=\"colab-df-quickchart\" onclick=\"quickchart('df-dbc0ae7d-e83b-43a2-9f63-4abcab5b5748')\"\n",
       "            title=\"Suggest charts\"\n",
       "            style=\"display:none;\">\n",
       "\n",
       "<svg xmlns=\"http://www.w3.org/2000/svg\" height=\"24px\"viewBox=\"0 0 24 24\"\n",
       "     width=\"24px\">\n",
       "    <g>\n",
       "        <path d=\"M19 3H5c-1.1 0-2 .9-2 2v14c0 1.1.9 2 2 2h14c1.1 0 2-.9 2-2V5c0-1.1-.9-2-2-2zM9 17H7v-7h2v7zm4 0h-2V7h2v10zm4 0h-2v-4h2v4z\"/>\n",
       "    </g>\n",
       "</svg>\n",
       "  </button>\n",
       "\n",
       "<style>\n",
       "  .colab-df-quickchart {\n",
       "      --bg-color: #E8F0FE;\n",
       "      --fill-color: #1967D2;\n",
       "      --hover-bg-color: #E2EBFA;\n",
       "      --hover-fill-color: #174EA6;\n",
       "      --disabled-fill-color: #AAA;\n",
       "      --disabled-bg-color: #DDD;\n",
       "  }\n",
       "\n",
       "  [theme=dark] .colab-df-quickchart {\n",
       "      --bg-color: #3B4455;\n",
       "      --fill-color: #D2E3FC;\n",
       "      --hover-bg-color: #434B5C;\n",
       "      --hover-fill-color: #FFFFFF;\n",
       "      --disabled-bg-color: #3B4455;\n",
       "      --disabled-fill-color: #666;\n",
       "  }\n",
       "\n",
       "  .colab-df-quickchart {\n",
       "    background-color: var(--bg-color);\n",
       "    border: none;\n",
       "    border-radius: 50%;\n",
       "    cursor: pointer;\n",
       "    display: none;\n",
       "    fill: var(--fill-color);\n",
       "    height: 32px;\n",
       "    padding: 0;\n",
       "    width: 32px;\n",
       "  }\n",
       "\n",
       "  .colab-df-quickchart:hover {\n",
       "    background-color: var(--hover-bg-color);\n",
       "    box-shadow: 0 1px 2px rgba(60, 64, 67, 0.3), 0 1px 3px 1px rgba(60, 64, 67, 0.15);\n",
       "    fill: var(--button-hover-fill-color);\n",
       "  }\n",
       "\n",
       "  .colab-df-quickchart-complete:disabled,\n",
       "  .colab-df-quickchart-complete:disabled:hover {\n",
       "    background-color: var(--disabled-bg-color);\n",
       "    fill: var(--disabled-fill-color);\n",
       "    box-shadow: none;\n",
       "  }\n",
       "\n",
       "  .colab-df-spinner {\n",
       "    border: 2px solid var(--fill-color);\n",
       "    border-color: transparent;\n",
       "    border-bottom-color: var(--fill-color);\n",
       "    animation:\n",
       "      spin 1s steps(1) infinite;\n",
       "  }\n",
       "\n",
       "  @keyframes spin {\n",
       "    0% {\n",
       "      border-color: transparent;\n",
       "      border-bottom-color: var(--fill-color);\n",
       "      border-left-color: var(--fill-color);\n",
       "    }\n",
       "    20% {\n",
       "      border-color: transparent;\n",
       "      border-left-color: var(--fill-color);\n",
       "      border-top-color: var(--fill-color);\n",
       "    }\n",
       "    30% {\n",
       "      border-color: transparent;\n",
       "      border-left-color: var(--fill-color);\n",
       "      border-top-color: var(--fill-color);\n",
       "      border-right-color: var(--fill-color);\n",
       "    }\n",
       "    40% {\n",
       "      border-color: transparent;\n",
       "      border-right-color: var(--fill-color);\n",
       "      border-top-color: var(--fill-color);\n",
       "    }\n",
       "    60% {\n",
       "      border-color: transparent;\n",
       "      border-right-color: var(--fill-color);\n",
       "    }\n",
       "    80% {\n",
       "      border-color: transparent;\n",
       "      border-right-color: var(--fill-color);\n",
       "      border-bottom-color: var(--fill-color);\n",
       "    }\n",
       "    90% {\n",
       "      border-color: transparent;\n",
       "      border-bottom-color: var(--fill-color);\n",
       "    }\n",
       "  }\n",
       "</style>\n",
       "\n",
       "  <script>\n",
       "    async function quickchart(key) {\n",
       "      const quickchartButtonEl =\n",
       "        document.querySelector('#' + key + ' button');\n",
       "      quickchartButtonEl.disabled = true;  // To prevent multiple clicks.\n",
       "      quickchartButtonEl.classList.add('colab-df-spinner');\n",
       "      try {\n",
       "        const charts = await google.colab.kernel.invokeFunction(\n",
       "            'suggestCharts', [key], {});\n",
       "      } catch (error) {\n",
       "        console.error('Error during call to suggestCharts:', error);\n",
       "      }\n",
       "      quickchartButtonEl.classList.remove('colab-df-spinner');\n",
       "      quickchartButtonEl.classList.add('colab-df-quickchart-complete');\n",
       "    }\n",
       "    (() => {\n",
       "      let quickchartButtonEl =\n",
       "        document.querySelector('#df-dbc0ae7d-e83b-43a2-9f63-4abcab5b5748 button');\n",
       "      quickchartButtonEl.style.display =\n",
       "        google.colab.kernel.accessAllowed ? 'block' : 'none';\n",
       "    })();\n",
       "  </script>\n",
       "</div>\n",
       "\n",
       "    </div>\n",
       "  </div>\n"
      ],
      "text/plain": [
       "                                 제목                                    부제  \\\n",
       "37        합격자 Win-Q 무역영어 1급·2급 단기완성                                  2022   \n",
       "43                  2022 위생사 실기시험문제                                 개정16판   \n",
       "87       해커스 세무회계엔딩 소득세법(2020)(개정판)  2020 최신 개정세법 반영ㅣ공인회계사ㆍ세무사 1,2차 시험 대비   \n",
       "118        에듀윌 전산회계 1급 이론편+실무편+최신기출       최대 70강 무료,모든 이론 강의 72시간 무료,2020   \n",
       "119             일반기계기사 필기+무료동영상+핸드북                                  2022   \n",
       "...                             ...                                   ...   \n",
       "49928      요양보호사 필기&실기문제집 7일만에 합격하기                                  2022   \n",
       "49932                      조경기능사 실기                 NCS 기반 출제기준에 따른, 2022   \n",
       "49935  딱!! 한권으로 끝내주는 이용사 필기·실기 시험문제                          이용장 포함, 2022   \n",
       "49965                      핵심 소방기술사                                   18판   \n",
       "49987                 위험물산업기사 1차 필기                       기술자격증 합격교재,2021   \n",
       "\n",
       "         분류  \n",
       "37     None  \n",
       "43     None  \n",
       "87     None  \n",
       "118    None  \n",
       "119    None  \n",
       "...     ...  \n",
       "49928  None  \n",
       "49932  None  \n",
       "49935  None  \n",
       "49965  None  \n",
       "49987  None  \n",
       "\n",
       "[3269 rows x 3 columns]"
      ]
     },
     "execution_count": 41,
     "metadata": {},
     "output_type": "execute_result"
    }
   ],
   "source": [
    "data_original[['제목','부제','분류']][~data_original['분류'].str.contains('국내도서', na=False)]"
   ]
  },
  {
   "cell_type": "code",
   "execution_count": null,
   "metadata": {
    "executionInfo": {
     "elapsed": 11965,
     "status": "ok",
     "timestamp": 1741352115044,
     "user": {
      "displayName": "JiWoong Yang",
      "userId": "05447232063217391592"
     },
     "user_tz": -540
    },
    "id": "YEIBO4lAHpIq"
   },
   "outputs": [],
   "source": [
    "data = pd.read_csv(\"\")"
   ]
  },
  {
   "cell_type": "code",
   "execution_count": 15,
   "metadata": {
    "colab": {
     "base_uri": "https://localhost:8080/"
    },
    "executionInfo": {
     "elapsed": 118,
     "status": "ok",
     "timestamp": 1741352115163,
     "user": {
      "displayName": "JiWoong Yang",
      "userId": "05447232063217391592"
     },
     "user_tz": -540
    },
    "id": "E0enBiDKH1bX",
    "outputId": "faddfc06-3e10-4cea-8632-7a1e73558631"
   },
   "outputs": [
    {
     "name": "stdout",
     "output_type": "stream",
     "text": [
      "<class 'pandas.core.frame.DataFrame'>\n",
      "RangeIndex: 50000 entries, 0 to 49999\n",
      "Data columns (total 22 columns):\n",
      " #   Column       Non-Null Count  Dtype  \n",
      "---  ------       --------------  -----  \n",
      " 0   ISBN         50000 non-null  int64  \n",
      " 1   ITEM_ID      50000 non-null  int64  \n",
      " 2   BID          42652 non-null  float64\n",
      " 3   GOODS_NO     7348 non-null   float64\n",
      " 4   분류           49206 non-null  object \n",
      " 5   제목           50000 non-null  object \n",
      " 6   부제           33406 non-null  object \n",
      " 7   원제           4506 non-null   object \n",
      " 8   저자           50000 non-null  object \n",
      " 9   발행자          50000 non-null  object \n",
      " 10  발행일          50000 non-null  object \n",
      " 11  페이지          50000 non-null  int64  \n",
      " 12  가격           50000 non-null  int64  \n",
      " 13  표지           50000 non-null  object \n",
      " 14  간략소개         48590 non-null  object \n",
      " 15  책소개          49626 non-null  object \n",
      " 16  저자소개         37934 non-null  object \n",
      " 17  목차           45459 non-null  object \n",
      " 18  출판사리뷰        29156 non-null  object \n",
      " 19  INSERT_DATE  50000 non-null  object \n",
      " 20  UPDATE_DATE  10000 non-null  object \n",
      " 21  len_cat      50000 non-null  int64  \n",
      "dtypes: float64(2), int64(5), object(15)\n",
      "memory usage: 8.4+ MB\n"
     ]
    }
   ],
   "source": [
    "data.info()"
   ]
  },
  {
   "cell_type": "code",
   "execution_count": null,
   "metadata": {
    "colab": {
     "base_uri": "https://localhost:8080/",
     "height": 147
    },
    "executionInfo": {
     "elapsed": 102,
     "status": "ok",
     "timestamp": 1741317912665,
     "user": {
      "displayName": "JiWoong Yang",
      "userId": "05447232063217391592"
     },
     "user_tz": -540
    },
    "id": "S_D22Rb7oZb8",
    "outputId": "353ea17b-d340-490e-d67f-87a9a17508a9"
   },
   "outputs": [],
   "source": [
    "data[['제목','책소개']].iloc[95,:]"
   ]
  },
  {
   "cell_type": "code",
   "execution_count": 16,
   "metadata": {
    "colab": {
     "base_uri": "https://localhost:8080/"
    },
    "executionInfo": {
     "elapsed": 917,
     "status": "ok",
     "timestamp": 1741352133520,
     "user": {
      "displayName": "JiWoong Yang",
      "userId": "05447232063217391592"
     },
     "user_tz": -540
    },
    "id": "SlVq7s8uqT4_",
    "outputId": "de0add4c-9f7d-4a64-80e5-b997cb35d710"
   },
   "outputs": [
    {
     "name": "stdout",
     "output_type": "stream",
     "text": [
      "토씨하나까지 동일한 텍스트 : 363\n"
     ]
    }
   ],
   "source": [
    "a = data['제목'].astype(str)\n",
    "b = data['책소개'].astype(str)\n",
    "\n",
    "# \\n 전부 제거\n",
    "a_clean = a.apply(lambda x: re.sub(r'\\n+', '', x).strip())\n",
    "b_clean = b.apply(lambda x: re.sub(r'\\n+', '', x).strip())\n",
    "\n",
    "# 토씨하나까지 동일한 텍스트인가?\n",
    "exact_match_count = (a_clean == b_clean).sum()\n",
    "\n",
    "matching_rows = data[a_clean == b_clean]\n",
    "\n",
    "print(f\"토씨하나까지 동일한 텍스트 : {exact_match_count}\")"
   ]
  },
  {
   "cell_type": "code",
   "execution_count": 17,
   "metadata": {
    "colab": {
     "base_uri": "https://localhost:8080/"
    },
    "executionInfo": {
     "elapsed": 18,
     "status": "ok",
     "timestamp": 1741352137742,
     "user": {
      "displayName": "JiWoong Yang",
      "userId": "05447232063217391592"
     },
     "user_tz": -540
    },
    "id": "swelnpq4tax5",
    "outputId": "6d420cfe-db67-4db5-cef0-904663cbdd6f"
   },
   "outputs": [
    {
     "data": {
      "text/plain": [
       "167"
      ]
     },
     "execution_count": 17,
     "metadata": {},
     "output_type": "execute_result"
    }
   ],
   "source": [
    "filtered_data = matching_rows[matching_rows[['저자소개', '출판사리뷰']].notna().any(axis=1)]\n",
    "len(filtered_data)"
   ]
  },
  {
   "cell_type": "code",
   "execution_count": 18,
   "metadata": {
    "colab": {
     "base_uri": "https://localhost:8080/"
    },
    "executionInfo": {
     "elapsed": 17,
     "status": "ok",
     "timestamp": 1741352137906,
     "user": {
      "displayName": "JiWoong Yang",
      "userId": "05447232063217391592"
     },
     "user_tz": -540
    },
    "id": "9w1ugIGAuD89",
    "outputId": "73b12415-6517-4c1b-a89c-db75448bbe23"
   },
   "outputs": [
    {
     "data": {
      "text/plain": [
       "242"
      ]
     },
     "execution_count": 18,
     "metadata": {},
     "output_type": "execute_result"
    }
   ],
   "source": [
    "filtered_data = matching_rows[matching_rows[['출판사리뷰']].isna().all(axis=1)]\n",
    "len(filtered_data)"
   ]
  },
  {
   "cell_type": "markdown",
   "metadata": {
    "id": "ZCzyIag5IQOn"
   },
   "source": [
    "### Columns\n",
    "* ISBN : 국제 표준 도서 번호(필수 식별자)\n",
    "* ITEM_ID : 데이터베이스 또는 시스템 상에서 책을 구분하는 고유 ID ()\n",
    "* BID : 서지 데이터에서의 추가적인 ID?\n",
    "* GOODS_NO : 상품 번호\n",
    "\n",
    "* -> **ISBN을 제외하고 전부 삭제**\n",
    "* -> **동일 특수기호는 LLM이 알아먹기 쉽게 전체 프로세스에서 동일한 내재적 의미를 지녀야함**\n",
    "-> 모든 \">\" 기호는 대분류 -> 소분류의 의미"
   ]
  },
  {
   "cell_type": "markdown",
   "metadata": {
    "id": "3pIHluq8g116"
   },
   "source": [
    "### 분류\n",
    "* 1. None 794를 수집한 후 데이터 form의 중복없이, 사용자 친화적으로, RAG 내에서 의미적 유사성을 이해하기 쉬운 형태로 변환\n",
    "    * LLM 활용 (GPT 4o 와 CLOVA X 둘 다 큰 차이는 없음)"
   ]
  },
  {
   "cell_type": "code",
   "execution_count": null,
   "metadata": {
    "id": "gyFiZq7EhUki"
   },
   "outputs": [],
   "source": [
    "pd.set_option('display.max_rows', None)\n",
    "pd.set_option('display.max_columns', None)\n",
    "pd.set_option('display.max_colwidth', None)"
   ]
  },
  {
   "cell_type": "code",
   "execution_count": 29,
   "metadata": {
    "colab": {
     "base_uri": "https://localhost:8080/"
    },
    "executionInfo": {
     "elapsed": 15,
     "status": "ok",
     "timestamp": 1741353243058,
     "user": {
      "displayName": "JiWoong Yang",
      "userId": "05447232063217391592"
     },
     "user_tz": -540
    },
    "id": "JR6redchuNAG",
    "outputId": "1204770d-a61c-46ff-af4e-4983d8c6682d"
   },
   "outputs": [
    {
     "data": {
      "text/plain": [
       "794"
      ]
     },
     "execution_count": 29,
     "metadata": {},
     "output_type": "execute_result"
    }
   ],
   "source": [
    "len(data['분류'].loc[data['분류'].isna()])"
   ]
  },
  {
   "cell_type": "code",
   "execution_count": null,
   "metadata": {
    "colab": {
     "base_uri": "https://localhost:8080/",
     "height": 424
    },
    "executionInfo": {
     "elapsed": 56,
     "status": "ok",
     "timestamp": 1741353247495,
     "user": {
      "displayName": "JiWoong Yang",
      "userId": "05447232063217391592"
     },
     "user_tz": -540
    },
    "id": "eYmyQQQsj5RY",
    "outputId": "4c1107ef-ffe5-46e5-bae1-341165a96dfb"
   },
   "outputs": [],
   "source": [
    "data[['제목','부제','분류']][data['제목'].str.contains('문제집', na=False)]"
   ]
  },
  {
   "cell_type": "code",
   "execution_count": null,
   "metadata": {
    "colab": {
     "base_uri": "https://localhost:8080/",
     "height": 615
    },
    "executionInfo": {
     "elapsed": 69,
     "status": "ok",
     "timestamp": 1741353251409,
     "user": {
      "displayName": "JiWoong Yang",
      "userId": "05447232063217391592"
     },
     "user_tz": -540
    },
    "id": "1CxPQ5Z5i0f9",
    "outputId": "6eb32052-c9d6-4b3e-a4c0-ff7d4ea5cef8"
   },
   "outputs": [],
   "source": [
    "data[['제목','부제','분류','책소개','출판사리뷰']][data['제목'].str.contains('시험', na=False)]"
   ]
  },
  {
   "cell_type": "code",
   "execution_count": null,
   "metadata": {
    "colab": {
     "base_uri": "https://localhost:8080/",
     "height": 1000
    },
    "executionInfo": {
     "elapsed": 394,
     "status": "ok",
     "timestamp": 1741316001163,
     "user": {
      "displayName": "JiWoong Yang",
      "userId": "05447232063217391592"
     },
     "user_tz": -540
    },
    "id": "mGbTip7cg3ES",
    "outputId": "88af1e38-83e5-4a9e-ae53-3e537b38bff1"
   },
   "outputs": [],
   "source": [
    "# 분류가 없는 것들은 대개 자격증 시험 관련 서적\n",
    "data.loc[(data['분류'].isnull()),['제목','부제','저자','분류']]"
   ]
  },
  {
   "cell_type": "code",
   "execution_count": null,
   "metadata": {
    "colab": {
     "base_uri": "https://localhost:8080/"
    },
    "executionInfo": {
     "elapsed": 27,
     "status": "ok",
     "timestamp": 1741328605734,
     "user": {
      "displayName": "JiWoong Yang",
      "userId": "05447232063217391592"
     },
     "user_tz": -540
    },
    "id": "g-wO_xaXhVer",
    "outputId": "68c4045c-28aa-4b93-a764-fbcd2e4b72ba"
   },
   "outputs": [
    {
     "name": "stderr",
     "output_type": "stream",
     "text": [
      "<ipython-input-76-815ccf52250a>:1: FutureWarning: data_manager option is deprecated and will be removed in a future version. Only the BlockManager will be available.\n",
      "  pd.reset_option(\"all\")\n",
      "<ipython-input-76-815ccf52250a>:1: FutureWarning: use_inf_as_na option is deprecated and will be removed in a future version. Convert inf values to NaN before operating instead.\n",
      "  pd.reset_option(\"all\")\n"
     ]
    }
   ],
   "source": [
    "pd.reset_option(\"all\")"
   ]
  },
  {
   "cell_type": "markdown",
   "metadata": {
    "id": "Ik4Xe2mI9Kjr"
   },
   "source": [
    "### 저자\n",
    "* 000 옮김 -> 해당 내용은 split해서 메타데이터에 집어넣기 or 삭제\n",
    "* \"저자\" 변수에는 저자명만 들어가도록\n",
    "* 그러나...\n",
    "    * 편저,원저,지음,저,글,그림 등 오만가지 작가의 형태가 존재\n",
    "    * 그냥 그대로 냅두는게 가장 나을 것 같음"
   ]
  },
  {
   "cell_type": "code",
   "execution_count": null,
   "metadata": {
    "colab": {
     "base_uri": "https://localhost:8080/",
     "height": 1000
    },
    "executionInfo": {
     "elapsed": 70,
     "status": "ok",
     "timestamp": 1741072476072,
     "user": {
      "displayName": "JiWoong Yang",
      "userId": "05447232063217391592"
     },
     "user_tz": -540
    },
    "id": "4ql6OQqi1-BM",
    "outputId": "f684a7e3-93e7-4012-99b8-0282c047ebfe"
   },
   "outputs": [],
   "source": [
    "# def extract_author(Author_str):\n",
    "#     parts = re.split(r'\\s지음', Author_str)  # \"지음\"을 기준으로 split\n",
    "#     return ' 지음'.join(parts[:-1]) if len(parts) > 1 else Author_str  # 마지막 \"지음\" 앞부분만 남김\n",
    "\n",
    "\n",
    "# # 옮긴이\n",
    "# def extract_translator(author_str):\n",
    "#     parts = re.split(r'\\s(지음|옮김|엮음)', author_str)\n",
    "#     if \"옮김\" in parts:\n",
    "#         idx = parts.index(\"옮김\")\n",
    "#         return parts[idx + 1].strip() if idx + 1 < len(parts) else None\n",
    "#     return None  # 옮긴이가 없을 경우\n",
    "\n",
    "\n",
    "# data['저자'] = data['저자'].apply(extract_author)\n",
    "# data['저자'].head(50)"
   ]
  },
  {
   "cell_type": "code",
   "execution_count": null,
   "metadata": {
    "id": "1zkkQM2yCEK_"
   },
   "outputs": [],
   "source": [
    "pd.set_option('display.max_rows', None)\n",
    "pd.set_option('display.max_columns', None)"
   ]
  },
  {
   "cell_type": "code",
   "execution_count": null,
   "metadata": {
    "colab": {
     "base_uri": "https://localhost:8080/",
     "height": 398
    },
    "executionInfo": {
     "elapsed": 29,
     "status": "ok",
     "timestamp": 1741073023255,
     "user": {
      "displayName": "JiWoong Yang",
      "userId": "05447232063217391592"
     },
     "user_tz": -540
    },
    "id": "FQXIThbE-Jnp",
    "outputId": "fcfe75ae-ebd5-41d2-9f2d-da0abcbb124c"
   },
   "outputs": [
    {
     "data": {
      "text/html": [
       "<div>\n",
       "<style scoped>\n",
       "    .dataframe tbody tr th:only-of-type {\n",
       "        vertical-align: middle;\n",
       "    }\n",
       "\n",
       "    .dataframe tbody tr th {\n",
       "        vertical-align: top;\n",
       "    }\n",
       "\n",
       "    .dataframe thead th {\n",
       "        text-align: right;\n",
       "    }\n",
       "</style>\n",
       "<table border=\"1\" class=\"dataframe\">\n",
       "  <thead>\n",
       "    <tr style=\"text-align: right;\">\n",
       "      <th></th>\n",
       "      <th>저자</th>\n",
       "    </tr>\n",
       "  </thead>\n",
       "  <tbody>\n",
       "    <tr>\n",
       "      <th>85</th>\n",
       "      <td>로버트 리 프로스트 저/신재실 편역</td>\n",
       "    </tr>\n",
       "    <tr>\n",
       "      <th>504</th>\n",
       "      <td>일연 저/임명현 편역</td>\n",
       "    </tr>\n",
       "    <tr>\n",
       "      <th>2407</th>\n",
       "      <td>이일환 편역</td>\n",
       "    </tr>\n",
       "    <tr>\n",
       "      <th>16218</th>\n",
       "      <td>홍선영, 윤소영, 박미경, 복보경 편역</td>\n",
       "    </tr>\n",
       "    <tr>\n",
       "      <th>16632</th>\n",
       "      <td>진윤영 편역</td>\n",
       "    </tr>\n",
       "    <tr>\n",
       "      <th>18428</th>\n",
       "      <td>허균 저/달상 그림/김영희 해설/설흔 편역</td>\n",
       "    </tr>\n",
       "    <tr>\n",
       "      <th>43744</th>\n",
       "      <td>송재소 편역</td>\n",
       "    </tr>\n",
       "    <tr>\n",
       "      <th>44425</th>\n",
       "      <td>알루보물레 스마나사라 저/장운갑 편역/강성욱 역</td>\n",
       "    </tr>\n",
       "    <tr>\n",
       "      <th>48478</th>\n",
       "      <td>앙투안 드 생텍쥐페리 원저/심재홍 편역</td>\n",
       "    </tr>\n",
       "    <tr>\n",
       "      <th>49113</th>\n",
       "      <td>김대현 편역</td>\n",
       "    </tr>\n",
       "  </tbody>\n",
       "</table>\n",
       "</div><br><label><b>dtype:</b> object</label>"
      ],
      "text/plain": [
       "85              로버트 리 프로스트 저/신재실 편역\n",
       "504                     일연 저/임명현 편역\n",
       "2407                         이일환 편역\n",
       "16218         홍선영, 윤소영, 박미경, 복보경 편역\n",
       "16632                        진윤영 편역\n",
       "18428       허균 저/달상 그림/김영희 해설/설흔 편역\n",
       "43744                        송재소 편역\n",
       "44425    알루보물레 스마나사라 저/장운갑 편역/강성욱 역\n",
       "48478         앙투안 드 생텍쥐페리 원저/심재홍 편역\n",
       "49113                        김대현 편역\n",
       "Name: 저자, dtype: object"
      ]
     },
     "execution_count": 21,
     "metadata": {},
     "output_type": "execute_result"
    }
   ],
   "source": [
    "data['저자'][data['저자'].str.contains('편역', na=False)]"
   ]
  },
  {
   "cell_type": "code",
   "execution_count": null,
   "metadata": {
    "colab": {
     "base_uri": "https://localhost:8080/",
     "height": 1000
    },
    "executionInfo": {
     "elapsed": 369,
     "status": "ok",
     "timestamp": 1741073054199,
     "user": {
      "displayName": "JiWoong Yang",
      "userId": "05447232063217391592"
     },
     "user_tz": -540
    },
    "id": "EMCETx_19aun",
    "outputId": "d1518073-7643-497d-e4b2-a98b96cd7ac2"
   },
   "outputs": [],
   "source": [
    "data['저자'][data['저자'].str.contains('편저', na=False)]"
   ]
  },
  {
   "cell_type": "code",
   "execution_count": null,
   "metadata": {
    "colab": {
     "base_uri": "https://localhost:8080/",
     "height": 1000
    },
    "executionInfo": {
     "elapsed": 168,
     "status": "ok",
     "timestamp": 1741072942681,
     "user": {
      "displayName": "JiWoong Yang",
      "userId": "05447232063217391592"
     },
     "user_tz": -540
    },
    "id": "DKPlFAsh-S5Y",
    "outputId": "0caad139-999e-4842-cfbb-64c76cdfc771"
   },
   "outputs": [],
   "source": [
    "data['저자'][data['저자'].str.contains('원저', na=False)]"
   ]
  },
  {
   "cell_type": "code",
   "execution_count": null,
   "metadata": {
    "colab": {
     "base_uri": "https://localhost:8080/"
    },
    "executionInfo": {
     "elapsed": 21,
     "status": "ok",
     "timestamp": 1741073519752,
     "user": {
      "displayName": "JiWoong Yang",
      "userId": "05447232063217391592"
     },
     "user_tz": -540
    },
    "id": "N-ydwzImCLG5",
    "outputId": "11eeb43b-0518-4f52-bda6-097146648f2c"
   },
   "outputs": [
    {
     "name": "stderr",
     "output_type": "stream",
     "text": [
      "<ipython-input-27-056908e7e3ef>:1: FutureWarning: data_manager option is deprecated and will be removed in a future version. Only the BlockManager will be available.\n",
      "  pd.reset_option('all')\n",
      "<ipython-input-27-056908e7e3ef>:1: FutureWarning: use_inf_as_na option is deprecated and will be removed in a future version. Convert inf values to NaN before operating instead.\n",
      "  pd.reset_option('all')\n"
     ]
    }
   ],
   "source": [
    "pd.reset_option('all')"
   ]
  },
  {
   "cell_type": "code",
   "execution_count": null,
   "metadata": {
    "id": "Jn990fcQH5SK"
   },
   "outputs": [],
   "source": [
    "# 메타 데이터에 들어가야할 columns = ['ISBN','ITEM_ID','BID','GOODS_NO','원제','발행자','발행일','페이지','가격','표지','INSERT_DATE','UPDATE_DATE']\n",
    "# 삭제/통합 시켜야할 columns = ['부제','원제','']\n",
    "# 분류가 null에 해당하는 책은 대다수 자격증 관련 도서\n",
    "# 제목이 없는 책은 부제를 제목으로 봐도 무방함.\n",
    "# 제목과 부제가 모두 존재하는 책은 제목을 제목_부제 형식으로 통합시키는게 좋을 것 같고, 부제가 없는 책은 제목 그대로 냅두기. 원제는 메타 데이터에 합치되 실제 모델에서는 사용될 일이 없을 것 같음\n",
    "# 저자에서 , 000 옮김 형태는 따로 split을 활용하여 뽑아낸 뒤, metadata에 포함시키거나 삭제\n",
    "# 실질적인 VERTOR DB Documents 에 해당되는 핵심 columns = ['분류','제목','저자','책 소개','저자소개','목차','출판사리뷰']\n",
    "\n",
    "\n",
    "# 간략소개와 책 소개\n",
    "# 책소개가 없는데 간략소개만 있는 경우, 간략 소개라도 책 소개로 첨부\n",
    "\n",
    "\n",
    "# 부제와 제목 모두 null이 아닌 경우에만 data['제목']과 data['부제']를 data['제목']의 한 컬럼으로 합치는데 form은 다음과 같음\n",
    "# str('data['제목']'+ '_' + 'data['부제']')\n",
    "# data['제목']이 없는 경우, data['부제']를 data['제목']으로 가져오기"
   ]
  },
  {
   "cell_type": "markdown",
   "metadata": {
    "id": "tCXgGySr2ikM"
   },
   "source": [
    "### 제목 & 부제\n",
    "* \"제목\"과 \"부제\"가 NotNull이면, \"제목_부제\" 형태로 변환\n",
    "* \"부제\"가 Null 이면, \"제목\"\n",
    "* \"제목\"이 Null 이면, \"부제\"가 \"제목\"으로\n",
    "* \"원제\"는 메타데이터 or 삭제"
   ]
  },
  {
   "cell_type": "markdown",
   "metadata": {
    "id": "jrifO3S-PFgB"
   },
   "source": [
    "#### 부제 전처리"
   ]
  },
  {
   "cell_type": "code",
   "execution_count": null,
   "metadata": {
    "colab": {
     "base_uri": "https://localhost:8080/",
     "height": 363
    },
    "executionInfo": {
     "elapsed": 52,
     "status": "ok",
     "timestamp": 1741065845798,
     "user": {
      "displayName": "JiWoong Yang",
      "userId": "05447232063217391592"
     },
     "user_tz": -540
    },
    "id": "5kN4Os71lRrE",
    "outputId": "851275b1-9c98-41c7-85c4-4aaf6f8c47e7"
   },
   "outputs": [],
   "source": [
    "data[['제목','부제']].loc[data['제목']=='성경전서']"
   ]
  },
  {
   "cell_type": "code",
   "execution_count": null,
   "metadata": {
    "id": "FUKvdtEYQFM0"
   },
   "outputs": [],
   "source": [
    "pd.set_option('display.max_rows', None)\n",
    "pd.set_option('display.max_columns', None)"
   ]
  },
  {
   "cell_type": "code",
   "execution_count": null,
   "metadata": {
    "id": "bDkJ1s6vGOPD"
   },
   "outputs": [],
   "source": [
    "# 1095, 1909, 2098, 2373, 2830, 3171, 3341, 4496, 4589, 4615\n",
    "\n",
    "# 큰글씨책- 이라는 표현이 도움이 돼?"
   ]
  },
  {
   "cell_type": "code",
   "execution_count": null,
   "metadata": {
    "colab": {
     "base_uri": "https://localhost:8080/",
     "height": 1000
    },
    "executionInfo": {
     "elapsed": 252,
     "status": "ok",
     "timestamp": 1741074250760,
     "user": {
      "displayName": "JiWoong Yang",
      "userId": "05447232063217391592"
     },
     "user_tz": -540
    },
    "id": "KznCtAB-PEGh",
    "outputId": "122101c1-095f-4b1d-b673-981e5a6c4e53"
   },
   "outputs": [],
   "source": [
    "# 부제에서 NK~,단본,합본,무색인,색인,단본색인,단본무색인,합본색인,합본무색인,발송,RN~,72HC~ 삭제 필요\n",
    "\n",
    "# 정규식 패턴 설정\n",
    "pattern = r'(NKR\\d*|NKS\\d*|RN\\d*|72HC\\d*|단본|합본|무색인|색인|단본색인|단본무색인|합본색인|합본무색인|발송|한글|글씨)'\n",
    "\n",
    "# 조건 필터링\n",
    "second_title = data[data['부제'].str.contains(pattern, regex=True, na=False)]\n",
    "\n",
    "second_title[['제목','부제']]"
   ]
  },
  {
   "cell_type": "markdown",
   "metadata": {
    "id": "63Fr1rPtpjPl"
   },
   "source": [
    "##### 중복값 처리"
   ]
  },
  {
   "cell_type": "code",
   "execution_count": null,
   "metadata": {
    "id": "0AGaZ0rzpAih"
   },
   "outputs": [],
   "source": [
    "c = data.groupby('제목').filter(lambda x: len(x) > 1).sort_values('제목')"
   ]
  },
  {
   "cell_type": "code",
   "execution_count": null,
   "metadata": {
    "id": "5gVPPu74u22x"
   },
   "outputs": [],
   "source": [
    "c = c.drop(columns=['ISBN','ITEM_ID','BID','GOODS_NO','발행일','페이지','가격','INSERT_DATE','UPDATE_DATE'])"
   ]
  },
  {
   "cell_type": "code",
   "execution_count": null,
   "metadata": {
    "id": "--b83wX6vSB5"
   },
   "outputs": [],
   "source": [
    "# 제목이 중복되는 애들 중 부제가 없는 애들을 탈락\n",
    "# 제목은 같은데 저자가 다른 경우\n",
    "# 제목은 같은데 부제가 다른 경우\n",
    "# 부제가 숫자 년도인 경우인 애들\n",
    "\n",
    "# 중복인 값들 중 제목과 부제가 같은 애들 중 저자가 다른 애들 먼저 뽑아보고 문제가 없다 싶으면, 제목 부제 같은 애들 drop"
   ]
  },
  {
   "cell_type": "code",
   "execution_count": null,
   "metadata": {
    "colab": {
     "base_uri": "https://localhost:8080/",
     "height": 1000
    },
    "executionInfo": {
     "elapsed": 64067,
     "status": "ok",
     "timestamp": 1741067085507,
     "user": {
      "displayName": "JiWoong Yang",
      "userId": "05447232063217391592"
     },
     "user_tz": -540
    },
    "id": "YOTVC8AprjA1",
    "outputId": "e8e91f60-50b8-45f1-e76e-24000d83663c"
   },
   "outputs": [],
   "source": [
    "cols = ['분류', '부제', '간략소개', '책소개', '저자소개', '목차', '출판사리뷰']\n",
    "\n",
    "\n",
    "data.groupby('제목').filter(lambda x: x[cols].nunique().max() > 1).sort_values('제목')"
   ]
  },
  {
   "cell_type": "code",
   "execution_count": null,
   "metadata": {
    "colab": {
     "base_uri": "https://localhost:8080/",
     "height": 178
    },
    "executionInfo": {
     "elapsed": 25,
     "status": "ok",
     "timestamp": 1741066047017,
     "user": {
      "displayName": "JiWoong Yang",
      "userId": "05447232063217391592"
     },
     "user_tz": -540
    },
    "id": "bKgXTwwhnMxa",
    "outputId": "65f8a848-a0b9-4259-e195-adc15d73e8f8"
   },
   "outputs": [
    {
     "data": {
      "text/html": [
       "<div>\n",
       "<style scoped>\n",
       "    .dataframe tbody tr th:only-of-type {\n",
       "        vertical-align: middle;\n",
       "    }\n",
       "\n",
       "    .dataframe tbody tr th {\n",
       "        vertical-align: top;\n",
       "    }\n",
       "\n",
       "    .dataframe thead th {\n",
       "        text-align: right;\n",
       "    }\n",
       "</style>\n",
       "<table border=\"1\" class=\"dataframe\">\n",
       "  <thead>\n",
       "    <tr style=\"text-align: right;\">\n",
       "      <th></th>\n",
       "      <th>count</th>\n",
       "    </tr>\n",
       "    <tr>\n",
       "      <th>제목</th>\n",
       "      <th></th>\n",
       "    </tr>\n",
       "  </thead>\n",
       "  <tbody>\n",
       "    <tr>\n",
       "      <th>False</th>\n",
       "      <td>48401</td>\n",
       "    </tr>\n",
       "    <tr>\n",
       "      <th>True</th>\n",
       "      <td>1599</td>\n",
       "    </tr>\n",
       "  </tbody>\n",
       "</table>\n",
       "</div><br><label><b>dtype:</b> int64</label>"
      ],
      "text/plain": [
       "제목\n",
       "False    48401\n",
       "True      1599\n",
       "Name: count, dtype: int64"
      ]
     },
     "execution_count": 82,
     "metadata": {},
     "output_type": "execute_result"
    }
   ],
   "source": [
    "data['제목'].duplicated().value_counts()"
   ]
  },
  {
   "cell_type": "code",
   "execution_count": null,
   "metadata": {
    "colab": {
     "base_uri": "https://localhost:8080/"
    },
    "executionInfo": {
     "elapsed": 45,
     "status": "ok",
     "timestamp": 1741066269875,
     "user": {
      "displayName": "JiWoong Yang",
      "userId": "05447232063217391592"
     },
     "user_tz": -540
    },
    "id": "yCHgaSNgQI64",
    "outputId": "10c3f8d1-38a2-4525-ffdf-d9ae9acf5432"
   },
   "outputs": [
    {
     "name": "stderr",
     "output_type": "stream",
     "text": [
      "<ipython-input-88-056908e7e3ef>:1: FutureWarning: data_manager option is deprecated and will be removed in a future version. Only the BlockManager will be available.\n",
      "  pd.reset_option('all')\n",
      "<ipython-input-88-056908e7e3ef>:1: FutureWarning: use_inf_as_na option is deprecated and will be removed in a future version. Convert inf values to NaN before operating instead.\n",
      "  pd.reset_option('all')\n"
     ]
    }
   ],
   "source": [
    "pd.reset_option('all')"
   ]
  },
  {
   "cell_type": "code",
   "execution_count": null,
   "metadata": {
    "colab": {
     "base_uri": "https://localhost:8080/"
    },
    "executionInfo": {
     "elapsed": 1006,
     "status": "ok",
     "timestamp": 1741056549002,
     "user": {
      "displayName": "JiWoong Yang",
      "userId": "05447232063217391592"
     },
     "user_tz": -540
    },
    "id": "WfPp6CKKmT-G",
    "outputId": "73d76ff1-8b5f-4dbf-97ee-990166b59de3"
   },
   "outputs": [],
   "source": [
    "data['제목'] = data.apply(lambda x:\n",
    "                         f\"{x['제목']}_{x['부제']}\" if pd.notna(x['제목']) and pd.notna(x['부제'])\n",
    "                         else x['부제'] if pd.isna(x['제목']) and pd.notna(x['부제'])\n",
    "                         else x['제목'], axis=1)\n",
    "\n",
    "print(data[['제목', '부제']].head(10))"
   ]
  },
  {
   "cell_type": "code",
   "execution_count": null,
   "metadata": {
    "colab": {
     "base_uri": "https://localhost:8080/"
    },
    "executionInfo": {
     "elapsed": 5,
     "status": "ok",
     "timestamp": 1741056549003,
     "user": {
      "displayName": "JiWoong Yang",
      "userId": "05447232063217391592"
     },
     "user_tz": -540
    },
    "id": "ypulKHqqmgtU",
    "outputId": "3f8465c0-6c0a-473c-f8e3-166f1a4784f2"
   },
   "outputs": [
    {
     "data": {
      "text/plain": [
       "array([False])"
      ]
     },
     "execution_count": 7,
     "metadata": {},
     "output_type": "execute_result"
    }
   ],
   "source": [
    "data['제목'].isnull().unique()\n",
    "# False"
   ]
  },
  {
   "cell_type": "markdown",
   "metadata": {
    "id": "FOP491Rj3jTd"
   },
   "source": [
    "### 책 소개 & 간략 소개\n",
    "* 중복 columns 이라면, 간략 소개 drop"
   ]
  },
  {
   "cell_type": "markdown",
   "metadata": {
    "id": "P6q62bUo4n7t"
   },
   "source": [
    "### 책소개 == 간략소개?\n",
    "* 중복 columns 에 대한 검증이 필요 - Cosine Similarity"
   ]
  },
  {
   "cell_type": "code",
   "execution_count": null,
   "metadata": {
    "colab": {
     "base_uri": "https://localhost:8080/",
     "height": 990
    },
    "executionInfo": {
     "elapsed": 61,
     "status": "ok",
     "timestamp": 1741056194864,
     "user": {
      "displayName": "JiWoong Yang",
      "userId": "05447232063217391592"
     },
     "user_tz": -540
    },
    "id": "CR1s2d2IPPn6",
    "outputId": "9ddf0521-814a-4434-ee3c-87fb1316c490"
   },
   "outputs": [],
   "source": [
    "## \\n 이슈로 동일 내용이나 다른 값으로 나옴\n",
    "\n",
    "data[['책소개','간략소개']].loc[data['간략소개'] != data['책소개']].head(30)"
   ]
  },
  {
   "cell_type": "code",
   "execution_count": null,
   "metadata": {
    "colab": {
     "base_uri": "https://localhost:8080/"
    },
    "executionInfo": {
     "elapsed": 607,
     "status": "ok",
     "timestamp": 1741056195473,
     "user": {
      "displayName": "JiWoong Yang",
      "userId": "05447232063217391592"
     },
     "user_tz": -540
    },
    "id": "-EYF4yXbRCAw",
    "outputId": "7cadff66-213d-47ca-e19c-8eef3f459668"
   },
   "outputs": [
    {
     "name": "stdout",
     "output_type": "stream",
     "text": [
      "토씨하나까지 동일한 텍스트 : 10386\n"
     ]
    }
   ],
   "source": [
    "import re\n",
    "\n",
    "a = data['책소개'].astype(str)\n",
    "b = data['간략소개'].astype(str)\n",
    "\n",
    "# \\n 전부 제거\n",
    "a_clean = a.apply(lambda x: re.sub(r'\\n+', '', x).strip())\n",
    "b_clean = b.apply(lambda x: re.sub(r'\\n+', '', x).strip())\n",
    "\n",
    "# 토씨하나까지 동일한 텍스트인가?\n",
    "exact_match_count = (a_clean == b_clean).sum()\n",
    "\n",
    "print(f\"토씨하나까지 동일한 텍스트 : {exact_match_count}\")"
   ]
  },
  {
   "cell_type": "code",
   "execution_count": null,
   "metadata": {
    "colab": {
     "base_uri": "https://localhost:8080/",
     "height": 491,
     "referenced_widgets": [
      "6b56d553153b47ca83b41b43cd46f22d",
      "95fefa62d8874473846e38c1e042be35",
      "1f2a25d1272a4cb2b949d9bfc42247aa",
      "cb57434d31ab4a0d88f5438a2db9b72f",
      "7a5a96f035104cddb5e0fecc6c7a9a8b",
      "a128b5a496eb43f1953d87ebeca86c57",
      "03f916308ad54b49ac6ee4a4b6afd289",
      "732dca06c98b4faba5dcceba8903b3cb",
      "74370d9146d646b88276c253a3cbefc9",
      "18a3167db68c4648a5e0adae9ef92a0f",
      "7c1aa2f48d0b4f3eabb142c50524a868",
      "a74f5e5ccbe64f11aeaad72f173791ed",
      "9c303ab5526e4ca185ecab1753dab4f2",
      "13fed24d402b4bf48a068ca7a9f12110",
      "b74560167f19453cb476a688e90087b7",
      "5a5da49f59204f3c85a8bef078b87c0f",
      "db7809d71c664b0b81c6cef35400969c",
      "1a606f47100d4329aa8fed09fe0388d4",
      "2ccde1c1e6f34430b38e2e81f4805254",
      "80a74e7a15ce478ab6cf6f4d6e966da0",
      "33833c6082fe422ab86d11b7543550a8",
      "602c924a63fc44479bec96d6d0a4a586",
      "f571307555f84e459f32801bd2a6d7b4",
      "cb85bf352b004403bb02e0e267023e52",
      "1b34be5e23c7490080cbbb7c9ec47df9",
      "79ddfa4ecfeb4789a23bf3eabea1b3dd",
      "9562b9ad8bf949acb90ec10ecb925e48",
      "4e4d6a12c63b4877a2621ca475e49303",
      "b2c8b9debe284b5c903a17d077334865",
      "e09726b9248e4fa181169e2ac8521616",
      "5ca671bb984b458b9ef725bda1f6e2bf",
      "90322924303644d985cc5f16d09225a8",
      "7da7aaa3e36f4cb598cbfe436e4cb1ee",
      "1f6bf1c63f8e4e31bff6ad861064ebdc",
      "3a230e1a3b3546dc87c9ba0ecdde7f9e",
      "10ab048db4b84feaa66ba72510572ede",
      "447df7cdb1fe4435843c762f9352a17b",
      "af751c4768114aebaad0abf5defb460f",
      "8181e6b5af1141f6901e69cedb151169",
      "2e9db891cd3b4919a49bd0bb56c98633",
      "75a9da7f195d420c8726bc298ed662a7",
      "4f564dfd66654e78abf9a410530fba87",
      "a787fd4de9dc4f35be9f7946d4e2ae3b",
      "1d2c4483149e4562887dbda8681ac2db",
      "9dbf76700c3e4213b3ee221576ef7f5a",
      "194521d8793f4dab8d76616b9aef4b03",
      "3e633ec957124f8ca1cc3690a5cd983a",
      "509507a446634b0786b53938630a554c",
      "4f1eb2094d294c1a95e83c29c4e6e6bf",
      "a7bb97d9967d4b1abb4a519fa190dc83",
      "cba9452902fe4253aa42f05b4b2a4989",
      "e752ea62e0df4c1ab6018e10f3f3df3c",
      "36e01503b54f4ebaa6ec983301763971",
      "f3ef0e005ab944eaa1ecf1b73ab3a4cd",
      "8f9e78e51c564b318852d9a1b1985480",
      "8b8a7e171be446b383bbfbdc4ccf2acb",
      "fe3a3cef0dd64a81a6f868254846e5d7",
      "b05b448942f04ed4a39505a97799965d",
      "4a933043eaf64f839ad6a7f383de1404",
      "a64dbcaffb7244f68ceca50ed1e43120",
      "39d63fda76e44c5182827a1c119e644e",
      "e6b94b51a327456c9b266ad657ff82ee",
      "f5a793433d574e74bfd9ade865a0f1cc",
      "e17b55b2a46845f6af37c0443452a220",
      "a7743657825341d6af0e0e1c4aad1922",
      "f31d4b6fd72540978f04e37122943072",
      "fe1357d817344cf484f0c3ae02a9b481",
      "d10f106cabdf4b64923c16f826a936a3",
      "8088e990c3ab47de950efdcab34d9043",
      "99e308769cfe443993bffeeacec1bd63",
      "2b9edeed2bca47d08aafed347e886adb",
      "c7adf27796ba4214b7ced3cc11581ea6",
      "4a5031030c80452ebef8863aa4079eea",
      "783cb77ebf6845b088dc4c9650eda462",
      "6943ae9e7ff449828e26b2d91316054c",
      "c2a21030fcdf412f8b4cf9df1744b3c7",
      "07a601090f8b4e268be9b18e95df8826",
      "b367053208e74bae9c7867191264cd79",
      "34f05200e51e4afd9c87163ef1060e71",
      "5ee02a457b0d47b395e89ae1602f5215",
      "66c4b65d75b4472a89df8da9ffe3e7d5",
      "9fd88e60cb4242978d429f40d07e1d1d",
      "18ec16eee8bf4700a04d4babc6b76735",
      "76452315284a499ba64ea3168e019c24",
      "7f2470ecad274474b8889fdcd76dc5fa",
      "c65bdef4ebfe4b65af4c8a9bb05abeaa",
      "9bfcf9f651f54fd3acf44e12ab0a97e2",
      "62e46b96401a4f27bc2ea6fd5b710e83",
      "c72aa30a4c974fa684adec034ae8c9c3",
      "842371a334e14a26bf1d7994448de09c",
      "e454f43b82de48dea39d6e3e8dfdbca9",
      "24d44584aeb646e4bf3f2771779f48d5",
      "d10e2b7d621c4722a90f44c7f8db9cdb",
      "b2bd7398640e4eb0bc9c6570ad4b1ae4",
      "034ae1ab6c0c4a88a2a3023e243bbbb3",
      "1b3e67a8a4244b60955e693e6a770c27",
      "bbf4cfb5f3d34b059e25d08b4c445adf",
      "a7075b4bc7b3412f9bf41e1a7af26546",
      "9201bb6f47e44117b3ee6c4ce2d18e3b",
      "2793f390f4054ad1975cd86f92b158ad",
      "5a7c6906743845cb836c42073e50f555",
      "b764a69af6dc4504a4bcc0571be7856c",
      "e149cf4948784c3e97ed62fba6dc7892",
      "bf321e86805c4068849a6a09073ad1f1",
      "abe2447d40f8435fa95062b1e5e1b108",
      "fa894c895a1245cd818b57e5c16dfecf",
      "fd77ae58700b47bd97763ece40d02592",
      "ccb653e93def4927ab23cafb9c099d0c",
      "2feb8c8d0ec3419f9e89f65dc5e9bcaf",
      "e841b613727b4e78a87e81d50b778c9e",
      "8d89eaaa21c94b6fab3b606141b9624f",
      "8d0bd8964f8f418b92496f77181dbb0f",
      "73ae7a96e7944eee809f130ba6b72fc8",
      "d8b350ccce1043589f855a01b4bc5ef5",
      "7ffdb696feba42a98f85453fd3315458",
      "1c3a40cc8fd24217823ad73e9a17916b",
      "0cd4c74771524972a25f2e1ba2d8b0a7",
      "596bb234d5664f3493ed6bd84549dfa8",
      "daa02f77b6f14e0cb4d743ddb3574cb6",
      "5db0e557ecca47c8bcb2fed445eac1f0",
      "f37d8f94a742465198a6d9b93781a8fe"
     ]
    },
    "executionInfo": {
     "elapsed": 29923,
     "status": "ok",
     "timestamp": 1741056225371,
     "user": {
      "displayName": "JiWoong Yang",
      "userId": "05447232063217391592"
     },
     "user_tz": -540
    },
    "id": "fYml9KoXTGdK",
    "outputId": "2336dbe3-d2aa-456f-9fd2-97d47a9202d8"
   },
   "outputs": [
    {
     "name": "stdout",
     "output_type": "stream",
     "text": [
      "Using device: cuda\n"
     ]
    },
    {
     "name": "stderr",
     "output_type": "stream",
     "text": [
      "/usr/local/lib/python3.11/dist-packages/huggingface_hub/utils/_auth.py:94: UserWarning: \n",
      "The secret `HF_TOKEN` does not exist in your Colab secrets.\n",
      "To authenticate with the Hugging Face Hub, create a token in your settings tab (https://huggingface.co/settings/tokens), set it as secret in your Google Colab and restart your session.\n",
      "You will be able to reuse this secret in all of your notebooks.\n",
      "Please note that authentication is recommended but still optional to access public models or datasets.\n",
      "  warnings.warn(\n"
     ]
    },
    {
     "data": {
      "application/vnd.jupyter.widget-view+json": {
       "model_id": "6b56d553153b47ca83b41b43cd46f22d",
       "version_major": 2,
       "version_minor": 0
      },
      "text/plain": [
       "modules.json:   0%|          | 0.00/229 [00:00<?, ?B/s]"
      ]
     },
     "metadata": {},
     "output_type": "display_data"
    },
    {
     "data": {
      "application/vnd.jupyter.widget-view+json": {
       "model_id": "a74f5e5ccbe64f11aeaad72f173791ed",
       "version_major": 2,
       "version_minor": 0
      },
      "text/plain": [
       "config_sentence_transformers.json:   0%|          | 0.00/122 [00:00<?, ?B/s]"
      ]
     },
     "metadata": {},
     "output_type": "display_data"
    },
    {
     "data": {
      "application/vnd.jupyter.widget-view+json": {
       "model_id": "f571307555f84e459f32801bd2a6d7b4",
       "version_major": 2,
       "version_minor": 0
      },
      "text/plain": [
       "README.md:   0%|          | 0.00/3.73k [00:00<?, ?B/s]"
      ]
     },
     "metadata": {},
     "output_type": "display_data"
    },
    {
     "data": {
      "application/vnd.jupyter.widget-view+json": {
       "model_id": "1f6bf1c63f8e4e31bff6ad861064ebdc",
       "version_major": 2,
       "version_minor": 0
      },
      "text/plain": [
       "sentence_bert_config.json:   0%|          | 0.00/53.0 [00:00<?, ?B/s]"
      ]
     },
     "metadata": {},
     "output_type": "display_data"
    },
    {
     "data": {
      "application/vnd.jupyter.widget-view+json": {
       "model_id": "9dbf76700c3e4213b3ee221576ef7f5a",
       "version_major": 2,
       "version_minor": 0
      },
      "text/plain": [
       "config.json:   0%|          | 0.00/629 [00:00<?, ?B/s]"
      ]
     },
     "metadata": {},
     "output_type": "display_data"
    },
    {
     "data": {
      "application/vnd.jupyter.widget-view+json": {
       "model_id": "8b8a7e171be446b383bbfbdc4ccf2acb",
       "version_major": 2,
       "version_minor": 0
      },
      "text/plain": [
       "model.safetensors:   0%|          | 0.00/90.9M [00:00<?, ?B/s]"
      ]
     },
     "metadata": {},
     "output_type": "display_data"
    },
    {
     "data": {
      "application/vnd.jupyter.widget-view+json": {
       "model_id": "fe1357d817344cf484f0c3ae02a9b481",
       "version_major": 2,
       "version_minor": 0
      },
      "text/plain": [
       "tokenizer_config.json:   0%|          | 0.00/314 [00:00<?, ?B/s]"
      ]
     },
     "metadata": {},
     "output_type": "display_data"
    },
    {
     "data": {
      "application/vnd.jupyter.widget-view+json": {
       "model_id": "b367053208e74bae9c7867191264cd79",
       "version_major": 2,
       "version_minor": 0
      },
      "text/plain": [
       "vocab.txt:   0%|          | 0.00/232k [00:00<?, ?B/s]"
      ]
     },
     "metadata": {},
     "output_type": "display_data"
    },
    {
     "data": {
      "application/vnd.jupyter.widget-view+json": {
       "model_id": "c72aa30a4c974fa684adec034ae8c9c3",
       "version_major": 2,
       "version_minor": 0
      },
      "text/plain": [
       "tokenizer.json:   0%|          | 0.00/466k [00:00<?, ?B/s]"
      ]
     },
     "metadata": {},
     "output_type": "display_data"
    },
    {
     "data": {
      "application/vnd.jupyter.widget-view+json": {
       "model_id": "2793f390f4054ad1975cd86f92b158ad",
       "version_major": 2,
       "version_minor": 0
      },
      "text/plain": [
       "special_tokens_map.json:   0%|          | 0.00/112 [00:00<?, ?B/s]"
      ]
     },
     "metadata": {},
     "output_type": "display_data"
    },
    {
     "data": {
      "application/vnd.jupyter.widget-view+json": {
       "model_id": "8d89eaaa21c94b6fab3b606141b9624f",
       "version_major": 2,
       "version_minor": 0
      },
      "text/plain": [
       "1_Pooling%2Fconfig.json:   0%|          | 0.00/190 [00:00<?, ?B/s]"
      ]
     },
     "metadata": {},
     "output_type": "display_data"
    }
   ],
   "source": [
    "from sentence_transformers import SentenceTransformer\n",
    "from sklearn.metrics.pairwise import cosine_similarity\n",
    "import torch\n",
    "\n",
    "# 임베딩에 gpt\n",
    "device = 'cuda' if torch.cuda.is_available() else 'cpu'\n",
    "print(f\"Using device: {device}\")\n",
    "\n",
    "# 토씨하나까지 동일한 텍스트 drop\n",
    "mask = a_clean != b_clean\n",
    "a_filtered = a_clean[mask].reset_index(drop=True)\n",
    "b_filtered = b_clean[mask].reset_index(drop=True)\n",
    "\n",
    "# Sentence Transformer - Cosine Similarity\n",
    "model = SentenceTransformer('paraphrase-MiniLM-L6-v2', device=device)"
   ]
  },
  {
   "cell_type": "code",
   "execution_count": null,
   "metadata": {
    "colab": {
     "base_uri": "https://localhost:8080/"
    },
    "executionInfo": {
     "elapsed": 13,
     "status": "ok",
     "timestamp": 1741056225389,
     "user": {
      "displayName": "JiWoong Yang",
      "userId": "05447232063217391592"
     },
     "user_tz": -540
    },
    "id": "lT-P6TU8VT1G",
    "outputId": "b01a99a7-84e2-4f1f-a9aa-3336dd033695"
   },
   "outputs": [
    {
     "name": "stdout",
     "output_type": "stream",
     "text": [
      "39614\n",
      "39614\n"
     ]
    }
   ],
   "source": [
    "print(len(a_filtered))\n",
    "print(len(b_filtered))"
   ]
  },
  {
   "cell_type": "code",
   "execution_count": null,
   "metadata": {
    "colab": {
     "base_uri": "https://localhost:8080/",
     "height": 81,
     "referenced_widgets": [
      "ea95c96c1db64072b340769bdc83863d",
      "deff5c666466471bb4f4424a788d5ef0",
      "88cd9a8a92584a35be2c8766b29be5ea",
      "f7ec0465bbf44eef926e8689dcf53810",
      "374d96b6c46d47fb961883ab671182f7",
      "7497b12aaee64e1d8363f7584fc1a4a5",
      "5f7b24d25f514d42b1476665eaf78912",
      "c8242b2504fe40aa9e6846149732a1ed",
      "7c6e61ded85345e7b93f73c9434b0589",
      "e9450d019fd843b8ac0340b6cc378e88",
      "1ae51a0e191b40e181cc0ff4b30dce4e",
      "6ae666bfbc0a4f86b435a9b4be23dade",
      "147e0f1f7fef4a1b9212f20130b22b36",
      "3042a11904824a10abf3ddbebbf2b1d4",
      "edda6260755c4df1a010f77c9e413864",
      "52fe32ff5ca44e2b899c3d2547bac0dc",
      "3e3026ca8d114472b10198370cce7218",
      "299b64ee7feb44b08698fcd320acee94",
      "3d136986e37c4d41a399eacb844a90d2",
      "f2925ce10218436bb7911241cb9159ed",
      "0e3d7c158f1f432ea79e894c65e27734",
      "02e7af70b8244674b3ba36162081345e"
     ]
    },
    "executionInfo": {
     "elapsed": 180515,
     "status": "ok",
     "timestamp": 1741056405906,
     "user": {
      "displayName": "JiWoong Yang",
      "userId": "05447232063217391592"
     },
     "user_tz": -540
    },
    "id": "sHT6fKcSU6lS",
    "outputId": "1412d7c8-390b-403f-a186-8b1be20fcb78"
   },
   "outputs": [
    {
     "data": {
      "application/vnd.jupyter.widget-view+json": {
       "model_id": "ea95c96c1db64072b340769bdc83863d",
       "version_major": 2,
       "version_minor": 0
      },
      "text/plain": [
       "Batches:   0%|          | 0/1238 [00:00<?, ?it/s]"
      ]
     },
     "metadata": {},
     "output_type": "display_data"
    },
    {
     "data": {
      "application/vnd.jupyter.widget-view+json": {
       "model_id": "6ae666bfbc0a4f86b435a9b4be23dade",
       "version_major": 2,
       "version_minor": 0
      },
      "text/plain": [
       "Batches:   0%|          | 0/1238 [00:00<?, ?it/s]"
      ]
     },
     "metadata": {},
     "output_type": "display_data"
    }
   ],
   "source": [
    "# 임베딩 32batch size\n",
    "a_embeddings = np.array(model.encode(a_filtered.tolist(), batch_size=32, show_progress_bar=True))\n",
    "b_embeddings = np.array(model.encode(b_filtered.tolist(), batch_size=32, show_progress_bar=True))\n",
    "\n",
    "# 코사인 유사도 계산 (dense_output=False 추가)\n",
    "cos_similarities = np.diag(cosine_similarity(a_embeddings, b_embeddings, dense_output=False))\n",
    "\n",
    "# 결과를 데이터프레임으로 저장\n",
    "x = pd.DataFrame({\n",
    "    '책소개(전처리)': a_filtered,\n",
    "    '간략소개(전처리)': b_filtered,\n",
    "    'Cosine Similarity': cos_similarities\n",
    "})"
   ]
  },
  {
   "cell_type": "code",
   "execution_count": null,
   "metadata": {
    "colab": {
     "base_uri": "https://localhost:8080/",
     "height": 424
    },
    "executionInfo": {
     "elapsed": 7,
     "status": "ok",
     "timestamp": 1741056405918,
     "user": {
      "displayName": "JiWoong Yang",
      "userId": "05447232063217391592"
     },
     "user_tz": -540
    },
    "id": "_5IhfFs_WyS-",
    "outputId": "3b8e4f6d-4933-4178-b161-44c7a02d28ac"
   },
   "outputs": [],
   "source": [
    "## 대부분 한 쪽이 Null인 경우, Cosine Similarity가 낮음\n",
    "\n",
    "x[x['Cosine Similarity'] <= 0.8]\n",
    "\n",
    "## 둘 다 Null이 아니라면??"
   ]
  },
  {
   "cell_type": "code",
   "execution_count": null,
   "metadata": {
    "colab": {
     "base_uri": "https://localhost:8080/"
    },
    "executionInfo": {
     "elapsed": 28,
     "status": "ok",
     "timestamp": 1741056405948,
     "user": {
      "displayName": "JiWoong Yang",
      "userId": "05447232063217391592"
     },
     "user_tz": -540
    },
    "id": "b5ZJ0RnvXpMt",
    "outputId": "e487b1e3-d967-4b04-cdb2-124f831b8fc4"
   },
   "outputs": [
    {
     "name": "stdout",
     "output_type": "stream",
     "text": [
      "19\n"
     ]
    }
   ],
   "source": [
    "# 둘 다 Null이 아닌 경우\n",
    "filtered_x = x[(x['Cosine Similarity'] <= 0.8) & ((x['책소개(전처리)'] != 'None') & (x['간략소개(전처리)'] != 'None'))]\n",
    "print(len(filtered_x))"
   ]
  },
  {
   "cell_type": "code",
   "execution_count": null,
   "metadata": {
    "colab": {
     "base_uri": "https://localhost:8080/",
     "height": 697
    },
    "executionInfo": {
     "elapsed": 107,
     "status": "ok",
     "timestamp": 1741056406057,
     "user": {
      "displayName": "JiWoong Yang",
      "userId": "05447232063217391592"
     },
     "user_tz": -540
    },
    "id": "g8DYPHVjYzKW",
    "outputId": "361e691c-44d2-48b1-df8f-84895ce6d5fe"
   },
   "outputs": [],
   "source": [
    "# 19개 값들 역시 영문이거나 특수기호 차이 or 대부분 비슷함.\n",
    "filtered_x"
   ]
  },
  {
   "cell_type": "code",
   "execution_count": null,
   "metadata": {
    "colab": {
     "base_uri": "https://localhost:8080/"
    },
    "executionInfo": {
     "elapsed": 14,
     "status": "ok",
     "timestamp": 1741056406072,
     "user": {
      "displayName": "JiWoong Yang",
      "userId": "05447232063217391592"
     },
     "user_tz": -540
    },
    "id": "bPCjGOCXd_Ll",
    "outputId": "7852c5b2-1352-4f87-b004-4df6b4ac9c3a"
   },
   "outputs": [
    {
     "name": "stdout",
     "output_type": "stream",
     "text": [
      "[8824, 10857, 10898, 16624, 17473, 20023, 20726, 21341, 25231, 25860, 26041, 27784, 30294, 31497, 33305, 34231, 34280, 36109, 36849]\n"
     ]
    }
   ],
   "source": [
    "index_list = filtered_x.index.tolist()\n",
    "print(index_list)"
   ]
  },
  {
   "cell_type": "markdown",
   "metadata": {
    "id": "lB1KIRlC67jX"
   },
   "source": [
    "### \"책소개\"가 Null이고 \"간략소개\"가 NotNull이라면, \"간략소개\"로 \"책소개\"를 대체"
   ]
  },
  {
   "cell_type": "code",
   "execution_count": null,
   "metadata": {
    "colab": {
     "base_uri": "https://localhost:8080/",
     "height": 363
    },
    "executionInfo": {
     "elapsed": 597,
     "status": "ok",
     "timestamp": 1741056549598,
     "user": {
      "displayName": "JiWoong Yang",
      "userId": "05447232063217391592"
     },
     "user_tz": -540
    },
    "id": "oo1q8qJ8mt9Y",
    "outputId": "fcce2a90-bedd-4680-9f9c-181098701dea"
   },
   "outputs": [],
   "source": [
    "# 책 소개가 null인데, 간략 소개가 notnull인 행은 \"책 소개\"를 \"간략 소개\"로 대체하기\n",
    "\n",
    "data['책소개'] = data.apply(lambda x: x['간략소개'] if pd.isna(x['책소개']) and pd.notna(x['간략소개']) else x['책소개'], axis=1)\n",
    "\n",
    "data[['책소개', '간략소개']].head(10)"
   ]
  },
  {
   "cell_type": "code",
   "execution_count": null,
   "metadata": {
    "colab": {
     "base_uri": "https://localhost:8080/"
    },
    "executionInfo": {
     "elapsed": 4,
     "status": "ok",
     "timestamp": 1741056549712,
     "user": {
      "displayName": "JiWoong Yang",
      "userId": "05447232063217391592"
     },
     "user_tz": -540
    },
    "id": "JqxyQVasm50k",
    "outputId": "5008c78b-def1-4588-93fa-f7f21489f8a4"
   },
   "outputs": [
    {
     "data": {
      "text/plain": [
       "1351"
      ]
     },
     "execution_count": 9,
     "metadata": {},
     "output_type": "execute_result"
    }
   ],
   "source": [
    "# \"책소개\"와 \"간략소개\" 둘 다 Null인 값들 1351개\n",
    "data['책소개'].isnull().sum()"
   ]
  },
  {
   "cell_type": "code",
   "execution_count": null,
   "metadata": {
    "id": "zGjAlb9Xmdy5"
   },
   "outputs": [],
   "source": [
    "# \"제목\"과 합쳐진 \"부제\" & \"책소개\"와 합쳐진 \"간략소개\" drop\n",
    "data = data.drop(columns=['부제','간략소개'])"
   ]
  },
  {
   "cell_type": "code",
   "execution_count": null,
   "metadata": {
    "colab": {
     "base_uri": "https://localhost:8080/"
    },
    "executionInfo": {
     "elapsed": 104,
     "status": "ok",
     "timestamp": 1741056551575,
     "user": {
      "displayName": "JiWoong Yang",
      "userId": "05447232063217391592"
     },
     "user_tz": -540
    },
    "id": "gHDKQX2OnzcY",
    "outputId": "1e59a875-56d4-4821-cbb5-11c2896f5b3d"
   },
   "outputs": [
    {
     "name": "stdout",
     "output_type": "stream",
     "text": [
      "<class 'pandas.core.frame.DataFrame'>\n",
      "RangeIndex: 50000 entries, 0 to 49999\n",
      "Data columns (total 19 columns):\n",
      " #   Column       Non-Null Count  Dtype  \n",
      "---  ------       --------------  -----  \n",
      " 0   ISBN         50000 non-null  object \n",
      " 1   ITEM_ID      50000 non-null  int64  \n",
      " 2   BID          42652 non-null  float64\n",
      " 3   GOODS_NO     7348 non-null   float64\n",
      " 4   분류           46967 non-null  object \n",
      " 5   제목           50000 non-null  object \n",
      " 6   원제           4506 non-null   object \n",
      " 7   저자           50000 non-null  object \n",
      " 8   발행자          50000 non-null  object \n",
      " 9   발행일          50000 non-null  object \n",
      " 10  페이지          50000 non-null  int64  \n",
      " 11  가격           50000 non-null  int64  \n",
      " 12  표지           50000 non-null  object \n",
      " 13  책소개          48649 non-null  object \n",
      " 14  저자소개         37934 non-null  object \n",
      " 15  목차           45459 non-null  object \n",
      " 16  출판사리뷰        29156 non-null  object \n",
      " 17  INSERT_DATE  50000 non-null  object \n",
      " 18  UPDATE_DATE  10000 non-null  object \n",
      "dtypes: float64(2), int64(3), object(14)\n",
      "memory usage: 7.2+ MB\n"
     ]
    }
   ],
   "source": [
    "data.info()"
   ]
  },
  {
   "cell_type": "markdown",
   "metadata": {
    "id": "L2vJxzSpNb_-"
   },
   "source": [
    "### 가격 & 페이지"
   ]
  },
  {
   "cell_type": "code",
   "execution_count": null,
   "metadata": {
    "colab": {
     "base_uri": "https://localhost:8080/"
    },
    "executionInfo": {
     "elapsed": 15,
     "status": "ok",
     "timestamp": 1741056596737,
     "user": {
      "displayName": "JiWoong Yang",
      "userId": "05447232063217391592"
     },
     "user_tz": -540
    },
    "id": "rcvCNWwc-H_r",
    "outputId": "885b61bd-db20-4891-f64a-5bdbfefbf393"
   },
   "outputs": [
    {
     "data": {
      "text/plain": [
       "(12839481, 0)"
      ]
     },
     "execution_count": 19,
     "metadata": {},
     "output_type": "execute_result"
    }
   ],
   "source": [
    "data['페이지'].max(),data['페이지'].min()"
   ]
  },
  {
   "cell_type": "code",
   "execution_count": null,
   "metadata": {
    "colab": {
     "base_uri": "https://localhost:8080/",
     "height": 1000
    },
    "executionInfo": {
     "elapsed": 131,
     "status": "ok",
     "timestamp": 1741057363980,
     "user": {
      "displayName": "JiWoong Yang",
      "userId": "05447232063217391592"
     },
     "user_tz": -540
    },
    "id": "HlsYPL2CD5Et",
    "outputId": "d44a5db9-0b5d-4926-ff22-2276c6847947"
   },
   "outputs": [],
   "source": [
    "pd.set_option('display.max_rows', None)\n",
    "pd.set_option('display.max_columns', None)\n",
    "data[['제목','페이지','가격']].loc[data['페이지']>=3000]\n",
    "\n",
    "## 전집이 아닌"
   ]
  },
  {
   "cell_type": "code",
   "execution_count": null,
   "metadata": {
    "id": "aeF8tnUGIQI_"
   },
   "outputs": [],
   "source": [
    "# 제목/페이지/가격\n",
    "# 밀리몰리맨디 이야기 2_깜짝 선물을 받아요\t188180\t12000\n",
    "# 혐오의 시대, 철학의 응답_모욕당한 자들의 반격을 위한 언어를 찾아서\t9626460\t9800\n",
    "# 군무원 15일 완성 행정직_국방부 및 육군·해군·공군·해병대 9급 군무원 채용 대비...\t13350\t15000\n",
    "# 20세기 공간 이론_Spatial Theories in the Twentieth C...\t28000\t15000\n",
    "# 인형의 집\t9800\t9800\n",
    "# 자동차 전기장치(신편)\t20000\t20000\n",
    "# 교사, 다시 뛰자!_교사가 행복해야 아이들이 산다\t12839481\t9800"
   ]
  },
  {
   "cell_type": "code",
   "execution_count": null,
   "metadata": {
    "colab": {
     "base_uri": "https://localhost:8080/",
     "height": 112
    },
    "executionInfo": {
     "elapsed": 13,
     "status": "ok",
     "timestamp": 1741058199324,
     "user": {
      "displayName": "JiWoong Yang",
      "userId": "05447232063217391592"
     },
     "user_tz": -540
    },
    "id": "LIw0EmYiJwnc",
    "outputId": "06bb13ca-cb69-4b4e-f06c-0063f0078047"
   },
   "outputs": [
    {
     "data": {
      "application/vnd.google.colaboratory.intrinsic+json": {
       "summary": "{\n  \"name\": \"data[['\\uc81c\\ubaa9','\\ud398\\uc774\\uc9c0','\\uac00\\uaca9']]\",\n  \"rows\": 2,\n  \"fields\": [\n    {\n      \"column\": \"\\uc81c\\ubaa9\",\n      \"properties\": {\n        \"dtype\": \"string\",\n        \"num_unique_values\": 2,\n        \"samples\": [\n          \"\\uc790\\ub3d9\\ucc28 \\uc804\\uae30\\uc7a5\\uce58(\\uc2e0\\ud3b8)\",\n          \"\\uc778\\ud615\\uc758 \\uc9d1\"\n        ],\n        \"semantic_type\": \"\",\n        \"description\": \"\"\n      }\n    },\n    {\n      \"column\": \"\\ud398\\uc774\\uc9c0\",\n      \"properties\": {\n        \"dtype\": \"number\",\n        \"std\": 7212,\n        \"min\": 9800,\n        \"max\": 20000,\n        \"num_unique_values\": 2,\n        \"samples\": [\n          20000,\n          9800\n        ],\n        \"semantic_type\": \"\",\n        \"description\": \"\"\n      }\n    },\n    {\n      \"column\": \"\\uac00\\uaca9\",\n      \"properties\": {\n        \"dtype\": \"number\",\n        \"std\": 7212,\n        \"min\": 9800,\n        \"max\": 20000,\n        \"num_unique_values\": 2,\n        \"samples\": [\n          20000,\n          9800\n        ],\n        \"semantic_type\": \"\",\n        \"description\": \"\"\n      }\n    }\n  ]\n}",
       "type": "dataframe"
      },
      "text/html": [
       "\n",
       "  <div id=\"df-b3a446c2-20c8-4597-b02f-3eab2506a75c\" class=\"colab-df-container\">\n",
       "    <div>\n",
       "<style scoped>\n",
       "    .dataframe tbody tr th:only-of-type {\n",
       "        vertical-align: middle;\n",
       "    }\n",
       "\n",
       "    .dataframe tbody tr th {\n",
       "        vertical-align: top;\n",
       "    }\n",
       "\n",
       "    .dataframe thead th {\n",
       "        text-align: right;\n",
       "    }\n",
       "</style>\n",
       "<table border=\"1\" class=\"dataframe\">\n",
       "  <thead>\n",
       "    <tr style=\"text-align: right;\">\n",
       "      <th></th>\n",
       "      <th>제목</th>\n",
       "      <th>페이지</th>\n",
       "      <th>가격</th>\n",
       "    </tr>\n",
       "  </thead>\n",
       "  <tbody>\n",
       "    <tr>\n",
       "      <th>40612</th>\n",
       "      <td>인형의 집</td>\n",
       "      <td>9800</td>\n",
       "      <td>9800</td>\n",
       "    </tr>\n",
       "    <tr>\n",
       "      <th>40874</th>\n",
       "      <td>자동차 전기장치(신편)</td>\n",
       "      <td>20000</td>\n",
       "      <td>20000</td>\n",
       "    </tr>\n",
       "  </tbody>\n",
       "</table>\n",
       "</div>\n",
       "    <div class=\"colab-df-buttons\">\n",
       "\n",
       "  <div class=\"colab-df-container\">\n",
       "    <button class=\"colab-df-convert\" onclick=\"convertToInteractive('df-b3a446c2-20c8-4597-b02f-3eab2506a75c')\"\n",
       "            title=\"Convert this dataframe to an interactive table.\"\n",
       "            style=\"display:none;\">\n",
       "\n",
       "  <svg xmlns=\"http://www.w3.org/2000/svg\" height=\"24px\" viewBox=\"0 -960 960 960\">\n",
       "    <path d=\"M120-120v-720h720v720H120Zm60-500h600v-160H180v160Zm220 220h160v-160H400v160Zm0 220h160v-160H400v160ZM180-400h160v-160H180v160Zm440 0h160v-160H620v160ZM180-180h160v-160H180v160Zm440 0h160v-160H620v160Z\"/>\n",
       "  </svg>\n",
       "    </button>\n",
       "\n",
       "  <style>\n",
       "    .colab-df-container {\n",
       "      display:flex;\n",
       "      gap: 12px;\n",
       "    }\n",
       "\n",
       "    .colab-df-convert {\n",
       "      background-color: #E8F0FE;\n",
       "      border: none;\n",
       "      border-radius: 50%;\n",
       "      cursor: pointer;\n",
       "      display: none;\n",
       "      fill: #1967D2;\n",
       "      height: 32px;\n",
       "      padding: 0 0 0 0;\n",
       "      width: 32px;\n",
       "    }\n",
       "\n",
       "    .colab-df-convert:hover {\n",
       "      background-color: #E2EBFA;\n",
       "      box-shadow: 0px 1px 2px rgba(60, 64, 67, 0.3), 0px 1px 3px 1px rgba(60, 64, 67, 0.15);\n",
       "      fill: #174EA6;\n",
       "    }\n",
       "\n",
       "    .colab-df-buttons div {\n",
       "      margin-bottom: 4px;\n",
       "    }\n",
       "\n",
       "    [theme=dark] .colab-df-convert {\n",
       "      background-color: #3B4455;\n",
       "      fill: #D2E3FC;\n",
       "    }\n",
       "\n",
       "    [theme=dark] .colab-df-convert:hover {\n",
       "      background-color: #434B5C;\n",
       "      box-shadow: 0px 1px 3px 1px rgba(0, 0, 0, 0.15);\n",
       "      filter: drop-shadow(0px 1px 2px rgba(0, 0, 0, 0.3));\n",
       "      fill: #FFFFFF;\n",
       "    }\n",
       "  </style>\n",
       "\n",
       "    <script>\n",
       "      const buttonEl =\n",
       "        document.querySelector('#df-b3a446c2-20c8-4597-b02f-3eab2506a75c button.colab-df-convert');\n",
       "      buttonEl.style.display =\n",
       "        google.colab.kernel.accessAllowed ? 'block' : 'none';\n",
       "\n",
       "      async function convertToInteractive(key) {\n",
       "        const element = document.querySelector('#df-b3a446c2-20c8-4597-b02f-3eab2506a75c');\n",
       "        const dataTable =\n",
       "          await google.colab.kernel.invokeFunction('convertToInteractive',\n",
       "                                                    [key], {});\n",
       "        if (!dataTable) return;\n",
       "\n",
       "        const docLinkHtml = 'Like what you see? Visit the ' +\n",
       "          '<a target=\"_blank\" href=https://colab.research.google.com/notebooks/data_table.ipynb>data table notebook</a>'\n",
       "          + ' to learn more about interactive tables.';\n",
       "        element.innerHTML = '';\n",
       "        dataTable['output_type'] = 'display_data';\n",
       "        await google.colab.output.renderOutput(dataTable, element);\n",
       "        const docLink = document.createElement('div');\n",
       "        docLink.innerHTML = docLinkHtml;\n",
       "        element.appendChild(docLink);\n",
       "      }\n",
       "    </script>\n",
       "  </div>\n",
       "\n",
       "\n",
       "<div id=\"df-ef68864c-0621-4c2b-af33-be153879de24\">\n",
       "  <button class=\"colab-df-quickchart\" onclick=\"quickchart('df-ef68864c-0621-4c2b-af33-be153879de24')\"\n",
       "            title=\"Suggest charts\"\n",
       "            style=\"display:none;\">\n",
       "\n",
       "<svg xmlns=\"http://www.w3.org/2000/svg\" height=\"24px\"viewBox=\"0 0 24 24\"\n",
       "     width=\"24px\">\n",
       "    <g>\n",
       "        <path d=\"M19 3H5c-1.1 0-2 .9-2 2v14c0 1.1.9 2 2 2h14c1.1 0 2-.9 2-2V5c0-1.1-.9-2-2-2zM9 17H7v-7h2v7zm4 0h-2V7h2v10zm4 0h-2v-4h2v4z\"/>\n",
       "    </g>\n",
       "</svg>\n",
       "  </button>\n",
       "\n",
       "<style>\n",
       "  .colab-df-quickchart {\n",
       "      --bg-color: #E8F0FE;\n",
       "      --fill-color: #1967D2;\n",
       "      --hover-bg-color: #E2EBFA;\n",
       "      --hover-fill-color: #174EA6;\n",
       "      --disabled-fill-color: #AAA;\n",
       "      --disabled-bg-color: #DDD;\n",
       "  }\n",
       "\n",
       "  [theme=dark] .colab-df-quickchart {\n",
       "      --bg-color: #3B4455;\n",
       "      --fill-color: #D2E3FC;\n",
       "      --hover-bg-color: #434B5C;\n",
       "      --hover-fill-color: #FFFFFF;\n",
       "      --disabled-bg-color: #3B4455;\n",
       "      --disabled-fill-color: #666;\n",
       "  }\n",
       "\n",
       "  .colab-df-quickchart {\n",
       "    background-color: var(--bg-color);\n",
       "    border: none;\n",
       "    border-radius: 50%;\n",
       "    cursor: pointer;\n",
       "    display: none;\n",
       "    fill: var(--fill-color);\n",
       "    height: 32px;\n",
       "    padding: 0;\n",
       "    width: 32px;\n",
       "  }\n",
       "\n",
       "  .colab-df-quickchart:hover {\n",
       "    background-color: var(--hover-bg-color);\n",
       "    box-shadow: 0 1px 2px rgba(60, 64, 67, 0.3), 0 1px 3px 1px rgba(60, 64, 67, 0.15);\n",
       "    fill: var(--button-hover-fill-color);\n",
       "  }\n",
       "\n",
       "  .colab-df-quickchart-complete:disabled,\n",
       "  .colab-df-quickchart-complete:disabled:hover {\n",
       "    background-color: var(--disabled-bg-color);\n",
       "    fill: var(--disabled-fill-color);\n",
       "    box-shadow: none;\n",
       "  }\n",
       "\n",
       "  .colab-df-spinner {\n",
       "    border: 2px solid var(--fill-color);\n",
       "    border-color: transparent;\n",
       "    border-bottom-color: var(--fill-color);\n",
       "    animation:\n",
       "      spin 1s steps(1) infinite;\n",
       "  }\n",
       "\n",
       "  @keyframes spin {\n",
       "    0% {\n",
       "      border-color: transparent;\n",
       "      border-bottom-color: var(--fill-color);\n",
       "      border-left-color: var(--fill-color);\n",
       "    }\n",
       "    20% {\n",
       "      border-color: transparent;\n",
       "      border-left-color: var(--fill-color);\n",
       "      border-top-color: var(--fill-color);\n",
       "    }\n",
       "    30% {\n",
       "      border-color: transparent;\n",
       "      border-left-color: var(--fill-color);\n",
       "      border-top-color: var(--fill-color);\n",
       "      border-right-color: var(--fill-color);\n",
       "    }\n",
       "    40% {\n",
       "      border-color: transparent;\n",
       "      border-right-color: var(--fill-color);\n",
       "      border-top-color: var(--fill-color);\n",
       "    }\n",
       "    60% {\n",
       "      border-color: transparent;\n",
       "      border-right-color: var(--fill-color);\n",
       "    }\n",
       "    80% {\n",
       "      border-color: transparent;\n",
       "      border-right-color: var(--fill-color);\n",
       "      border-bottom-color: var(--fill-color);\n",
       "    }\n",
       "    90% {\n",
       "      border-color: transparent;\n",
       "      border-bottom-color: var(--fill-color);\n",
       "    }\n",
       "  }\n",
       "</style>\n",
       "\n",
       "  <script>\n",
       "    async function quickchart(key) {\n",
       "      const quickchartButtonEl =\n",
       "        document.querySelector('#' + key + ' button');\n",
       "      quickchartButtonEl.disabled = true;  // To prevent multiple clicks.\n",
       "      quickchartButtonEl.classList.add('colab-df-spinner');\n",
       "      try {\n",
       "        const charts = await google.colab.kernel.invokeFunction(\n",
       "            'suggestCharts', [key], {});\n",
       "      } catch (error) {\n",
       "        console.error('Error during call to suggestCharts:', error);\n",
       "      }\n",
       "      quickchartButtonEl.classList.remove('colab-df-spinner');\n",
       "      quickchartButtonEl.classList.add('colab-df-quickchart-complete');\n",
       "    }\n",
       "    (() => {\n",
       "      let quickchartButtonEl =\n",
       "        document.querySelector('#df-ef68864c-0621-4c2b-af33-be153879de24 button');\n",
       "      quickchartButtonEl.style.display =\n",
       "        google.colab.kernel.accessAllowed ? 'block' : 'none';\n",
       "    })();\n",
       "  </script>\n",
       "</div>\n",
       "\n",
       "    </div>\n",
       "  </div>\n"
      ],
      "text/plain": [
       "                 제목    페이지     가격\n",
       "40612         인형의 집   9800   9800\n",
       "40874  자동차 전기장치(신편)  20000  20000"
      ]
     },
     "execution_count": 37,
     "metadata": {},
     "output_type": "execute_result"
    }
   ],
   "source": [
    "data[['제목','페이지','가격']].loc[(data['가격'] == data['페이지'])]"
   ]
  },
  {
   "cell_type": "code",
   "execution_count": null,
   "metadata": {
    "colab": {
     "base_uri": "https://localhost:8080/",
     "height": 1000
    },
    "executionInfo": {
     "elapsed": 125,
     "status": "ok",
     "timestamp": 1741058412064,
     "user": {
      "displayName": "JiWoong Yang",
      "userId": "05447232063217391592"
     },
     "user_tz": -540
    },
    "id": "f6q-8s9GKoh7",
    "outputId": "cf5202de-231b-4245-b251-12c21e659d86"
   },
   "outputs": [],
   "source": [
    "data[['제목','페이지','가격']].loc[(data['페이지'] == 0)]"
   ]
  },
  {
   "cell_type": "code",
   "execution_count": null,
   "metadata": {
    "colab": {
     "base_uri": "https://localhost:8080/",
     "height": 1000
    },
    "executionInfo": {
     "elapsed": 84,
     "status": "ok",
     "timestamp": 1741057546884,
     "user": {
      "displayName": "JiWoong Yang",
      "userId": "05447232063217391592"
     },
     "user_tz": -540
    },
    "id": "5PgKawiqG8r5",
    "outputId": "f7d7e595-f57a-4288-97ab-0d025ff6a9cf"
   },
   "outputs": [],
   "source": [
    "data[['제목','페이지','가격']].loc[(data['가격'] <= 30000) & (data['페이지'] >= 1000)]"
   ]
  },
  {
   "cell_type": "code",
   "execution_count": null,
   "metadata": {
    "id": "HTJRmN3nLEAi"
   },
   "outputs": [],
   "source": [
    "# 28241, 33901, 34820, 37747, 40612, 40874, 44538\n",
    "# 해당 인덱스번호 페이지는 알수없음(0)\n",
    "a = [28241, 33901, 34820, 37747, 40612, 40874, 44538]\n",
    "data.loc[data.index.isin(a),'페이지'] = 0"
   ]
  },
  {
   "cell_type": "code",
   "execution_count": null,
   "metadata": {
    "colab": {
     "base_uri": "https://localhost:8080/",
     "height": 304
    },
    "executionInfo": {
     "elapsed": 16,
     "status": "ok",
     "timestamp": 1741058845813,
     "user": {
      "displayName": "JiWoong Yang",
      "userId": "05447232063217391592"
     },
     "user_tz": -540
    },
    "id": "SOStRo0NMaS3",
    "outputId": "5208cb32-ca2e-4102-a8ce-e78367ff1992"
   },
   "outputs": [],
   "source": [
    "data.loc[data.index.isin(a),'페이지']"
   ]
  },
  {
   "cell_type": "code",
   "execution_count": null,
   "metadata": {
    "colab": {
     "base_uri": "https://localhost:8080/"
    },
    "executionInfo": {
     "elapsed": 96,
     "status": "ok",
     "timestamp": 1741058853576,
     "user": {
      "displayName": "JiWoong Yang",
      "userId": "05447232063217391592"
     },
     "user_tz": -540
    },
    "id": "AbXDSN1aG8aM",
    "outputId": "f064e016-d173-40b6-b1e3-15c26e60928d"
   },
   "outputs": [
    {
     "name": "stderr",
     "output_type": "stream",
     "text": [
      "<ipython-input-43-056908e7e3ef>:1: FutureWarning: data_manager option is deprecated and will be removed in a future version. Only the BlockManager will be available.\n",
      "  pd.reset_option('all')\n",
      "<ipython-input-43-056908e7e3ef>:1: FutureWarning: use_inf_as_na option is deprecated and will be removed in a future version. Convert inf values to NaN before operating instead.\n",
      "  pd.reset_option('all')\n"
     ]
    }
   ],
   "source": [
    "pd.reset_option('all')"
   ]
  },
  {
   "cell_type": "code",
   "execution_count": null,
   "metadata": {
    "colab": {
     "base_uri": "https://localhost:8080/"
    },
    "executionInfo": {
     "elapsed": 42,
     "status": "ok",
     "timestamp": 1741059006681,
     "user": {
      "displayName": "JiWoong Yang",
      "userId": "05447232063217391592"
     },
     "user_tz": -540
    },
    "id": "1SjCJL4_MkGP",
    "outputId": "ef3bf864-49a6-4e3a-efe3-9a9b7e4bb2a7"
   },
   "outputs": [
    {
     "name": "stdout",
     "output_type": "stream",
     "text": [
      "최대 가격 : 980000, 최소 가격 : 1000\n",
      "최대 페이지지 : 20160, 최소 페이지 : 0\n"
     ]
    }
   ],
   "source": [
    "print(f\"최대 가격 : {data['가격'].max()}, 최소 가격 : {data['가격'].min()}\")\n",
    "print(f\"최대 페이지지 : {data['페이지'].max()}, 최소 페이지 : {data['페이지'].min()}\")"
   ]
  },
  {
   "cell_type": "code",
   "execution_count": null,
   "metadata": {
    "colab": {
     "base_uri": "https://localhost:8080/",
     "height": 458
    },
    "executionInfo": {
     "elapsed": 22,
     "status": "ok",
     "timestamp": 1741059077470,
     "user": {
      "displayName": "JiWoong Yang",
      "userId": "05447232063217391592"
     },
     "user_tz": -540
    },
    "id": "hsSRpWqsNRR4",
    "outputId": "9dbf52f2-340f-4570-cba3-71e4b9ca35e4"
   },
   "outputs": [],
   "source": [
    "data['가격']"
   ]
  },
  {
   "cell_type": "code",
   "execution_count": null,
   "metadata": {
    "colab": {
     "base_uri": "https://localhost:8080/",
     "height": 458
    },
    "executionInfo": {
     "elapsed": 20,
     "status": "ok",
     "timestamp": 1741059079718,
     "user": {
      "displayName": "JiWoong Yang",
      "userId": "05447232063217391592"
     },
     "user_tz": -540
    },
    "id": "GBT6Xta2NSTL",
    "outputId": "e00e9610-1ebd-4495-894b-f7d10e110d47"
   },
   "outputs": [],
   "source": [
    "data['페이지']"
   ]
  },
  {
   "cell_type": "code",
   "execution_count": null,
   "metadata": {
    "id": "35Y8BSqA9pA0"
   },
   "outputs": [],
   "source": [
    "# 각 범위에 맞게 메모리 조정\n",
    "data['가격'] = data['가격'].astype('int32')\n",
    "data['페이지'] = data['페이지'].astype('int16')"
   ]
  },
  {
   "cell_type": "code",
   "execution_count": null,
   "metadata": {
    "colab": {
     "base_uri": "https://localhost:8080/",
     "height": 458
    },
    "executionInfo": {
     "elapsed": 37,
     "status": "ok",
     "timestamp": 1741059086523,
     "user": {
      "displayName": "JiWoong Yang",
      "userId": "05447232063217391592"
     },
     "user_tz": -540
    },
    "id": "K_Hvg-yTNUl_",
    "outputId": "8a41ec2e-1774-426a-e190-1fdf2b6b5861"
   },
   "outputs": [
    {
     "data": {
      "text/html": [
       "<div>\n",
       "<style scoped>\n",
       "    .dataframe tbody tr th:only-of-type {\n",
       "        vertical-align: middle;\n",
       "    }\n",
       "\n",
       "    .dataframe tbody tr th {\n",
       "        vertical-align: top;\n",
       "    }\n",
       "\n",
       "    .dataframe thead th {\n",
       "        text-align: right;\n",
       "    }\n",
       "</style>\n",
       "<table border=\"1\" class=\"dataframe\">\n",
       "  <thead>\n",
       "    <tr style=\"text-align: right;\">\n",
       "      <th></th>\n",
       "      <th>가격</th>\n",
       "    </tr>\n",
       "  </thead>\n",
       "  <tbody>\n",
       "    <tr>\n",
       "      <th>0</th>\n",
       "      <td>15000</td>\n",
       "    </tr>\n",
       "    <tr>\n",
       "      <th>1</th>\n",
       "      <td>28000</td>\n",
       "    </tr>\n",
       "    <tr>\n",
       "      <th>2</th>\n",
       "      <td>16000</td>\n",
       "    </tr>\n",
       "    <tr>\n",
       "      <th>3</th>\n",
       "      <td>18000</td>\n",
       "    </tr>\n",
       "    <tr>\n",
       "      <th>4</th>\n",
       "      <td>13000</td>\n",
       "    </tr>\n",
       "    <tr>\n",
       "      <th>...</th>\n",
       "      <td>...</td>\n",
       "    </tr>\n",
       "    <tr>\n",
       "      <th>49995</th>\n",
       "      <td>10000</td>\n",
       "    </tr>\n",
       "    <tr>\n",
       "      <th>49996</th>\n",
       "      <td>13000</td>\n",
       "    </tr>\n",
       "    <tr>\n",
       "      <th>49997</th>\n",
       "      <td>11800</td>\n",
       "    </tr>\n",
       "    <tr>\n",
       "      <th>49998</th>\n",
       "      <td>5000</td>\n",
       "    </tr>\n",
       "    <tr>\n",
       "      <th>49999</th>\n",
       "      <td>30000</td>\n",
       "    </tr>\n",
       "  </tbody>\n",
       "</table>\n",
       "<p>50000 rows × 1 columns</p>\n",
       "</div><br><label><b>dtype:</b> int32</label>"
      ],
      "text/plain": [
       "0        15000\n",
       "1        28000\n",
       "2        16000\n",
       "3        18000\n",
       "4        13000\n",
       "         ...  \n",
       "49995    10000\n",
       "49996    13000\n",
       "49997    11800\n",
       "49998     5000\n",
       "49999    30000\n",
       "Name: 가격, Length: 50000, dtype: int32"
      ]
     },
     "execution_count": 52,
     "metadata": {},
     "output_type": "execute_result"
    }
   ],
   "source": [
    "data['가격']"
   ]
  },
  {
   "cell_type": "code",
   "execution_count": null,
   "metadata": {
    "colab": {
     "base_uri": "https://localhost:8080/",
     "height": 458
    },
    "executionInfo": {
     "elapsed": 18,
     "status": "ok",
     "timestamp": 1741059093047,
     "user": {
      "displayName": "JiWoong Yang",
      "userId": "05447232063217391592"
     },
     "user_tz": -540
    },
    "id": "i2NvZm0WNVsI",
    "outputId": "d1b9b5ab-9522-485d-f107-a76d39e317c0"
   },
   "outputs": [],
   "source": [
    "data['페이지']"
   ]
  },
  {
   "cell_type": "code",
   "execution_count": null,
   "metadata": {
    "colab": {
     "base_uri": "https://localhost:8080/"
    },
    "executionInfo": {
     "elapsed": 84,
     "status": "ok",
     "timestamp": 1741059139100,
     "user": {
      "displayName": "JiWoong Yang",
      "userId": "05447232063217391592"
     },
     "user_tz": -540
    },
    "id": "-ZDIM5eE-EgJ",
    "outputId": "f7ebf973-ef16-4b01-aef1-082543e97441"
   },
   "outputs": [
    {
     "name": "stdout",
     "output_type": "stream",
     "text": [
      "<class 'pandas.core.frame.DataFrame'>\n",
      "RangeIndex: 50000 entries, 0 to 49999\n",
      "Data columns (total 19 columns):\n",
      " #   Column       Non-Null Count  Dtype  \n",
      "---  ------       --------------  -----  \n",
      " 0   ISBN         50000 non-null  object \n",
      " 1   ITEM_ID      50000 non-null  int64  \n",
      " 2   BID          42652 non-null  float64\n",
      " 3   GOODS_NO     7348 non-null   float64\n",
      " 4   분류           46967 non-null  object \n",
      " 5   제목           50000 non-null  object \n",
      " 6   원제           4506 non-null   object \n",
      " 7   저자           50000 non-null  object \n",
      " 8   발행자          50000 non-null  object \n",
      " 9   발행일          50000 non-null  object \n",
      " 10  페이지          50000 non-null  int16  \n",
      " 11  가격           50000 non-null  int32  \n",
      " 12  표지           50000 non-null  object \n",
      " 13  책소개          48649 non-null  object \n",
      " 14  저자소개         37934 non-null  object \n",
      " 15  목차           45459 non-null  object \n",
      " 16  출판사리뷰        29156 non-null  object \n",
      " 17  INSERT_DATE  50000 non-null  object \n",
      " 18  UPDATE_DATE  10000 non-null  object \n",
      "dtypes: float64(2), int16(1), int32(1), int64(1), object(14)\n",
      "memory usage: 6.8+ MB\n"
     ]
    }
   ],
   "source": [
    "data.info()"
   ]
  },
  {
   "cell_type": "markdown",
   "metadata": {
    "id": "Lt6hTJkzNmvJ"
   },
   "source": [
    "### 발행자 & 발행일"
   ]
  },
  {
   "cell_type": "code",
   "execution_count": null,
   "metadata": {
    "colab": {
     "base_uri": "https://localhost:8080/",
     "height": 458
    },
    "executionInfo": {
     "elapsed": 25,
     "status": "ok",
     "timestamp": 1741054947706,
     "user": {
      "displayName": "JiWoong Yang",
      "userId": "05447232063217391592"
     },
     "user_tz": -540
    },
    "id": "rE0DS_RJ9iOT",
    "outputId": "a97c800f-f840-473f-c106-b22fa335a381"
   },
   "outputs": [],
   "source": [
    "data['발행자']"
   ]
  },
  {
   "cell_type": "code",
   "execution_count": null,
   "metadata": {
    "colab": {
     "base_uri": "https://localhost:8080/",
     "height": 458
    },
    "executionInfo": {
     "elapsed": 46,
     "status": "ok",
     "timestamp": 1741059165833,
     "user": {
      "displayName": "JiWoong Yang",
      "userId": "05447232063217391592"
     },
     "user_tz": -540
    },
    "id": "UrJ-eB6bMyYy",
    "outputId": "44a2dd4b-511b-4cc8-b845-3f842a8c7442"
   },
   "outputs": [],
   "source": [
    "# 발행일에 시간이 중요한가?\n",
    "# T15:00:00.000Z : UTC 기준 시간정보\n",
    "data['발행일']"
   ]
  },
  {
   "cell_type": "code",
   "execution_count": null,
   "metadata": {
    "id": "_F2_H2aSN5w6"
   },
   "outputs": [],
   "source": [
    "data['발행일'] = data['발행일'].str.split('T').str[0]\n",
    "data['발행일'] = pd.to_datetime(data['발행일']).dt.date # 그냥 object로 냅두기"
   ]
  },
  {
   "cell_type": "code",
   "execution_count": null,
   "metadata": {
    "colab": {
     "base_uri": "https://localhost:8080/"
    },
    "executionInfo": {
     "elapsed": 120,
     "status": "ok",
     "timestamp": 1741059406365,
     "user": {
      "displayName": "JiWoong Yang",
      "userId": "05447232063217391592"
     },
     "user_tz": -540
    },
    "id": "UW0KaPXvOOJz",
    "outputId": "a3b7573f-81f9-4d00-bc5f-9f7c89a80ae7"
   },
   "outputs": [
    {
     "name": "stdout",
     "output_type": "stream",
     "text": [
      "<class 'pandas.core.frame.DataFrame'>\n",
      "RangeIndex: 50000 entries, 0 to 49999\n",
      "Data columns (total 19 columns):\n",
      " #   Column       Non-Null Count  Dtype  \n",
      "---  ------       --------------  -----  \n",
      " 0   ISBN         50000 non-null  object \n",
      " 1   ITEM_ID      50000 non-null  int64  \n",
      " 2   BID          42652 non-null  float64\n",
      " 3   GOODS_NO     7348 non-null   float64\n",
      " 4   분류           46967 non-null  object \n",
      " 5   제목           50000 non-null  object \n",
      " 6   원제           4506 non-null   object \n",
      " 7   저자           50000 non-null  object \n",
      " 8   발행자          50000 non-null  object \n",
      " 9   발행일          50000 non-null  object \n",
      " 10  페이지          50000 non-null  int16  \n",
      " 11  가격           50000 non-null  int32  \n",
      " 12  표지           50000 non-null  object \n",
      " 13  책소개          48649 non-null  object \n",
      " 14  저자소개         37934 non-null  object \n",
      " 15  목차           45459 non-null  object \n",
      " 16  출판사리뷰        29156 non-null  object \n",
      " 17  INSERT_DATE  50000 non-null  object \n",
      " 18  UPDATE_DATE  10000 non-null  object \n",
      "dtypes: float64(2), int16(1), int32(1), int64(1), object(14)\n",
      "memory usage: 6.8+ MB\n"
     ]
    }
   ],
   "source": [
    "data.info()"
   ]
  },
  {
   "cell_type": "code",
   "execution_count": null,
   "metadata": {
    "id": "FXNQHpl53f5p"
   },
   "outputs": [],
   "source": [
    "save_path = \"\"\n",
    "\n",
    "# CSV\n",
    "data.to_csv(save_path, encoding='utf-8', index=False)"
   ]
  }
 ],
 "metadata": {
  "colab": {
   "authorship_tag": "ABX9TyMTuyCi8YTdu/xhlamsMuqP",
   "mount_file_id": "1ZaX84ITo8nKwSc61tbwKnj7-xqTRtG0m",
   "provenance": []
  },
  "kernelspec": {
   "display_name": "Python 3",
   "name": "python3"
  },
  "language_info": {
   "name": "python"
  },
  "widgets": {
   "application/vnd.jupyter.widget-state+json": {
    "02e7af70b8244674b3ba36162081345e": {
     "model_module": "@jupyter-widgets/controls",
     "model_module_version": "1.5.0",
     "model_name": "DescriptionStyleModel",
     "state": {
      "_model_module": "@jupyter-widgets/controls",
      "_model_module_version": "1.5.0",
      "_model_name": "DescriptionStyleModel",
      "_view_count": null,
      "_view_module": "@jupyter-widgets/base",
      "_view_module_version": "1.2.0",
      "_view_name": "StyleView",
      "description_width": ""
     }
    },
    "034ae1ab6c0c4a88a2a3023e243bbbb3": {
     "model_module": "@jupyter-widgets/controls",
     "model_module_version": "1.5.0",
     "model_name": "DescriptionStyleModel",
     "state": {
      "_model_module": "@jupyter-widgets/controls",
      "_model_module_version": "1.5.0",
      "_model_name": "DescriptionStyleModel",
      "_view_count": null,
      "_view_module": "@jupyter-widgets/base",
      "_view_module_version": "1.2.0",
      "_view_name": "StyleView",
      "description_width": ""
     }
    },
    "03f916308ad54b49ac6ee4a4b6afd289": {
     "model_module": "@jupyter-widgets/controls",
     "model_module_version": "1.5.0",
     "model_name": "DescriptionStyleModel",
     "state": {
      "_model_module": "@jupyter-widgets/controls",
      "_model_module_version": "1.5.0",
      "_model_name": "DescriptionStyleModel",
      "_view_count": null,
      "_view_module": "@jupyter-widgets/base",
      "_view_module_version": "1.2.0",
      "_view_name": "StyleView",
      "description_width": ""
     }
    },
    "07a601090f8b4e268be9b18e95df8826": {
     "model_module": "@jupyter-widgets/controls",
     "model_module_version": "1.5.0",
     "model_name": "DescriptionStyleModel",
     "state": {
      "_model_module": "@jupyter-widgets/controls",
      "_model_module_version": "1.5.0",
      "_model_name": "DescriptionStyleModel",
      "_view_count": null,
      "_view_module": "@jupyter-widgets/base",
      "_view_module_version": "1.2.0",
      "_view_name": "StyleView",
      "description_width": ""
     }
    },
    "0cd4c74771524972a25f2e1ba2d8b0a7": {
     "model_module": "@jupyter-widgets/controls",
     "model_module_version": "1.5.0",
     "model_name": "DescriptionStyleModel",
     "state": {
      "_model_module": "@jupyter-widgets/controls",
      "_model_module_version": "1.5.0",
      "_model_name": "DescriptionStyleModel",
      "_view_count": null,
      "_view_module": "@jupyter-widgets/base",
      "_view_module_version": "1.2.0",
      "_view_name": "StyleView",
      "description_width": ""
     }
    },
    "0e3d7c158f1f432ea79e894c65e27734": {
     "model_module": "@jupyter-widgets/base",
     "model_module_version": "1.2.0",
     "model_name": "LayoutModel",
     "state": {
      "_model_module": "@jupyter-widgets/base",
      "_model_module_version": "1.2.0",
      "_model_name": "LayoutModel",
      "_view_count": null,
      "_view_module": "@jupyter-widgets/base",
      "_view_module_version": "1.2.0",
      "_view_name": "LayoutView",
      "align_content": null,
      "align_items": null,
      "align_self": null,
      "border": null,
      "bottom": null,
      "display": null,
      "flex": null,
      "flex_flow": null,
      "grid_area": null,
      "grid_auto_columns": null,
      "grid_auto_flow": null,
      "grid_auto_rows": null,
      "grid_column": null,
      "grid_gap": null,
      "grid_row": null,
      "grid_template_areas": null,
      "grid_template_columns": null,
      "grid_template_rows": null,
      "height": null,
      "justify_content": null,
      "justify_items": null,
      "left": null,
      "margin": null,
      "max_height": null,
      "max_width": null,
      "min_height": null,
      "min_width": null,
      "object_fit": null,
      "object_position": null,
      "order": null,
      "overflow": null,
      "overflow_x": null,
      "overflow_y": null,
      "padding": null,
      "right": null,
      "top": null,
      "visibility": null,
      "width": null
     }
    },
    "10ab048db4b84feaa66ba72510572ede": {
     "model_module": "@jupyter-widgets/controls",
     "model_module_version": "1.5.0",
     "model_name": "FloatProgressModel",
     "state": {
      "_dom_classes": [],
      "_model_module": "@jupyter-widgets/controls",
      "_model_module_version": "1.5.0",
      "_model_name": "FloatProgressModel",
      "_view_count": null,
      "_view_module": "@jupyter-widgets/controls",
      "_view_module_version": "1.5.0",
      "_view_name": "ProgressView",
      "bar_style": "success",
      "description": "",
      "description_tooltip": null,
      "layout": "IPY_MODEL_75a9da7f195d420c8726bc298ed662a7",
      "max": 53,
      "min": 0,
      "orientation": "horizontal",
      "style": "IPY_MODEL_4f564dfd66654e78abf9a410530fba87",
      "value": 53
     }
    },
    "13fed24d402b4bf48a068ca7a9f12110": {
     "model_module": "@jupyter-widgets/controls",
     "model_module_version": "1.5.0",
     "model_name": "FloatProgressModel",
     "state": {
      "_dom_classes": [],
      "_model_module": "@jupyter-widgets/controls",
      "_model_module_version": "1.5.0",
      "_model_name": "FloatProgressModel",
      "_view_count": null,
      "_view_module": "@jupyter-widgets/controls",
      "_view_module_version": "1.5.0",
      "_view_name": "ProgressView",
      "bar_style": "success",
      "description": "",
      "description_tooltip": null,
      "layout": "IPY_MODEL_2ccde1c1e6f34430b38e2e81f4805254",
      "max": 122,
      "min": 0,
      "orientation": "horizontal",
      "style": "IPY_MODEL_80a74e7a15ce478ab6cf6f4d6e966da0",
      "value": 122
     }
    },
    "147e0f1f7fef4a1b9212f20130b22b36": {
     "model_module": "@jupyter-widgets/controls",
     "model_module_version": "1.5.0",
     "model_name": "HTMLModel",
     "state": {
      "_dom_classes": [],
      "_model_module": "@jupyter-widgets/controls",
      "_model_module_version": "1.5.0",
      "_model_name": "HTMLModel",
      "_view_count": null,
      "_view_module": "@jupyter-widgets/controls",
      "_view_module_version": "1.5.0",
      "_view_name": "HTMLView",
      "description": "",
      "description_tooltip": null,
      "layout": "IPY_MODEL_3e3026ca8d114472b10198370cce7218",
      "placeholder": "​",
      "style": "IPY_MODEL_299b64ee7feb44b08698fcd320acee94",
      "value": "Batches: 100%"
     }
    },
    "18a3167db68c4648a5e0adae9ef92a0f": {
     "model_module": "@jupyter-widgets/base",
     "model_module_version": "1.2.0",
     "model_name": "LayoutModel",
     "state": {
      "_model_module": "@jupyter-widgets/base",
      "_model_module_version": "1.2.0",
      "_model_name": "LayoutModel",
      "_view_count": null,
      "_view_module": "@jupyter-widgets/base",
      "_view_module_version": "1.2.0",
      "_view_name": "LayoutView",
      "align_content": null,
      "align_items": null,
      "align_self": null,
      "border": null,
      "bottom": null,
      "display": null,
      "flex": null,
      "flex_flow": null,
      "grid_area": null,
      "grid_auto_columns": null,
      "grid_auto_flow": null,
      "grid_auto_rows": null,
      "grid_column": null,
      "grid_gap": null,
      "grid_row": null,
      "grid_template_areas": null,
      "grid_template_columns": null,
      "grid_template_rows": null,
      "height": null,
      "justify_content": null,
      "justify_items": null,
      "left": null,
      "margin": null,
      "max_height": null,
      "max_width": null,
      "min_height": null,
      "min_width": null,
      "object_fit": null,
      "object_position": null,
      "order": null,
      "overflow": null,
      "overflow_x": null,
      "overflow_y": null,
      "padding": null,
      "right": null,
      "top": null,
      "visibility": null,
      "width": null
     }
    },
    "18ec16eee8bf4700a04d4babc6b76735": {
     "model_module": "@jupyter-widgets/base",
     "model_module_version": "1.2.0",
     "model_name": "LayoutModel",
     "state": {
      "_model_module": "@jupyter-widgets/base",
      "_model_module_version": "1.2.0",
      "_model_name": "LayoutModel",
      "_view_count": null,
      "_view_module": "@jupyter-widgets/base",
      "_view_module_version": "1.2.0",
      "_view_name": "LayoutView",
      "align_content": null,
      "align_items": null,
      "align_self": null,
      "border": null,
      "bottom": null,
      "display": null,
      "flex": null,
      "flex_flow": null,
      "grid_area": null,
      "grid_auto_columns": null,
      "grid_auto_flow": null,
      "grid_auto_rows": null,
      "grid_column": null,
      "grid_gap": null,
      "grid_row": null,
      "grid_template_areas": null,
      "grid_template_columns": null,
      "grid_template_rows": null,
      "height": null,
      "justify_content": null,
      "justify_items": null,
      "left": null,
      "margin": null,
      "max_height": null,
      "max_width": null,
      "min_height": null,
      "min_width": null,
      "object_fit": null,
      "object_position": null,
      "order": null,
      "overflow": null,
      "overflow_x": null,
      "overflow_y": null,
      "padding": null,
      "right": null,
      "top": null,
      "visibility": null,
      "width": null
     }
    },
    "194521d8793f4dab8d76616b9aef4b03": {
     "model_module": "@jupyter-widgets/controls",
     "model_module_version": "1.5.0",
     "model_name": "HTMLModel",
     "state": {
      "_dom_classes": [],
      "_model_module": "@jupyter-widgets/controls",
      "_model_module_version": "1.5.0",
      "_model_name": "HTMLModel",
      "_view_count": null,
      "_view_module": "@jupyter-widgets/controls",
      "_view_module_version": "1.5.0",
      "_view_name": "HTMLView",
      "description": "",
      "description_tooltip": null,
      "layout": "IPY_MODEL_a7bb97d9967d4b1abb4a519fa190dc83",
      "placeholder": "​",
      "style": "IPY_MODEL_cba9452902fe4253aa42f05b4b2a4989",
      "value": "config.json: 100%"
     }
    },
    "1a606f47100d4329aa8fed09fe0388d4": {
     "model_module": "@jupyter-widgets/controls",
     "model_module_version": "1.5.0",
     "model_name": "DescriptionStyleModel",
     "state": {
      "_model_module": "@jupyter-widgets/controls",
      "_model_module_version": "1.5.0",
      "_model_name": "DescriptionStyleModel",
      "_view_count": null,
      "_view_module": "@jupyter-widgets/base",
      "_view_module_version": "1.2.0",
      "_view_name": "StyleView",
      "description_width": ""
     }
    },
    "1ae51a0e191b40e181cc0ff4b30dce4e": {
     "model_module": "@jupyter-widgets/controls",
     "model_module_version": "1.5.0",
     "model_name": "DescriptionStyleModel",
     "state": {
      "_model_module": "@jupyter-widgets/controls",
      "_model_module_version": "1.5.0",
      "_model_name": "DescriptionStyleModel",
      "_view_count": null,
      "_view_module": "@jupyter-widgets/base",
      "_view_module_version": "1.2.0",
      "_view_name": "StyleView",
      "description_width": ""
     }
    },
    "1b34be5e23c7490080cbbb7c9ec47df9": {
     "model_module": "@jupyter-widgets/controls",
     "model_module_version": "1.5.0",
     "model_name": "FloatProgressModel",
     "state": {
      "_dom_classes": [],
      "_model_module": "@jupyter-widgets/controls",
      "_model_module_version": "1.5.0",
      "_model_name": "FloatProgressModel",
      "_view_count": null,
      "_view_module": "@jupyter-widgets/controls",
      "_view_module_version": "1.5.0",
      "_view_name": "ProgressView",
      "bar_style": "success",
      "description": "",
      "description_tooltip": null,
      "layout": "IPY_MODEL_e09726b9248e4fa181169e2ac8521616",
      "max": 3729,
      "min": 0,
      "orientation": "horizontal",
      "style": "IPY_MODEL_5ca671bb984b458b9ef725bda1f6e2bf",
      "value": 3729
     }
    },
    "1b3e67a8a4244b60955e693e6a770c27": {
     "model_module": "@jupyter-widgets/base",
     "model_module_version": "1.2.0",
     "model_name": "LayoutModel",
     "state": {
      "_model_module": "@jupyter-widgets/base",
      "_model_module_version": "1.2.0",
      "_model_name": "LayoutModel",
      "_view_count": null,
      "_view_module": "@jupyter-widgets/base",
      "_view_module_version": "1.2.0",
      "_view_name": "LayoutView",
      "align_content": null,
      "align_items": null,
      "align_self": null,
      "border": null,
      "bottom": null,
      "display": null,
      "flex": null,
      "flex_flow": null,
      "grid_area": null,
      "grid_auto_columns": null,
      "grid_auto_flow": null,
      "grid_auto_rows": null,
      "grid_column": null,
      "grid_gap": null,
      "grid_row": null,
      "grid_template_areas": null,
      "grid_template_columns": null,
      "grid_template_rows": null,
      "height": null,
      "justify_content": null,
      "justify_items": null,
      "left": null,
      "margin": null,
      "max_height": null,
      "max_width": null,
      "min_height": null,
      "min_width": null,
      "object_fit": null,
      "object_position": null,
      "order": null,
      "overflow": null,
      "overflow_x": null,
      "overflow_y": null,
      "padding": null,
      "right": null,
      "top": null,
      "visibility": null,
      "width": null
     }
    },
    "1c3a40cc8fd24217823ad73e9a17916b": {
     "model_module": "@jupyter-widgets/base",
     "model_module_version": "1.2.0",
     "model_name": "LayoutModel",
     "state": {
      "_model_module": "@jupyter-widgets/base",
      "_model_module_version": "1.2.0",
      "_model_name": "LayoutModel",
      "_view_count": null,
      "_view_module": "@jupyter-widgets/base",
      "_view_module_version": "1.2.0",
      "_view_name": "LayoutView",
      "align_content": null,
      "align_items": null,
      "align_self": null,
      "border": null,
      "bottom": null,
      "display": null,
      "flex": null,
      "flex_flow": null,
      "grid_area": null,
      "grid_auto_columns": null,
      "grid_auto_flow": null,
      "grid_auto_rows": null,
      "grid_column": null,
      "grid_gap": null,
      "grid_row": null,
      "grid_template_areas": null,
      "grid_template_columns": null,
      "grid_template_rows": null,
      "height": null,
      "justify_content": null,
      "justify_items": null,
      "left": null,
      "margin": null,
      "max_height": null,
      "max_width": null,
      "min_height": null,
      "min_width": null,
      "object_fit": null,
      "object_position": null,
      "order": null,
      "overflow": null,
      "overflow_x": null,
      "overflow_y": null,
      "padding": null,
      "right": null,
      "top": null,
      "visibility": null,
      "width": null
     }
    },
    "1d2c4483149e4562887dbda8681ac2db": {
     "model_module": "@jupyter-widgets/controls",
     "model_module_version": "1.5.0",
     "model_name": "DescriptionStyleModel",
     "state": {
      "_model_module": "@jupyter-widgets/controls",
      "_model_module_version": "1.5.0",
      "_model_name": "DescriptionStyleModel",
      "_view_count": null,
      "_view_module": "@jupyter-widgets/base",
      "_view_module_version": "1.2.0",
      "_view_name": "StyleView",
      "description_width": ""
     }
    },
    "1f2a25d1272a4cb2b949d9bfc42247aa": {
     "model_module": "@jupyter-widgets/controls",
     "model_module_version": "1.5.0",
     "model_name": "FloatProgressModel",
     "state": {
      "_dom_classes": [],
      "_model_module": "@jupyter-widgets/controls",
      "_model_module_version": "1.5.0",
      "_model_name": "FloatProgressModel",
      "_view_count": null,
      "_view_module": "@jupyter-widgets/controls",
      "_view_module_version": "1.5.0",
      "_view_name": "ProgressView",
      "bar_style": "success",
      "description": "",
      "description_tooltip": null,
      "layout": "IPY_MODEL_732dca06c98b4faba5dcceba8903b3cb",
      "max": 229,
      "min": 0,
      "orientation": "horizontal",
      "style": "IPY_MODEL_74370d9146d646b88276c253a3cbefc9",
      "value": 229
     }
    },
    "1f6bf1c63f8e4e31bff6ad861064ebdc": {
     "model_module": "@jupyter-widgets/controls",
     "model_module_version": "1.5.0",
     "model_name": "HBoxModel",
     "state": {
      "_dom_classes": [],
      "_model_module": "@jupyter-widgets/controls",
      "_model_module_version": "1.5.0",
      "_model_name": "HBoxModel",
      "_view_count": null,
      "_view_module": "@jupyter-widgets/controls",
      "_view_module_version": "1.5.0",
      "_view_name": "HBoxView",
      "box_style": "",
      "children": [
       "IPY_MODEL_3a230e1a3b3546dc87c9ba0ecdde7f9e",
       "IPY_MODEL_10ab048db4b84feaa66ba72510572ede",
       "IPY_MODEL_447df7cdb1fe4435843c762f9352a17b"
      ],
      "layout": "IPY_MODEL_af751c4768114aebaad0abf5defb460f"
     }
    },
    "24d44584aeb646e4bf3f2771779f48d5": {
     "model_module": "@jupyter-widgets/controls",
     "model_module_version": "1.5.0",
     "model_name": "HTMLModel",
     "state": {
      "_dom_classes": [],
      "_model_module": "@jupyter-widgets/controls",
      "_model_module_version": "1.5.0",
      "_model_name": "HTMLModel",
      "_view_count": null,
      "_view_module": "@jupyter-widgets/controls",
      "_view_module_version": "1.5.0",
      "_view_name": "HTMLView",
      "description": "",
      "description_tooltip": null,
      "layout": "IPY_MODEL_a7075b4bc7b3412f9bf41e1a7af26546",
      "placeholder": "​",
      "style": "IPY_MODEL_9201bb6f47e44117b3ee6c4ce2d18e3b",
      "value": " 466k/466k [00:00&lt;00:00, 2.15MB/s]"
     }
    },
    "2793f390f4054ad1975cd86f92b158ad": {
     "model_module": "@jupyter-widgets/controls",
     "model_module_version": "1.5.0",
     "model_name": "HBoxModel",
     "state": {
      "_dom_classes": [],
      "_model_module": "@jupyter-widgets/controls",
      "_model_module_version": "1.5.0",
      "_model_name": "HBoxModel",
      "_view_count": null,
      "_view_module": "@jupyter-widgets/controls",
      "_view_module_version": "1.5.0",
      "_view_name": "HBoxView",
      "box_style": "",
      "children": [
       "IPY_MODEL_5a7c6906743845cb836c42073e50f555",
       "IPY_MODEL_b764a69af6dc4504a4bcc0571be7856c",
       "IPY_MODEL_e149cf4948784c3e97ed62fba6dc7892"
      ],
      "layout": "IPY_MODEL_bf321e86805c4068849a6a09073ad1f1"
     }
    },
    "299b64ee7feb44b08698fcd320acee94": {
     "model_module": "@jupyter-widgets/controls",
     "model_module_version": "1.5.0",
     "model_name": "DescriptionStyleModel",
     "state": {
      "_model_module": "@jupyter-widgets/controls",
      "_model_module_version": "1.5.0",
      "_model_name": "DescriptionStyleModel",
      "_view_count": null,
      "_view_module": "@jupyter-widgets/base",
      "_view_module_version": "1.2.0",
      "_view_name": "StyleView",
      "description_width": ""
     }
    },
    "2b9edeed2bca47d08aafed347e886adb": {
     "model_module": "@jupyter-widgets/base",
     "model_module_version": "1.2.0",
     "model_name": "LayoutModel",
     "state": {
      "_model_module": "@jupyter-widgets/base",
      "_model_module_version": "1.2.0",
      "_model_name": "LayoutModel",
      "_view_count": null,
      "_view_module": "@jupyter-widgets/base",
      "_view_module_version": "1.2.0",
      "_view_name": "LayoutView",
      "align_content": null,
      "align_items": null,
      "align_self": null,
      "border": null,
      "bottom": null,
      "display": null,
      "flex": null,
      "flex_flow": null,
      "grid_area": null,
      "grid_auto_columns": null,
      "grid_auto_flow": null,
      "grid_auto_rows": null,
      "grid_column": null,
      "grid_gap": null,
      "grid_row": null,
      "grid_template_areas": null,
      "grid_template_columns": null,
      "grid_template_rows": null,
      "height": null,
      "justify_content": null,
      "justify_items": null,
      "left": null,
      "margin": null,
      "max_height": null,
      "max_width": null,
      "min_height": null,
      "min_width": null,
      "object_fit": null,
      "object_position": null,
      "order": null,
      "overflow": null,
      "overflow_x": null,
      "overflow_y": null,
      "padding": null,
      "right": null,
      "top": null,
      "visibility": null,
      "width": null
     }
    },
    "2ccde1c1e6f34430b38e2e81f4805254": {
     "model_module": "@jupyter-widgets/base",
     "model_module_version": "1.2.0",
     "model_name": "LayoutModel",
     "state": {
      "_model_module": "@jupyter-widgets/base",
      "_model_module_version": "1.2.0",
      "_model_name": "LayoutModel",
      "_view_count": null,
      "_view_module": "@jupyter-widgets/base",
      "_view_module_version": "1.2.0",
      "_view_name": "LayoutView",
      "align_content": null,
      "align_items": null,
      "align_self": null,
      "border": null,
      "bottom": null,
      "display": null,
      "flex": null,
      "flex_flow": null,
      "grid_area": null,
      "grid_auto_columns": null,
      "grid_auto_flow": null,
      "grid_auto_rows": null,
      "grid_column": null,
      "grid_gap": null,
      "grid_row": null,
      "grid_template_areas": null,
      "grid_template_columns": null,
      "grid_template_rows": null,
      "height": null,
      "justify_content": null,
      "justify_items": null,
      "left": null,
      "margin": null,
      "max_height": null,
      "max_width": null,
      "min_height": null,
      "min_width": null,
      "object_fit": null,
      "object_position": null,
      "order": null,
      "overflow": null,
      "overflow_x": null,
      "overflow_y": null,
      "padding": null,
      "right": null,
      "top": null,
      "visibility": null,
      "width": null
     }
    },
    "2e9db891cd3b4919a49bd0bb56c98633": {
     "model_module": "@jupyter-widgets/controls",
     "model_module_version": "1.5.0",
     "model_name": "DescriptionStyleModel",
     "state": {
      "_model_module": "@jupyter-widgets/controls",
      "_model_module_version": "1.5.0",
      "_model_name": "DescriptionStyleModel",
      "_view_count": null,
      "_view_module": "@jupyter-widgets/base",
      "_view_module_version": "1.2.0",
      "_view_name": "StyleView",
      "description_width": ""
     }
    },
    "2feb8c8d0ec3419f9e89f65dc5e9bcaf": {
     "model_module": "@jupyter-widgets/base",
     "model_module_version": "1.2.0",
     "model_name": "LayoutModel",
     "state": {
      "_model_module": "@jupyter-widgets/base",
      "_model_module_version": "1.2.0",
      "_model_name": "LayoutModel",
      "_view_count": null,
      "_view_module": "@jupyter-widgets/base",
      "_view_module_version": "1.2.0",
      "_view_name": "LayoutView",
      "align_content": null,
      "align_items": null,
      "align_self": null,
      "border": null,
      "bottom": null,
      "display": null,
      "flex": null,
      "flex_flow": null,
      "grid_area": null,
      "grid_auto_columns": null,
      "grid_auto_flow": null,
      "grid_auto_rows": null,
      "grid_column": null,
      "grid_gap": null,
      "grid_row": null,
      "grid_template_areas": null,
      "grid_template_columns": null,
      "grid_template_rows": null,
      "height": null,
      "justify_content": null,
      "justify_items": null,
      "left": null,
      "margin": null,
      "max_height": null,
      "max_width": null,
      "min_height": null,
      "min_width": null,
      "object_fit": null,
      "object_position": null,
      "order": null,
      "overflow": null,
      "overflow_x": null,
      "overflow_y": null,
      "padding": null,
      "right": null,
      "top": null,
      "visibility": null,
      "width": null
     }
    },
    "3042a11904824a10abf3ddbebbf2b1d4": {
     "model_module": "@jupyter-widgets/controls",
     "model_module_version": "1.5.0",
     "model_name": "FloatProgressModel",
     "state": {
      "_dom_classes": [],
      "_model_module": "@jupyter-widgets/controls",
      "_model_module_version": "1.5.0",
      "_model_name": "FloatProgressModel",
      "_view_count": null,
      "_view_module": "@jupyter-widgets/controls",
      "_view_module_version": "1.5.0",
      "_view_name": "ProgressView",
      "bar_style": "success",
      "description": "",
      "description_tooltip": null,
      "layout": "IPY_MODEL_3d136986e37c4d41a399eacb844a90d2",
      "max": 1238,
      "min": 0,
      "orientation": "horizontal",
      "style": "IPY_MODEL_f2925ce10218436bb7911241cb9159ed",
      "value": 1238
     }
    },
    "33833c6082fe422ab86d11b7543550a8": {
     "model_module": "@jupyter-widgets/base",
     "model_module_version": "1.2.0",
     "model_name": "LayoutModel",
     "state": {
      "_model_module": "@jupyter-widgets/base",
      "_model_module_version": "1.2.0",
      "_model_name": "LayoutModel",
      "_view_count": null,
      "_view_module": "@jupyter-widgets/base",
      "_view_module_version": "1.2.0",
      "_view_name": "LayoutView",
      "align_content": null,
      "align_items": null,
      "align_self": null,
      "border": null,
      "bottom": null,
      "display": null,
      "flex": null,
      "flex_flow": null,
      "grid_area": null,
      "grid_auto_columns": null,
      "grid_auto_flow": null,
      "grid_auto_rows": null,
      "grid_column": null,
      "grid_gap": null,
      "grid_row": null,
      "grid_template_areas": null,
      "grid_template_columns": null,
      "grid_template_rows": null,
      "height": null,
      "justify_content": null,
      "justify_items": null,
      "left": null,
      "margin": null,
      "max_height": null,
      "max_width": null,
      "min_height": null,
      "min_width": null,
      "object_fit": null,
      "object_position": null,
      "order": null,
      "overflow": null,
      "overflow_x": null,
      "overflow_y": null,
      "padding": null,
      "right": null,
      "top": null,
      "visibility": null,
      "width": null
     }
    },
    "34f05200e51e4afd9c87163ef1060e71": {
     "model_module": "@jupyter-widgets/controls",
     "model_module_version": "1.5.0",
     "model_name": "HTMLModel",
     "state": {
      "_dom_classes": [],
      "_model_module": "@jupyter-widgets/controls",
      "_model_module_version": "1.5.0",
      "_model_name": "HTMLModel",
      "_view_count": null,
      "_view_module": "@jupyter-widgets/controls",
      "_view_module_version": "1.5.0",
      "_view_name": "HTMLView",
      "description": "",
      "description_tooltip": null,
      "layout": "IPY_MODEL_18ec16eee8bf4700a04d4babc6b76735",
      "placeholder": "​",
      "style": "IPY_MODEL_76452315284a499ba64ea3168e019c24",
      "value": "vocab.txt: 100%"
     }
    },
    "36e01503b54f4ebaa6ec983301763971": {
     "model_module": "@jupyter-widgets/controls",
     "model_module_version": "1.5.0",
     "model_name": "ProgressStyleModel",
     "state": {
      "_model_module": "@jupyter-widgets/controls",
      "_model_module_version": "1.5.0",
      "_model_name": "ProgressStyleModel",
      "_view_count": null,
      "_view_module": "@jupyter-widgets/base",
      "_view_module_version": "1.2.0",
      "_view_name": "StyleView",
      "bar_color": null,
      "description_width": ""
     }
    },
    "374d96b6c46d47fb961883ab671182f7": {
     "model_module": "@jupyter-widgets/base",
     "model_module_version": "1.2.0",
     "model_name": "LayoutModel",
     "state": {
      "_model_module": "@jupyter-widgets/base",
      "_model_module_version": "1.2.0",
      "_model_name": "LayoutModel",
      "_view_count": null,
      "_view_module": "@jupyter-widgets/base",
      "_view_module_version": "1.2.0",
      "_view_name": "LayoutView",
      "align_content": null,
      "align_items": null,
      "align_self": null,
      "border": null,
      "bottom": null,
      "display": null,
      "flex": null,
      "flex_flow": null,
      "grid_area": null,
      "grid_auto_columns": null,
      "grid_auto_flow": null,
      "grid_auto_rows": null,
      "grid_column": null,
      "grid_gap": null,
      "grid_row": null,
      "grid_template_areas": null,
      "grid_template_columns": null,
      "grid_template_rows": null,
      "height": null,
      "justify_content": null,
      "justify_items": null,
      "left": null,
      "margin": null,
      "max_height": null,
      "max_width": null,
      "min_height": null,
      "min_width": null,
      "object_fit": null,
      "object_position": null,
      "order": null,
      "overflow": null,
      "overflow_x": null,
      "overflow_y": null,
      "padding": null,
      "right": null,
      "top": null,
      "visibility": null,
      "width": null
     }
    },
    "39d63fda76e44c5182827a1c119e644e": {
     "model_module": "@jupyter-widgets/base",
     "model_module_version": "1.2.0",
     "model_name": "LayoutModel",
     "state": {
      "_model_module": "@jupyter-widgets/base",
      "_model_module_version": "1.2.0",
      "_model_name": "LayoutModel",
      "_view_count": null,
      "_view_module": "@jupyter-widgets/base",
      "_view_module_version": "1.2.0",
      "_view_name": "LayoutView",
      "align_content": null,
      "align_items": null,
      "align_self": null,
      "border": null,
      "bottom": null,
      "display": null,
      "flex": null,
      "flex_flow": null,
      "grid_area": null,
      "grid_auto_columns": null,
      "grid_auto_flow": null,
      "grid_auto_rows": null,
      "grid_column": null,
      "grid_gap": null,
      "grid_row": null,
      "grid_template_areas": null,
      "grid_template_columns": null,
      "grid_template_rows": null,
      "height": null,
      "justify_content": null,
      "justify_items": null,
      "left": null,
      "margin": null,
      "max_height": null,
      "max_width": null,
      "min_height": null,
      "min_width": null,
      "object_fit": null,
      "object_position": null,
      "order": null,
      "overflow": null,
      "overflow_x": null,
      "overflow_y": null,
      "padding": null,
      "right": null,
      "top": null,
      "visibility": null,
      "width": null
     }
    },
    "3a230e1a3b3546dc87c9ba0ecdde7f9e": {
     "model_module": "@jupyter-widgets/controls",
     "model_module_version": "1.5.0",
     "model_name": "HTMLModel",
     "state": {
      "_dom_classes": [],
      "_model_module": "@jupyter-widgets/controls",
      "_model_module_version": "1.5.0",
      "_model_name": "HTMLModel",
      "_view_count": null,
      "_view_module": "@jupyter-widgets/controls",
      "_view_module_version": "1.5.0",
      "_view_name": "HTMLView",
      "description": "",
      "description_tooltip": null,
      "layout": "IPY_MODEL_8181e6b5af1141f6901e69cedb151169",
      "placeholder": "​",
      "style": "IPY_MODEL_2e9db891cd3b4919a49bd0bb56c98633",
      "value": "sentence_bert_config.json: 100%"
     }
    },
    "3d136986e37c4d41a399eacb844a90d2": {
     "model_module": "@jupyter-widgets/base",
     "model_module_version": "1.2.0",
     "model_name": "LayoutModel",
     "state": {
      "_model_module": "@jupyter-widgets/base",
      "_model_module_version": "1.2.0",
      "_model_name": "LayoutModel",
      "_view_count": null,
      "_view_module": "@jupyter-widgets/base",
      "_view_module_version": "1.2.0",
      "_view_name": "LayoutView",
      "align_content": null,
      "align_items": null,
      "align_self": null,
      "border": null,
      "bottom": null,
      "display": null,
      "flex": null,
      "flex_flow": null,
      "grid_area": null,
      "grid_auto_columns": null,
      "grid_auto_flow": null,
      "grid_auto_rows": null,
      "grid_column": null,
      "grid_gap": null,
      "grid_row": null,
      "grid_template_areas": null,
      "grid_template_columns": null,
      "grid_template_rows": null,
      "height": null,
      "justify_content": null,
      "justify_items": null,
      "left": null,
      "margin": null,
      "max_height": null,
      "max_width": null,
      "min_height": null,
      "min_width": null,
      "object_fit": null,
      "object_position": null,
      "order": null,
      "overflow": null,
      "overflow_x": null,
      "overflow_y": null,
      "padding": null,
      "right": null,
      "top": null,
      "visibility": null,
      "width": null
     }
    },
    "3e3026ca8d114472b10198370cce7218": {
     "model_module": "@jupyter-widgets/base",
     "model_module_version": "1.2.0",
     "model_name": "LayoutModel",
     "state": {
      "_model_module": "@jupyter-widgets/base",
      "_model_module_version": "1.2.0",
      "_model_name": "LayoutModel",
      "_view_count": null,
      "_view_module": "@jupyter-widgets/base",
      "_view_module_version": "1.2.0",
      "_view_name": "LayoutView",
      "align_content": null,
      "align_items": null,
      "align_self": null,
      "border": null,
      "bottom": null,
      "display": null,
      "flex": null,
      "flex_flow": null,
      "grid_area": null,
      "grid_auto_columns": null,
      "grid_auto_flow": null,
      "grid_auto_rows": null,
      "grid_column": null,
      "grid_gap": null,
      "grid_row": null,
      "grid_template_areas": null,
      "grid_template_columns": null,
      "grid_template_rows": null,
      "height": null,
      "justify_content": null,
      "justify_items": null,
      "left": null,
      "margin": null,
      "max_height": null,
      "max_width": null,
      "min_height": null,
      "min_width": null,
      "object_fit": null,
      "object_position": null,
      "order": null,
      "overflow": null,
      "overflow_x": null,
      "overflow_y": null,
      "padding": null,
      "right": null,
      "top": null,
      "visibility": null,
      "width": null
     }
    },
    "3e633ec957124f8ca1cc3690a5cd983a": {
     "model_module": "@jupyter-widgets/controls",
     "model_module_version": "1.5.0",
     "model_name": "FloatProgressModel",
     "state": {
      "_dom_classes": [],
      "_model_module": "@jupyter-widgets/controls",
      "_model_module_version": "1.5.0",
      "_model_name": "FloatProgressModel",
      "_view_count": null,
      "_view_module": "@jupyter-widgets/controls",
      "_view_module_version": "1.5.0",
      "_view_name": "ProgressView",
      "bar_style": "success",
      "description": "",
      "description_tooltip": null,
      "layout": "IPY_MODEL_e752ea62e0df4c1ab6018e10f3f3df3c",
      "max": 629,
      "min": 0,
      "orientation": "horizontal",
      "style": "IPY_MODEL_36e01503b54f4ebaa6ec983301763971",
      "value": 629
     }
    },
    "447df7cdb1fe4435843c762f9352a17b": {
     "model_module": "@jupyter-widgets/controls",
     "model_module_version": "1.5.0",
     "model_name": "HTMLModel",
     "state": {
      "_dom_classes": [],
      "_model_module": "@jupyter-widgets/controls",
      "_model_module_version": "1.5.0",
      "_model_name": "HTMLModel",
      "_view_count": null,
      "_view_module": "@jupyter-widgets/controls",
      "_view_module_version": "1.5.0",
      "_view_name": "HTMLView",
      "description": "",
      "description_tooltip": null,
      "layout": "IPY_MODEL_a787fd4de9dc4f35be9f7946d4e2ae3b",
      "placeholder": "​",
      "style": "IPY_MODEL_1d2c4483149e4562887dbda8681ac2db",
      "value": " 53.0/53.0 [00:00&lt;00:00, 6.41kB/s]"
     }
    },
    "4a5031030c80452ebef8863aa4079eea": {
     "model_module": "@jupyter-widgets/controls",
     "model_module_version": "1.5.0",
     "model_name": "DescriptionStyleModel",
     "state": {
      "_model_module": "@jupyter-widgets/controls",
      "_model_module_version": "1.5.0",
      "_model_name": "DescriptionStyleModel",
      "_view_count": null,
      "_view_module": "@jupyter-widgets/base",
      "_view_module_version": "1.2.0",
      "_view_name": "StyleView",
      "description_width": ""
     }
    },
    "4a933043eaf64f839ad6a7f383de1404": {
     "model_module": "@jupyter-widgets/controls",
     "model_module_version": "1.5.0",
     "model_name": "HTMLModel",
     "state": {
      "_dom_classes": [],
      "_model_module": "@jupyter-widgets/controls",
      "_model_module_version": "1.5.0",
      "_model_name": "HTMLModel",
      "_view_count": null,
      "_view_module": "@jupyter-widgets/controls",
      "_view_module_version": "1.5.0",
      "_view_name": "HTMLView",
      "description": "",
      "description_tooltip": null,
      "layout": "IPY_MODEL_a7743657825341d6af0e0e1c4aad1922",
      "placeholder": "​",
      "style": "IPY_MODEL_f31d4b6fd72540978f04e37122943072",
      "value": " 90.9M/90.9M [00:01&lt;00:00, 93.6MB/s]"
     }
    },
    "4e4d6a12c63b4877a2621ca475e49303": {
     "model_module": "@jupyter-widgets/base",
     "model_module_version": "1.2.0",
     "model_name": "LayoutModel",
     "state": {
      "_model_module": "@jupyter-widgets/base",
      "_model_module_version": "1.2.0",
      "_model_name": "LayoutModel",
      "_view_count": null,
      "_view_module": "@jupyter-widgets/base",
      "_view_module_version": "1.2.0",
      "_view_name": "LayoutView",
      "align_content": null,
      "align_items": null,
      "align_self": null,
      "border": null,
      "bottom": null,
      "display": null,
      "flex": null,
      "flex_flow": null,
      "grid_area": null,
      "grid_auto_columns": null,
      "grid_auto_flow": null,
      "grid_auto_rows": null,
      "grid_column": null,
      "grid_gap": null,
      "grid_row": null,
      "grid_template_areas": null,
      "grid_template_columns": null,
      "grid_template_rows": null,
      "height": null,
      "justify_content": null,
      "justify_items": null,
      "left": null,
      "margin": null,
      "max_height": null,
      "max_width": null,
      "min_height": null,
      "min_width": null,
      "object_fit": null,
      "object_position": null,
      "order": null,
      "overflow": null,
      "overflow_x": null,
      "overflow_y": null,
      "padding": null,
      "right": null,
      "top": null,
      "visibility": null,
      "width": null
     }
    },
    "4f1eb2094d294c1a95e83c29c4e6e6bf": {
     "model_module": "@jupyter-widgets/base",
     "model_module_version": "1.2.0",
     "model_name": "LayoutModel",
     "state": {
      "_model_module": "@jupyter-widgets/base",
      "_model_module_version": "1.2.0",
      "_model_name": "LayoutModel",
      "_view_count": null,
      "_view_module": "@jupyter-widgets/base",
      "_view_module_version": "1.2.0",
      "_view_name": "LayoutView",
      "align_content": null,
      "align_items": null,
      "align_self": null,
      "border": null,
      "bottom": null,
      "display": null,
      "flex": null,
      "flex_flow": null,
      "grid_area": null,
      "grid_auto_columns": null,
      "grid_auto_flow": null,
      "grid_auto_rows": null,
      "grid_column": null,
      "grid_gap": null,
      "grid_row": null,
      "grid_template_areas": null,
      "grid_template_columns": null,
      "grid_template_rows": null,
      "height": null,
      "justify_content": null,
      "justify_items": null,
      "left": null,
      "margin": null,
      "max_height": null,
      "max_width": null,
      "min_height": null,
      "min_width": null,
      "object_fit": null,
      "object_position": null,
      "order": null,
      "overflow": null,
      "overflow_x": null,
      "overflow_y": null,
      "padding": null,
      "right": null,
      "top": null,
      "visibility": null,
      "width": null
     }
    },
    "4f564dfd66654e78abf9a410530fba87": {
     "model_module": "@jupyter-widgets/controls",
     "model_module_version": "1.5.0",
     "model_name": "ProgressStyleModel",
     "state": {
      "_model_module": "@jupyter-widgets/controls",
      "_model_module_version": "1.5.0",
      "_model_name": "ProgressStyleModel",
      "_view_count": null,
      "_view_module": "@jupyter-widgets/base",
      "_view_module_version": "1.2.0",
      "_view_name": "StyleView",
      "bar_color": null,
      "description_width": ""
     }
    },
    "509507a446634b0786b53938630a554c": {
     "model_module": "@jupyter-widgets/controls",
     "model_module_version": "1.5.0",
     "model_name": "HTMLModel",
     "state": {
      "_dom_classes": [],
      "_model_module": "@jupyter-widgets/controls",
      "_model_module_version": "1.5.0",
      "_model_name": "HTMLModel",
      "_view_count": null,
      "_view_module": "@jupyter-widgets/controls",
      "_view_module_version": "1.5.0",
      "_view_name": "HTMLView",
      "description": "",
      "description_tooltip": null,
      "layout": "IPY_MODEL_f3ef0e005ab944eaa1ecf1b73ab3a4cd",
      "placeholder": "​",
      "style": "IPY_MODEL_8f9e78e51c564b318852d9a1b1985480",
      "value": " 629/629 [00:00&lt;00:00, 58.2kB/s]"
     }
    },
    "52fe32ff5ca44e2b899c3d2547bac0dc": {
     "model_module": "@jupyter-widgets/base",
     "model_module_version": "1.2.0",
     "model_name": "LayoutModel",
     "state": {
      "_model_module": "@jupyter-widgets/base",
      "_model_module_version": "1.2.0",
      "_model_name": "LayoutModel",
      "_view_count": null,
      "_view_module": "@jupyter-widgets/base",
      "_view_module_version": "1.2.0",
      "_view_name": "LayoutView",
      "align_content": null,
      "align_items": null,
      "align_self": null,
      "border": null,
      "bottom": null,
      "display": null,
      "flex": null,
      "flex_flow": null,
      "grid_area": null,
      "grid_auto_columns": null,
      "grid_auto_flow": null,
      "grid_auto_rows": null,
      "grid_column": null,
      "grid_gap": null,
      "grid_row": null,
      "grid_template_areas": null,
      "grid_template_columns": null,
      "grid_template_rows": null,
      "height": null,
      "justify_content": null,
      "justify_items": null,
      "left": null,
      "margin": null,
      "max_height": null,
      "max_width": null,
      "min_height": null,
      "min_width": null,
      "object_fit": null,
      "object_position": null,
      "order": null,
      "overflow": null,
      "overflow_x": null,
      "overflow_y": null,
      "padding": null,
      "right": null,
      "top": null,
      "visibility": null,
      "width": null
     }
    },
    "596bb234d5664f3493ed6bd84549dfa8": {
     "model_module": "@jupyter-widgets/base",
     "model_module_version": "1.2.0",
     "model_name": "LayoutModel",
     "state": {
      "_model_module": "@jupyter-widgets/base",
      "_model_module_version": "1.2.0",
      "_model_name": "LayoutModel",
      "_view_count": null,
      "_view_module": "@jupyter-widgets/base",
      "_view_module_version": "1.2.0",
      "_view_name": "LayoutView",
      "align_content": null,
      "align_items": null,
      "align_self": null,
      "border": null,
      "bottom": null,
      "display": null,
      "flex": null,
      "flex_flow": null,
      "grid_area": null,
      "grid_auto_columns": null,
      "grid_auto_flow": null,
      "grid_auto_rows": null,
      "grid_column": null,
      "grid_gap": null,
      "grid_row": null,
      "grid_template_areas": null,
      "grid_template_columns": null,
      "grid_template_rows": null,
      "height": null,
      "justify_content": null,
      "justify_items": null,
      "left": null,
      "margin": null,
      "max_height": null,
      "max_width": null,
      "min_height": null,
      "min_width": null,
      "object_fit": null,
      "object_position": null,
      "order": null,
      "overflow": null,
      "overflow_x": null,
      "overflow_y": null,
      "padding": null,
      "right": null,
      "top": null,
      "visibility": null,
      "width": null
     }
    },
    "5a5da49f59204f3c85a8bef078b87c0f": {
     "model_module": "@jupyter-widgets/base",
     "model_module_version": "1.2.0",
     "model_name": "LayoutModel",
     "state": {
      "_model_module": "@jupyter-widgets/base",
      "_model_module_version": "1.2.0",
      "_model_name": "LayoutModel",
      "_view_count": null,
      "_view_module": "@jupyter-widgets/base",
      "_view_module_version": "1.2.0",
      "_view_name": "LayoutView",
      "align_content": null,
      "align_items": null,
      "align_self": null,
      "border": null,
      "bottom": null,
      "display": null,
      "flex": null,
      "flex_flow": null,
      "grid_area": null,
      "grid_auto_columns": null,
      "grid_auto_flow": null,
      "grid_auto_rows": null,
      "grid_column": null,
      "grid_gap": null,
      "grid_row": null,
      "grid_template_areas": null,
      "grid_template_columns": null,
      "grid_template_rows": null,
      "height": null,
      "justify_content": null,
      "justify_items": null,
      "left": null,
      "margin": null,
      "max_height": null,
      "max_width": null,
      "min_height": null,
      "min_width": null,
      "object_fit": null,
      "object_position": null,
      "order": null,
      "overflow": null,
      "overflow_x": null,
      "overflow_y": null,
      "padding": null,
      "right": null,
      "top": null,
      "visibility": null,
      "width": null
     }
    },
    "5a7c6906743845cb836c42073e50f555": {
     "model_module": "@jupyter-widgets/controls",
     "model_module_version": "1.5.0",
     "model_name": "HTMLModel",
     "state": {
      "_dom_classes": [],
      "_model_module": "@jupyter-widgets/controls",
      "_model_module_version": "1.5.0",
      "_model_name": "HTMLModel",
      "_view_count": null,
      "_view_module": "@jupyter-widgets/controls",
      "_view_module_version": "1.5.0",
      "_view_name": "HTMLView",
      "description": "",
      "description_tooltip": null,
      "layout": "IPY_MODEL_abe2447d40f8435fa95062b1e5e1b108",
      "placeholder": "​",
      "style": "IPY_MODEL_fa894c895a1245cd818b57e5c16dfecf",
      "value": "special_tokens_map.json: 100%"
     }
    },
    "5ca671bb984b458b9ef725bda1f6e2bf": {
     "model_module": "@jupyter-widgets/controls",
     "model_module_version": "1.5.0",
     "model_name": "ProgressStyleModel",
     "state": {
      "_model_module": "@jupyter-widgets/controls",
      "_model_module_version": "1.5.0",
      "_model_name": "ProgressStyleModel",
      "_view_count": null,
      "_view_module": "@jupyter-widgets/base",
      "_view_module_version": "1.2.0",
      "_view_name": "StyleView",
      "bar_color": null,
      "description_width": ""
     }
    },
    "5db0e557ecca47c8bcb2fed445eac1f0": {
     "model_module": "@jupyter-widgets/base",
     "model_module_version": "1.2.0",
     "model_name": "LayoutModel",
     "state": {
      "_model_module": "@jupyter-widgets/base",
      "_model_module_version": "1.2.0",
      "_model_name": "LayoutModel",
      "_view_count": null,
      "_view_module": "@jupyter-widgets/base",
      "_view_module_version": "1.2.0",
      "_view_name": "LayoutView",
      "align_content": null,
      "align_items": null,
      "align_self": null,
      "border": null,
      "bottom": null,
      "display": null,
      "flex": null,
      "flex_flow": null,
      "grid_area": null,
      "grid_auto_columns": null,
      "grid_auto_flow": null,
      "grid_auto_rows": null,
      "grid_column": null,
      "grid_gap": null,
      "grid_row": null,
      "grid_template_areas": null,
      "grid_template_columns": null,
      "grid_template_rows": null,
      "height": null,
      "justify_content": null,
      "justify_items": null,
      "left": null,
      "margin": null,
      "max_height": null,
      "max_width": null,
      "min_height": null,
      "min_width": null,
      "object_fit": null,
      "object_position": null,
      "order": null,
      "overflow": null,
      "overflow_x": null,
      "overflow_y": null,
      "padding": null,
      "right": null,
      "top": null,
      "visibility": null,
      "width": null
     }
    },
    "5ee02a457b0d47b395e89ae1602f5215": {
     "model_module": "@jupyter-widgets/controls",
     "model_module_version": "1.5.0",
     "model_name": "FloatProgressModel",
     "state": {
      "_dom_classes": [],
      "_model_module": "@jupyter-widgets/controls",
      "_model_module_version": "1.5.0",
      "_model_name": "FloatProgressModel",
      "_view_count": null,
      "_view_module": "@jupyter-widgets/controls",
      "_view_module_version": "1.5.0",
      "_view_name": "ProgressView",
      "bar_style": "success",
      "description": "",
      "description_tooltip": null,
      "layout": "IPY_MODEL_7f2470ecad274474b8889fdcd76dc5fa",
      "max": 231508,
      "min": 0,
      "orientation": "horizontal",
      "style": "IPY_MODEL_c65bdef4ebfe4b65af4c8a9bb05abeaa",
      "value": 231508
     }
    },
    "5f7b24d25f514d42b1476665eaf78912": {
     "model_module": "@jupyter-widgets/controls",
     "model_module_version": "1.5.0",
     "model_name": "DescriptionStyleModel",
     "state": {
      "_model_module": "@jupyter-widgets/controls",
      "_model_module_version": "1.5.0",
      "_model_name": "DescriptionStyleModel",
      "_view_count": null,
      "_view_module": "@jupyter-widgets/base",
      "_view_module_version": "1.2.0",
      "_view_name": "StyleView",
      "description_width": ""
     }
    },
    "602c924a63fc44479bec96d6d0a4a586": {
     "model_module": "@jupyter-widgets/controls",
     "model_module_version": "1.5.0",
     "model_name": "DescriptionStyleModel",
     "state": {
      "_model_module": "@jupyter-widgets/controls",
      "_model_module_version": "1.5.0",
      "_model_name": "DescriptionStyleModel",
      "_view_count": null,
      "_view_module": "@jupyter-widgets/base",
      "_view_module_version": "1.2.0",
      "_view_name": "StyleView",
      "description_width": ""
     }
    },
    "62e46b96401a4f27bc2ea6fd5b710e83": {
     "model_module": "@jupyter-widgets/controls",
     "model_module_version": "1.5.0",
     "model_name": "DescriptionStyleModel",
     "state": {
      "_model_module": "@jupyter-widgets/controls",
      "_model_module_version": "1.5.0",
      "_model_name": "DescriptionStyleModel",
      "_view_count": null,
      "_view_module": "@jupyter-widgets/base",
      "_view_module_version": "1.2.0",
      "_view_name": "StyleView",
      "description_width": ""
     }
    },
    "66c4b65d75b4472a89df8da9ffe3e7d5": {
     "model_module": "@jupyter-widgets/controls",
     "model_module_version": "1.5.0",
     "model_name": "HTMLModel",
     "state": {
      "_dom_classes": [],
      "_model_module": "@jupyter-widgets/controls",
      "_model_module_version": "1.5.0",
      "_model_name": "HTMLModel",
      "_view_count": null,
      "_view_module": "@jupyter-widgets/controls",
      "_view_module_version": "1.5.0",
      "_view_name": "HTMLView",
      "description": "",
      "description_tooltip": null,
      "layout": "IPY_MODEL_9bfcf9f651f54fd3acf44e12ab0a97e2",
      "placeholder": "​",
      "style": "IPY_MODEL_62e46b96401a4f27bc2ea6fd5b710e83",
      "value": " 232k/232k [00:00&lt;00:00, 15.7MB/s]"
     }
    },
    "6943ae9e7ff449828e26b2d91316054c": {
     "model_module": "@jupyter-widgets/controls",
     "model_module_version": "1.5.0",
     "model_name": "ProgressStyleModel",
     "state": {
      "_model_module": "@jupyter-widgets/controls",
      "_model_module_version": "1.5.0",
      "_model_name": "ProgressStyleModel",
      "_view_count": null,
      "_view_module": "@jupyter-widgets/base",
      "_view_module_version": "1.2.0",
      "_view_name": "StyleView",
      "bar_color": null,
      "description_width": ""
     }
    },
    "6ae666bfbc0a4f86b435a9b4be23dade": {
     "model_module": "@jupyter-widgets/controls",
     "model_module_version": "1.5.0",
     "model_name": "HBoxModel",
     "state": {
      "_dom_classes": [],
      "_model_module": "@jupyter-widgets/controls",
      "_model_module_version": "1.5.0",
      "_model_name": "HBoxModel",
      "_view_count": null,
      "_view_module": "@jupyter-widgets/controls",
      "_view_module_version": "1.5.0",
      "_view_name": "HBoxView",
      "box_style": "",
      "children": [
       "IPY_MODEL_147e0f1f7fef4a1b9212f20130b22b36",
       "IPY_MODEL_3042a11904824a10abf3ddbebbf2b1d4",
       "IPY_MODEL_edda6260755c4df1a010f77c9e413864"
      ],
      "layout": "IPY_MODEL_52fe32ff5ca44e2b899c3d2547bac0dc"
     }
    },
    "6b56d553153b47ca83b41b43cd46f22d": {
     "model_module": "@jupyter-widgets/controls",
     "model_module_version": "1.5.0",
     "model_name": "HBoxModel",
     "state": {
      "_dom_classes": [],
      "_model_module": "@jupyter-widgets/controls",
      "_model_module_version": "1.5.0",
      "_model_name": "HBoxModel",
      "_view_count": null,
      "_view_module": "@jupyter-widgets/controls",
      "_view_module_version": "1.5.0",
      "_view_name": "HBoxView",
      "box_style": "",
      "children": [
       "IPY_MODEL_95fefa62d8874473846e38c1e042be35",
       "IPY_MODEL_1f2a25d1272a4cb2b949d9bfc42247aa",
       "IPY_MODEL_cb57434d31ab4a0d88f5438a2db9b72f"
      ],
      "layout": "IPY_MODEL_7a5a96f035104cddb5e0fecc6c7a9a8b"
     }
    },
    "732dca06c98b4faba5dcceba8903b3cb": {
     "model_module": "@jupyter-widgets/base",
     "model_module_version": "1.2.0",
     "model_name": "LayoutModel",
     "state": {
      "_model_module": "@jupyter-widgets/base",
      "_model_module_version": "1.2.0",
      "_model_name": "LayoutModel",
      "_view_count": null,
      "_view_module": "@jupyter-widgets/base",
      "_view_module_version": "1.2.0",
      "_view_name": "LayoutView",
      "align_content": null,
      "align_items": null,
      "align_self": null,
      "border": null,
      "bottom": null,
      "display": null,
      "flex": null,
      "flex_flow": null,
      "grid_area": null,
      "grid_auto_columns": null,
      "grid_auto_flow": null,
      "grid_auto_rows": null,
      "grid_column": null,
      "grid_gap": null,
      "grid_row": null,
      "grid_template_areas": null,
      "grid_template_columns": null,
      "grid_template_rows": null,
      "height": null,
      "justify_content": null,
      "justify_items": null,
      "left": null,
      "margin": null,
      "max_height": null,
      "max_width": null,
      "min_height": null,
      "min_width": null,
      "object_fit": null,
      "object_position": null,
      "order": null,
      "overflow": null,
      "overflow_x": null,
      "overflow_y": null,
      "padding": null,
      "right": null,
      "top": null,
      "visibility": null,
      "width": null
     }
    },
    "73ae7a96e7944eee809f130ba6b72fc8": {
     "model_module": "@jupyter-widgets/controls",
     "model_module_version": "1.5.0",
     "model_name": "FloatProgressModel",
     "state": {
      "_dom_classes": [],
      "_model_module": "@jupyter-widgets/controls",
      "_model_module_version": "1.5.0",
      "_model_name": "FloatProgressModel",
      "_view_count": null,
      "_view_module": "@jupyter-widgets/controls",
      "_view_module_version": "1.5.0",
      "_view_name": "ProgressView",
      "bar_style": "success",
      "description": "",
      "description_tooltip": null,
      "layout": "IPY_MODEL_596bb234d5664f3493ed6bd84549dfa8",
      "max": 190,
      "min": 0,
      "orientation": "horizontal",
      "style": "IPY_MODEL_daa02f77b6f14e0cb4d743ddb3574cb6",
      "value": 190
     }
    },
    "74370d9146d646b88276c253a3cbefc9": {
     "model_module": "@jupyter-widgets/controls",
     "model_module_version": "1.5.0",
     "model_name": "ProgressStyleModel",
     "state": {
      "_model_module": "@jupyter-widgets/controls",
      "_model_module_version": "1.5.0",
      "_model_name": "ProgressStyleModel",
      "_view_count": null,
      "_view_module": "@jupyter-widgets/base",
      "_view_module_version": "1.2.0",
      "_view_name": "StyleView",
      "bar_color": null,
      "description_width": ""
     }
    },
    "7497b12aaee64e1d8363f7584fc1a4a5": {
     "model_module": "@jupyter-widgets/base",
     "model_module_version": "1.2.0",
     "model_name": "LayoutModel",
     "state": {
      "_model_module": "@jupyter-widgets/base",
      "_model_module_version": "1.2.0",
      "_model_name": "LayoutModel",
      "_view_count": null,
      "_view_module": "@jupyter-widgets/base",
      "_view_module_version": "1.2.0",
      "_view_name": "LayoutView",
      "align_content": null,
      "align_items": null,
      "align_self": null,
      "border": null,
      "bottom": null,
      "display": null,
      "flex": null,
      "flex_flow": null,
      "grid_area": null,
      "grid_auto_columns": null,
      "grid_auto_flow": null,
      "grid_auto_rows": null,
      "grid_column": null,
      "grid_gap": null,
      "grid_row": null,
      "grid_template_areas": null,
      "grid_template_columns": null,
      "grid_template_rows": null,
      "height": null,
      "justify_content": null,
      "justify_items": null,
      "left": null,
      "margin": null,
      "max_height": null,
      "max_width": null,
      "min_height": null,
      "min_width": null,
      "object_fit": null,
      "object_position": null,
      "order": null,
      "overflow": null,
      "overflow_x": null,
      "overflow_y": null,
      "padding": null,
      "right": null,
      "top": null,
      "visibility": null,
      "width": null
     }
    },
    "75a9da7f195d420c8726bc298ed662a7": {
     "model_module": "@jupyter-widgets/base",
     "model_module_version": "1.2.0",
     "model_name": "LayoutModel",
     "state": {
      "_model_module": "@jupyter-widgets/base",
      "_model_module_version": "1.2.0",
      "_model_name": "LayoutModel",
      "_view_count": null,
      "_view_module": "@jupyter-widgets/base",
      "_view_module_version": "1.2.0",
      "_view_name": "LayoutView",
      "align_content": null,
      "align_items": null,
      "align_self": null,
      "border": null,
      "bottom": null,
      "display": null,
      "flex": null,
      "flex_flow": null,
      "grid_area": null,
      "grid_auto_columns": null,
      "grid_auto_flow": null,
      "grid_auto_rows": null,
      "grid_column": null,
      "grid_gap": null,
      "grid_row": null,
      "grid_template_areas": null,
      "grid_template_columns": null,
      "grid_template_rows": null,
      "height": null,
      "justify_content": null,
      "justify_items": null,
      "left": null,
      "margin": null,
      "max_height": null,
      "max_width": null,
      "min_height": null,
      "min_width": null,
      "object_fit": null,
      "object_position": null,
      "order": null,
      "overflow": null,
      "overflow_x": null,
      "overflow_y": null,
      "padding": null,
      "right": null,
      "top": null,
      "visibility": null,
      "width": null
     }
    },
    "76452315284a499ba64ea3168e019c24": {
     "model_module": "@jupyter-widgets/controls",
     "model_module_version": "1.5.0",
     "model_name": "DescriptionStyleModel",
     "state": {
      "_model_module": "@jupyter-widgets/controls",
      "_model_module_version": "1.5.0",
      "_model_name": "DescriptionStyleModel",
      "_view_count": null,
      "_view_module": "@jupyter-widgets/base",
      "_view_module_version": "1.2.0",
      "_view_name": "StyleView",
      "description_width": ""
     }
    },
    "783cb77ebf6845b088dc4c9650eda462": {
     "model_module": "@jupyter-widgets/base",
     "model_module_version": "1.2.0",
     "model_name": "LayoutModel",
     "state": {
      "_model_module": "@jupyter-widgets/base",
      "_model_module_version": "1.2.0",
      "_model_name": "LayoutModel",
      "_view_count": null,
      "_view_module": "@jupyter-widgets/base",
      "_view_module_version": "1.2.0",
      "_view_name": "LayoutView",
      "align_content": null,
      "align_items": null,
      "align_self": null,
      "border": null,
      "bottom": null,
      "display": null,
      "flex": null,
      "flex_flow": null,
      "grid_area": null,
      "grid_auto_columns": null,
      "grid_auto_flow": null,
      "grid_auto_rows": null,
      "grid_column": null,
      "grid_gap": null,
      "grid_row": null,
      "grid_template_areas": null,
      "grid_template_columns": null,
      "grid_template_rows": null,
      "height": null,
      "justify_content": null,
      "justify_items": null,
      "left": null,
      "margin": null,
      "max_height": null,
      "max_width": null,
      "min_height": null,
      "min_width": null,
      "object_fit": null,
      "object_position": null,
      "order": null,
      "overflow": null,
      "overflow_x": null,
      "overflow_y": null,
      "padding": null,
      "right": null,
      "top": null,
      "visibility": null,
      "width": null
     }
    },
    "79ddfa4ecfeb4789a23bf3eabea1b3dd": {
     "model_module": "@jupyter-widgets/controls",
     "model_module_version": "1.5.0",
     "model_name": "HTMLModel",
     "state": {
      "_dom_classes": [],
      "_model_module": "@jupyter-widgets/controls",
      "_model_module_version": "1.5.0",
      "_model_name": "HTMLModel",
      "_view_count": null,
      "_view_module": "@jupyter-widgets/controls",
      "_view_module_version": "1.5.0",
      "_view_name": "HTMLView",
      "description": "",
      "description_tooltip": null,
      "layout": "IPY_MODEL_90322924303644d985cc5f16d09225a8",
      "placeholder": "​",
      "style": "IPY_MODEL_7da7aaa3e36f4cb598cbfe436e4cb1ee",
      "value": " 3.73k/3.73k [00:00&lt;00:00, 383kB/s]"
     }
    },
    "7a5a96f035104cddb5e0fecc6c7a9a8b": {
     "model_module": "@jupyter-widgets/base",
     "model_module_version": "1.2.0",
     "model_name": "LayoutModel",
     "state": {
      "_model_module": "@jupyter-widgets/base",
      "_model_module_version": "1.2.0",
      "_model_name": "LayoutModel",
      "_view_count": null,
      "_view_module": "@jupyter-widgets/base",
      "_view_module_version": "1.2.0",
      "_view_name": "LayoutView",
      "align_content": null,
      "align_items": null,
      "align_self": null,
      "border": null,
      "bottom": null,
      "display": null,
      "flex": null,
      "flex_flow": null,
      "grid_area": null,
      "grid_auto_columns": null,
      "grid_auto_flow": null,
      "grid_auto_rows": null,
      "grid_column": null,
      "grid_gap": null,
      "grid_row": null,
      "grid_template_areas": null,
      "grid_template_columns": null,
      "grid_template_rows": null,
      "height": null,
      "justify_content": null,
      "justify_items": null,
      "left": null,
      "margin": null,
      "max_height": null,
      "max_width": null,
      "min_height": null,
      "min_width": null,
      "object_fit": null,
      "object_position": null,
      "order": null,
      "overflow": null,
      "overflow_x": null,
      "overflow_y": null,
      "padding": null,
      "right": null,
      "top": null,
      "visibility": null,
      "width": null
     }
    },
    "7c1aa2f48d0b4f3eabb142c50524a868": {
     "model_module": "@jupyter-widgets/controls",
     "model_module_version": "1.5.0",
     "model_name": "DescriptionStyleModel",
     "state": {
      "_model_module": "@jupyter-widgets/controls",
      "_model_module_version": "1.5.0",
      "_model_name": "DescriptionStyleModel",
      "_view_count": null,
      "_view_module": "@jupyter-widgets/base",
      "_view_module_version": "1.2.0",
      "_view_name": "StyleView",
      "description_width": ""
     }
    },
    "7c6e61ded85345e7b93f73c9434b0589": {
     "model_module": "@jupyter-widgets/controls",
     "model_module_version": "1.5.0",
     "model_name": "ProgressStyleModel",
     "state": {
      "_model_module": "@jupyter-widgets/controls",
      "_model_module_version": "1.5.0",
      "_model_name": "ProgressStyleModel",
      "_view_count": null,
      "_view_module": "@jupyter-widgets/base",
      "_view_module_version": "1.2.0",
      "_view_name": "StyleView",
      "bar_color": null,
      "description_width": ""
     }
    },
    "7da7aaa3e36f4cb598cbfe436e4cb1ee": {
     "model_module": "@jupyter-widgets/controls",
     "model_module_version": "1.5.0",
     "model_name": "DescriptionStyleModel",
     "state": {
      "_model_module": "@jupyter-widgets/controls",
      "_model_module_version": "1.5.0",
      "_model_name": "DescriptionStyleModel",
      "_view_count": null,
      "_view_module": "@jupyter-widgets/base",
      "_view_module_version": "1.2.0",
      "_view_name": "StyleView",
      "description_width": ""
     }
    },
    "7f2470ecad274474b8889fdcd76dc5fa": {
     "model_module": "@jupyter-widgets/base",
     "model_module_version": "1.2.0",
     "model_name": "LayoutModel",
     "state": {
      "_model_module": "@jupyter-widgets/base",
      "_model_module_version": "1.2.0",
      "_model_name": "LayoutModel",
      "_view_count": null,
      "_view_module": "@jupyter-widgets/base",
      "_view_module_version": "1.2.0",
      "_view_name": "LayoutView",
      "align_content": null,
      "align_items": null,
      "align_self": null,
      "border": null,
      "bottom": null,
      "display": null,
      "flex": null,
      "flex_flow": null,
      "grid_area": null,
      "grid_auto_columns": null,
      "grid_auto_flow": null,
      "grid_auto_rows": null,
      "grid_column": null,
      "grid_gap": null,
      "grid_row": null,
      "grid_template_areas": null,
      "grid_template_columns": null,
      "grid_template_rows": null,
      "height": null,
      "justify_content": null,
      "justify_items": null,
      "left": null,
      "margin": null,
      "max_height": null,
      "max_width": null,
      "min_height": null,
      "min_width": null,
      "object_fit": null,
      "object_position": null,
      "order": null,
      "overflow": null,
      "overflow_x": null,
      "overflow_y": null,
      "padding": null,
      "right": null,
      "top": null,
      "visibility": null,
      "width": null
     }
    },
    "7ffdb696feba42a98f85453fd3315458": {
     "model_module": "@jupyter-widgets/base",
     "model_module_version": "1.2.0",
     "model_name": "LayoutModel",
     "state": {
      "_model_module": "@jupyter-widgets/base",
      "_model_module_version": "1.2.0",
      "_model_name": "LayoutModel",
      "_view_count": null,
      "_view_module": "@jupyter-widgets/base",
      "_view_module_version": "1.2.0",
      "_view_name": "LayoutView",
      "align_content": null,
      "align_items": null,
      "align_self": null,
      "border": null,
      "bottom": null,
      "display": null,
      "flex": null,
      "flex_flow": null,
      "grid_area": null,
      "grid_auto_columns": null,
      "grid_auto_flow": null,
      "grid_auto_rows": null,
      "grid_column": null,
      "grid_gap": null,
      "grid_row": null,
      "grid_template_areas": null,
      "grid_template_columns": null,
      "grid_template_rows": null,
      "height": null,
      "justify_content": null,
      "justify_items": null,
      "left": null,
      "margin": null,
      "max_height": null,
      "max_width": null,
      "min_height": null,
      "min_width": null,
      "object_fit": null,
      "object_position": null,
      "order": null,
      "overflow": null,
      "overflow_x": null,
      "overflow_y": null,
      "padding": null,
      "right": null,
      "top": null,
      "visibility": null,
      "width": null
     }
    },
    "8088e990c3ab47de950efdcab34d9043": {
     "model_module": "@jupyter-widgets/controls",
     "model_module_version": "1.5.0",
     "model_name": "FloatProgressModel",
     "state": {
      "_dom_classes": [],
      "_model_module": "@jupyter-widgets/controls",
      "_model_module_version": "1.5.0",
      "_model_name": "FloatProgressModel",
      "_view_count": null,
      "_view_module": "@jupyter-widgets/controls",
      "_view_module_version": "1.5.0",
      "_view_name": "ProgressView",
      "bar_style": "success",
      "description": "",
      "description_tooltip": null,
      "layout": "IPY_MODEL_783cb77ebf6845b088dc4c9650eda462",
      "max": 314,
      "min": 0,
      "orientation": "horizontal",
      "style": "IPY_MODEL_6943ae9e7ff449828e26b2d91316054c",
      "value": 314
     }
    },
    "80a74e7a15ce478ab6cf6f4d6e966da0": {
     "model_module": "@jupyter-widgets/controls",
     "model_module_version": "1.5.0",
     "model_name": "ProgressStyleModel",
     "state": {
      "_model_module": "@jupyter-widgets/controls",
      "_model_module_version": "1.5.0",
      "_model_name": "ProgressStyleModel",
      "_view_count": null,
      "_view_module": "@jupyter-widgets/base",
      "_view_module_version": "1.2.0",
      "_view_name": "StyleView",
      "bar_color": null,
      "description_width": ""
     }
    },
    "8181e6b5af1141f6901e69cedb151169": {
     "model_module": "@jupyter-widgets/base",
     "model_module_version": "1.2.0",
     "model_name": "LayoutModel",
     "state": {
      "_model_module": "@jupyter-widgets/base",
      "_model_module_version": "1.2.0",
      "_model_name": "LayoutModel",
      "_view_count": null,
      "_view_module": "@jupyter-widgets/base",
      "_view_module_version": "1.2.0",
      "_view_name": "LayoutView",
      "align_content": null,
      "align_items": null,
      "align_self": null,
      "border": null,
      "bottom": null,
      "display": null,
      "flex": null,
      "flex_flow": null,
      "grid_area": null,
      "grid_auto_columns": null,
      "grid_auto_flow": null,
      "grid_auto_rows": null,
      "grid_column": null,
      "grid_gap": null,
      "grid_row": null,
      "grid_template_areas": null,
      "grid_template_columns": null,
      "grid_template_rows": null,
      "height": null,
      "justify_content": null,
      "justify_items": null,
      "left": null,
      "margin": null,
      "max_height": null,
      "max_width": null,
      "min_height": null,
      "min_width": null,
      "object_fit": null,
      "object_position": null,
      "order": null,
      "overflow": null,
      "overflow_x": null,
      "overflow_y": null,
      "padding": null,
      "right": null,
      "top": null,
      "visibility": null,
      "width": null
     }
    },
    "842371a334e14a26bf1d7994448de09c": {
     "model_module": "@jupyter-widgets/controls",
     "model_module_version": "1.5.0",
     "model_name": "HTMLModel",
     "state": {
      "_dom_classes": [],
      "_model_module": "@jupyter-widgets/controls",
      "_model_module_version": "1.5.0",
      "_model_name": "HTMLModel",
      "_view_count": null,
      "_view_module": "@jupyter-widgets/controls",
      "_view_module_version": "1.5.0",
      "_view_name": "HTMLView",
      "description": "",
      "description_tooltip": null,
      "layout": "IPY_MODEL_b2bd7398640e4eb0bc9c6570ad4b1ae4",
      "placeholder": "​",
      "style": "IPY_MODEL_034ae1ab6c0c4a88a2a3023e243bbbb3",
      "value": "tokenizer.json: 100%"
     }
    },
    "88cd9a8a92584a35be2c8766b29be5ea": {
     "model_module": "@jupyter-widgets/controls",
     "model_module_version": "1.5.0",
     "model_name": "FloatProgressModel",
     "state": {
      "_dom_classes": [],
      "_model_module": "@jupyter-widgets/controls",
      "_model_module_version": "1.5.0",
      "_model_name": "FloatProgressModel",
      "_view_count": null,
      "_view_module": "@jupyter-widgets/controls",
      "_view_module_version": "1.5.0",
      "_view_name": "ProgressView",
      "bar_style": "success",
      "description": "",
      "description_tooltip": null,
      "layout": "IPY_MODEL_c8242b2504fe40aa9e6846149732a1ed",
      "max": 1238,
      "min": 0,
      "orientation": "horizontal",
      "style": "IPY_MODEL_7c6e61ded85345e7b93f73c9434b0589",
      "value": 1238
     }
    },
    "8b8a7e171be446b383bbfbdc4ccf2acb": {
     "model_module": "@jupyter-widgets/controls",
     "model_module_version": "1.5.0",
     "model_name": "HBoxModel",
     "state": {
      "_dom_classes": [],
      "_model_module": "@jupyter-widgets/controls",
      "_model_module_version": "1.5.0",
      "_model_name": "HBoxModel",
      "_view_count": null,
      "_view_module": "@jupyter-widgets/controls",
      "_view_module_version": "1.5.0",
      "_view_name": "HBoxView",
      "box_style": "",
      "children": [
       "IPY_MODEL_fe3a3cef0dd64a81a6f868254846e5d7",
       "IPY_MODEL_b05b448942f04ed4a39505a97799965d",
       "IPY_MODEL_4a933043eaf64f839ad6a7f383de1404"
      ],
      "layout": "IPY_MODEL_a64dbcaffb7244f68ceca50ed1e43120"
     }
    },
    "8d0bd8964f8f418b92496f77181dbb0f": {
     "model_module": "@jupyter-widgets/controls",
     "model_module_version": "1.5.0",
     "model_name": "HTMLModel",
     "state": {
      "_dom_classes": [],
      "_model_module": "@jupyter-widgets/controls",
      "_model_module_version": "1.5.0",
      "_model_name": "HTMLModel",
      "_view_count": null,
      "_view_module": "@jupyter-widgets/controls",
      "_view_module_version": "1.5.0",
      "_view_name": "HTMLView",
      "description": "",
      "description_tooltip": null,
      "layout": "IPY_MODEL_1c3a40cc8fd24217823ad73e9a17916b",
      "placeholder": "​",
      "style": "IPY_MODEL_0cd4c74771524972a25f2e1ba2d8b0a7",
      "value": "1_Pooling%2Fconfig.json: 100%"
     }
    },
    "8d89eaaa21c94b6fab3b606141b9624f": {
     "model_module": "@jupyter-widgets/controls",
     "model_module_version": "1.5.0",
     "model_name": "HBoxModel",
     "state": {
      "_dom_classes": [],
      "_model_module": "@jupyter-widgets/controls",
      "_model_module_version": "1.5.0",
      "_model_name": "HBoxModel",
      "_view_count": null,
      "_view_module": "@jupyter-widgets/controls",
      "_view_module_version": "1.5.0",
      "_view_name": "HBoxView",
      "box_style": "",
      "children": [
       "IPY_MODEL_8d0bd8964f8f418b92496f77181dbb0f",
       "IPY_MODEL_73ae7a96e7944eee809f130ba6b72fc8",
       "IPY_MODEL_d8b350ccce1043589f855a01b4bc5ef5"
      ],
      "layout": "IPY_MODEL_7ffdb696feba42a98f85453fd3315458"
     }
    },
    "8f9e78e51c564b318852d9a1b1985480": {
     "model_module": "@jupyter-widgets/controls",
     "model_module_version": "1.5.0",
     "model_name": "DescriptionStyleModel",
     "state": {
      "_model_module": "@jupyter-widgets/controls",
      "_model_module_version": "1.5.0",
      "_model_name": "DescriptionStyleModel",
      "_view_count": null,
      "_view_module": "@jupyter-widgets/base",
      "_view_module_version": "1.2.0",
      "_view_name": "StyleView",
      "description_width": ""
     }
    },
    "90322924303644d985cc5f16d09225a8": {
     "model_module": "@jupyter-widgets/base",
     "model_module_version": "1.2.0",
     "model_name": "LayoutModel",
     "state": {
      "_model_module": "@jupyter-widgets/base",
      "_model_module_version": "1.2.0",
      "_model_name": "LayoutModel",
      "_view_count": null,
      "_view_module": "@jupyter-widgets/base",
      "_view_module_version": "1.2.0",
      "_view_name": "LayoutView",
      "align_content": null,
      "align_items": null,
      "align_self": null,
      "border": null,
      "bottom": null,
      "display": null,
      "flex": null,
      "flex_flow": null,
      "grid_area": null,
      "grid_auto_columns": null,
      "grid_auto_flow": null,
      "grid_auto_rows": null,
      "grid_column": null,
      "grid_gap": null,
      "grid_row": null,
      "grid_template_areas": null,
      "grid_template_columns": null,
      "grid_template_rows": null,
      "height": null,
      "justify_content": null,
      "justify_items": null,
      "left": null,
      "margin": null,
      "max_height": null,
      "max_width": null,
      "min_height": null,
      "min_width": null,
      "object_fit": null,
      "object_position": null,
      "order": null,
      "overflow": null,
      "overflow_x": null,
      "overflow_y": null,
      "padding": null,
      "right": null,
      "top": null,
      "visibility": null,
      "width": null
     }
    },
    "9201bb6f47e44117b3ee6c4ce2d18e3b": {
     "model_module": "@jupyter-widgets/controls",
     "model_module_version": "1.5.0",
     "model_name": "DescriptionStyleModel",
     "state": {
      "_model_module": "@jupyter-widgets/controls",
      "_model_module_version": "1.5.0",
      "_model_name": "DescriptionStyleModel",
      "_view_count": null,
      "_view_module": "@jupyter-widgets/base",
      "_view_module_version": "1.2.0",
      "_view_name": "StyleView",
      "description_width": ""
     }
    },
    "9562b9ad8bf949acb90ec10ecb925e48": {
     "model_module": "@jupyter-widgets/base",
     "model_module_version": "1.2.0",
     "model_name": "LayoutModel",
     "state": {
      "_model_module": "@jupyter-widgets/base",
      "_model_module_version": "1.2.0",
      "_model_name": "LayoutModel",
      "_view_count": null,
      "_view_module": "@jupyter-widgets/base",
      "_view_module_version": "1.2.0",
      "_view_name": "LayoutView",
      "align_content": null,
      "align_items": null,
      "align_self": null,
      "border": null,
      "bottom": null,
      "display": null,
      "flex": null,
      "flex_flow": null,
      "grid_area": null,
      "grid_auto_columns": null,
      "grid_auto_flow": null,
      "grid_auto_rows": null,
      "grid_column": null,
      "grid_gap": null,
      "grid_row": null,
      "grid_template_areas": null,
      "grid_template_columns": null,
      "grid_template_rows": null,
      "height": null,
      "justify_content": null,
      "justify_items": null,
      "left": null,
      "margin": null,
      "max_height": null,
      "max_width": null,
      "min_height": null,
      "min_width": null,
      "object_fit": null,
      "object_position": null,
      "order": null,
      "overflow": null,
      "overflow_x": null,
      "overflow_y": null,
      "padding": null,
      "right": null,
      "top": null,
      "visibility": null,
      "width": null
     }
    },
    "95fefa62d8874473846e38c1e042be35": {
     "model_module": "@jupyter-widgets/controls",
     "model_module_version": "1.5.0",
     "model_name": "HTMLModel",
     "state": {
      "_dom_classes": [],
      "_model_module": "@jupyter-widgets/controls",
      "_model_module_version": "1.5.0",
      "_model_name": "HTMLModel",
      "_view_count": null,
      "_view_module": "@jupyter-widgets/controls",
      "_view_module_version": "1.5.0",
      "_view_name": "HTMLView",
      "description": "",
      "description_tooltip": null,
      "layout": "IPY_MODEL_a128b5a496eb43f1953d87ebeca86c57",
      "placeholder": "​",
      "style": "IPY_MODEL_03f916308ad54b49ac6ee4a4b6afd289",
      "value": "modules.json: 100%"
     }
    },
    "99e308769cfe443993bffeeacec1bd63": {
     "model_module": "@jupyter-widgets/controls",
     "model_module_version": "1.5.0",
     "model_name": "HTMLModel",
     "state": {
      "_dom_classes": [],
      "_model_module": "@jupyter-widgets/controls",
      "_model_module_version": "1.5.0",
      "_model_name": "HTMLModel",
      "_view_count": null,
      "_view_module": "@jupyter-widgets/controls",
      "_view_module_version": "1.5.0",
      "_view_name": "HTMLView",
      "description": "",
      "description_tooltip": null,
      "layout": "IPY_MODEL_c2a21030fcdf412f8b4cf9df1744b3c7",
      "placeholder": "​",
      "style": "IPY_MODEL_07a601090f8b4e268be9b18e95df8826",
      "value": " 314/314 [00:00&lt;00:00, 33.0kB/s]"
     }
    },
    "9bfcf9f651f54fd3acf44e12ab0a97e2": {
     "model_module": "@jupyter-widgets/base",
     "model_module_version": "1.2.0",
     "model_name": "LayoutModel",
     "state": {
      "_model_module": "@jupyter-widgets/base",
      "_model_module_version": "1.2.0",
      "_model_name": "LayoutModel",
      "_view_count": null,
      "_view_module": "@jupyter-widgets/base",
      "_view_module_version": "1.2.0",
      "_view_name": "LayoutView",
      "align_content": null,
      "align_items": null,
      "align_self": null,
      "border": null,
      "bottom": null,
      "display": null,
      "flex": null,
      "flex_flow": null,
      "grid_area": null,
      "grid_auto_columns": null,
      "grid_auto_flow": null,
      "grid_auto_rows": null,
      "grid_column": null,
      "grid_gap": null,
      "grid_row": null,
      "grid_template_areas": null,
      "grid_template_columns": null,
      "grid_template_rows": null,
      "height": null,
      "justify_content": null,
      "justify_items": null,
      "left": null,
      "margin": null,
      "max_height": null,
      "max_width": null,
      "min_height": null,
      "min_width": null,
      "object_fit": null,
      "object_position": null,
      "order": null,
      "overflow": null,
      "overflow_x": null,
      "overflow_y": null,
      "padding": null,
      "right": null,
      "top": null,
      "visibility": null,
      "width": null
     }
    },
    "9c303ab5526e4ca185ecab1753dab4f2": {
     "model_module": "@jupyter-widgets/controls",
     "model_module_version": "1.5.0",
     "model_name": "HTMLModel",
     "state": {
      "_dom_classes": [],
      "_model_module": "@jupyter-widgets/controls",
      "_model_module_version": "1.5.0",
      "_model_name": "HTMLModel",
      "_view_count": null,
      "_view_module": "@jupyter-widgets/controls",
      "_view_module_version": "1.5.0",
      "_view_name": "HTMLView",
      "description": "",
      "description_tooltip": null,
      "layout": "IPY_MODEL_db7809d71c664b0b81c6cef35400969c",
      "placeholder": "​",
      "style": "IPY_MODEL_1a606f47100d4329aa8fed09fe0388d4",
      "value": "config_sentence_transformers.json: 100%"
     }
    },
    "9dbf76700c3e4213b3ee221576ef7f5a": {
     "model_module": "@jupyter-widgets/controls",
     "model_module_version": "1.5.0",
     "model_name": "HBoxModel",
     "state": {
      "_dom_classes": [],
      "_model_module": "@jupyter-widgets/controls",
      "_model_module_version": "1.5.0",
      "_model_name": "HBoxModel",
      "_view_count": null,
      "_view_module": "@jupyter-widgets/controls",
      "_view_module_version": "1.5.0",
      "_view_name": "HBoxView",
      "box_style": "",
      "children": [
       "IPY_MODEL_194521d8793f4dab8d76616b9aef4b03",
       "IPY_MODEL_3e633ec957124f8ca1cc3690a5cd983a",
       "IPY_MODEL_509507a446634b0786b53938630a554c"
      ],
      "layout": "IPY_MODEL_4f1eb2094d294c1a95e83c29c4e6e6bf"
     }
    },
    "9fd88e60cb4242978d429f40d07e1d1d": {
     "model_module": "@jupyter-widgets/base",
     "model_module_version": "1.2.0",
     "model_name": "LayoutModel",
     "state": {
      "_model_module": "@jupyter-widgets/base",
      "_model_module_version": "1.2.0",
      "_model_name": "LayoutModel",
      "_view_count": null,
      "_view_module": "@jupyter-widgets/base",
      "_view_module_version": "1.2.0",
      "_view_name": "LayoutView",
      "align_content": null,
      "align_items": null,
      "align_self": null,
      "border": null,
      "bottom": null,
      "display": null,
      "flex": null,
      "flex_flow": null,
      "grid_area": null,
      "grid_auto_columns": null,
      "grid_auto_flow": null,
      "grid_auto_rows": null,
      "grid_column": null,
      "grid_gap": null,
      "grid_row": null,
      "grid_template_areas": null,
      "grid_template_columns": null,
      "grid_template_rows": null,
      "height": null,
      "justify_content": null,
      "justify_items": null,
      "left": null,
      "margin": null,
      "max_height": null,
      "max_width": null,
      "min_height": null,
      "min_width": null,
      "object_fit": null,
      "object_position": null,
      "order": null,
      "overflow": null,
      "overflow_x": null,
      "overflow_y": null,
      "padding": null,
      "right": null,
      "top": null,
      "visibility": null,
      "width": null
     }
    },
    "a128b5a496eb43f1953d87ebeca86c57": {
     "model_module": "@jupyter-widgets/base",
     "model_module_version": "1.2.0",
     "model_name": "LayoutModel",
     "state": {
      "_model_module": "@jupyter-widgets/base",
      "_model_module_version": "1.2.0",
      "_model_name": "LayoutModel",
      "_view_count": null,
      "_view_module": "@jupyter-widgets/base",
      "_view_module_version": "1.2.0",
      "_view_name": "LayoutView",
      "align_content": null,
      "align_items": null,
      "align_self": null,
      "border": null,
      "bottom": null,
      "display": null,
      "flex": null,
      "flex_flow": null,
      "grid_area": null,
      "grid_auto_columns": null,
      "grid_auto_flow": null,
      "grid_auto_rows": null,
      "grid_column": null,
      "grid_gap": null,
      "grid_row": null,
      "grid_template_areas": null,
      "grid_template_columns": null,
      "grid_template_rows": null,
      "height": null,
      "justify_content": null,
      "justify_items": null,
      "left": null,
      "margin": null,
      "max_height": null,
      "max_width": null,
      "min_height": null,
      "min_width": null,
      "object_fit": null,
      "object_position": null,
      "order": null,
      "overflow": null,
      "overflow_x": null,
      "overflow_y": null,
      "padding": null,
      "right": null,
      "top": null,
      "visibility": null,
      "width": null
     }
    },
    "a64dbcaffb7244f68ceca50ed1e43120": {
     "model_module": "@jupyter-widgets/base",
     "model_module_version": "1.2.0",
     "model_name": "LayoutModel",
     "state": {
      "_model_module": "@jupyter-widgets/base",
      "_model_module_version": "1.2.0",
      "_model_name": "LayoutModel",
      "_view_count": null,
      "_view_module": "@jupyter-widgets/base",
      "_view_module_version": "1.2.0",
      "_view_name": "LayoutView",
      "align_content": null,
      "align_items": null,
      "align_self": null,
      "border": null,
      "bottom": null,
      "display": null,
      "flex": null,
      "flex_flow": null,
      "grid_area": null,
      "grid_auto_columns": null,
      "grid_auto_flow": null,
      "grid_auto_rows": null,
      "grid_column": null,
      "grid_gap": null,
      "grid_row": null,
      "grid_template_areas": null,
      "grid_template_columns": null,
      "grid_template_rows": null,
      "height": null,
      "justify_content": null,
      "justify_items": null,
      "left": null,
      "margin": null,
      "max_height": null,
      "max_width": null,
      "min_height": null,
      "min_width": null,
      "object_fit": null,
      "object_position": null,
      "order": null,
      "overflow": null,
      "overflow_x": null,
      "overflow_y": null,
      "padding": null,
      "right": null,
      "top": null,
      "visibility": null,
      "width": null
     }
    },
    "a7075b4bc7b3412f9bf41e1a7af26546": {
     "model_module": "@jupyter-widgets/base",
     "model_module_version": "1.2.0",
     "model_name": "LayoutModel",
     "state": {
      "_model_module": "@jupyter-widgets/base",
      "_model_module_version": "1.2.0",
      "_model_name": "LayoutModel",
      "_view_count": null,
      "_view_module": "@jupyter-widgets/base",
      "_view_module_version": "1.2.0",
      "_view_name": "LayoutView",
      "align_content": null,
      "align_items": null,
      "align_self": null,
      "border": null,
      "bottom": null,
      "display": null,
      "flex": null,
      "flex_flow": null,
      "grid_area": null,
      "grid_auto_columns": null,
      "grid_auto_flow": null,
      "grid_auto_rows": null,
      "grid_column": null,
      "grid_gap": null,
      "grid_row": null,
      "grid_template_areas": null,
      "grid_template_columns": null,
      "grid_template_rows": null,
      "height": null,
      "justify_content": null,
      "justify_items": null,
      "left": null,
      "margin": null,
      "max_height": null,
      "max_width": null,
      "min_height": null,
      "min_width": null,
      "object_fit": null,
      "object_position": null,
      "order": null,
      "overflow": null,
      "overflow_x": null,
      "overflow_y": null,
      "padding": null,
      "right": null,
      "top": null,
      "visibility": null,
      "width": null
     }
    },
    "a74f5e5ccbe64f11aeaad72f173791ed": {
     "model_module": "@jupyter-widgets/controls",
     "model_module_version": "1.5.0",
     "model_name": "HBoxModel",
     "state": {
      "_dom_classes": [],
      "_model_module": "@jupyter-widgets/controls",
      "_model_module_version": "1.5.0",
      "_model_name": "HBoxModel",
      "_view_count": null,
      "_view_module": "@jupyter-widgets/controls",
      "_view_module_version": "1.5.0",
      "_view_name": "HBoxView",
      "box_style": "",
      "children": [
       "IPY_MODEL_9c303ab5526e4ca185ecab1753dab4f2",
       "IPY_MODEL_13fed24d402b4bf48a068ca7a9f12110",
       "IPY_MODEL_b74560167f19453cb476a688e90087b7"
      ],
      "layout": "IPY_MODEL_5a5da49f59204f3c85a8bef078b87c0f"
     }
    },
    "a7743657825341d6af0e0e1c4aad1922": {
     "model_module": "@jupyter-widgets/base",
     "model_module_version": "1.2.0",
     "model_name": "LayoutModel",
     "state": {
      "_model_module": "@jupyter-widgets/base",
      "_model_module_version": "1.2.0",
      "_model_name": "LayoutModel",
      "_view_count": null,
      "_view_module": "@jupyter-widgets/base",
      "_view_module_version": "1.2.0",
      "_view_name": "LayoutView",
      "align_content": null,
      "align_items": null,
      "align_self": null,
      "border": null,
      "bottom": null,
      "display": null,
      "flex": null,
      "flex_flow": null,
      "grid_area": null,
      "grid_auto_columns": null,
      "grid_auto_flow": null,
      "grid_auto_rows": null,
      "grid_column": null,
      "grid_gap": null,
      "grid_row": null,
      "grid_template_areas": null,
      "grid_template_columns": null,
      "grid_template_rows": null,
      "height": null,
      "justify_content": null,
      "justify_items": null,
      "left": null,
      "margin": null,
      "max_height": null,
      "max_width": null,
      "min_height": null,
      "min_width": null,
      "object_fit": null,
      "object_position": null,
      "order": null,
      "overflow": null,
      "overflow_x": null,
      "overflow_y": null,
      "padding": null,
      "right": null,
      "top": null,
      "visibility": null,
      "width": null
     }
    },
    "a787fd4de9dc4f35be9f7946d4e2ae3b": {
     "model_module": "@jupyter-widgets/base",
     "model_module_version": "1.2.0",
     "model_name": "LayoutModel",
     "state": {
      "_model_module": "@jupyter-widgets/base",
      "_model_module_version": "1.2.0",
      "_model_name": "LayoutModel",
      "_view_count": null,
      "_view_module": "@jupyter-widgets/base",
      "_view_module_version": "1.2.0",
      "_view_name": "LayoutView",
      "align_content": null,
      "align_items": null,
      "align_self": null,
      "border": null,
      "bottom": null,
      "display": null,
      "flex": null,
      "flex_flow": null,
      "grid_area": null,
      "grid_auto_columns": null,
      "grid_auto_flow": null,
      "grid_auto_rows": null,
      "grid_column": null,
      "grid_gap": null,
      "grid_row": null,
      "grid_template_areas": null,
      "grid_template_columns": null,
      "grid_template_rows": null,
      "height": null,
      "justify_content": null,
      "justify_items": null,
      "left": null,
      "margin": null,
      "max_height": null,
      "max_width": null,
      "min_height": null,
      "min_width": null,
      "object_fit": null,
      "object_position": null,
      "order": null,
      "overflow": null,
      "overflow_x": null,
      "overflow_y": null,
      "padding": null,
      "right": null,
      "top": null,
      "visibility": null,
      "width": null
     }
    },
    "a7bb97d9967d4b1abb4a519fa190dc83": {
     "model_module": "@jupyter-widgets/base",
     "model_module_version": "1.2.0",
     "model_name": "LayoutModel",
     "state": {
      "_model_module": "@jupyter-widgets/base",
      "_model_module_version": "1.2.0",
      "_model_name": "LayoutModel",
      "_view_count": null,
      "_view_module": "@jupyter-widgets/base",
      "_view_module_version": "1.2.0",
      "_view_name": "LayoutView",
      "align_content": null,
      "align_items": null,
      "align_self": null,
      "border": null,
      "bottom": null,
      "display": null,
      "flex": null,
      "flex_flow": null,
      "grid_area": null,
      "grid_auto_columns": null,
      "grid_auto_flow": null,
      "grid_auto_rows": null,
      "grid_column": null,
      "grid_gap": null,
      "grid_row": null,
      "grid_template_areas": null,
      "grid_template_columns": null,
      "grid_template_rows": null,
      "height": null,
      "justify_content": null,
      "justify_items": null,
      "left": null,
      "margin": null,
      "max_height": null,
      "max_width": null,
      "min_height": null,
      "min_width": null,
      "object_fit": null,
      "object_position": null,
      "order": null,
      "overflow": null,
      "overflow_x": null,
      "overflow_y": null,
      "padding": null,
      "right": null,
      "top": null,
      "visibility": null,
      "width": null
     }
    },
    "abe2447d40f8435fa95062b1e5e1b108": {
     "model_module": "@jupyter-widgets/base",
     "model_module_version": "1.2.0",
     "model_name": "LayoutModel",
     "state": {
      "_model_module": "@jupyter-widgets/base",
      "_model_module_version": "1.2.0",
      "_model_name": "LayoutModel",
      "_view_count": null,
      "_view_module": "@jupyter-widgets/base",
      "_view_module_version": "1.2.0",
      "_view_name": "LayoutView",
      "align_content": null,
      "align_items": null,
      "align_self": null,
      "border": null,
      "bottom": null,
      "display": null,
      "flex": null,
      "flex_flow": null,
      "grid_area": null,
      "grid_auto_columns": null,
      "grid_auto_flow": null,
      "grid_auto_rows": null,
      "grid_column": null,
      "grid_gap": null,
      "grid_row": null,
      "grid_template_areas": null,
      "grid_template_columns": null,
      "grid_template_rows": null,
      "height": null,
      "justify_content": null,
      "justify_items": null,
      "left": null,
      "margin": null,
      "max_height": null,
      "max_width": null,
      "min_height": null,
      "min_width": null,
      "object_fit": null,
      "object_position": null,
      "order": null,
      "overflow": null,
      "overflow_x": null,
      "overflow_y": null,
      "padding": null,
      "right": null,
      "top": null,
      "visibility": null,
      "width": null
     }
    },
    "af751c4768114aebaad0abf5defb460f": {
     "model_module": "@jupyter-widgets/base",
     "model_module_version": "1.2.0",
     "model_name": "LayoutModel",
     "state": {
      "_model_module": "@jupyter-widgets/base",
      "_model_module_version": "1.2.0",
      "_model_name": "LayoutModel",
      "_view_count": null,
      "_view_module": "@jupyter-widgets/base",
      "_view_module_version": "1.2.0",
      "_view_name": "LayoutView",
      "align_content": null,
      "align_items": null,
      "align_self": null,
      "border": null,
      "bottom": null,
      "display": null,
      "flex": null,
      "flex_flow": null,
      "grid_area": null,
      "grid_auto_columns": null,
      "grid_auto_flow": null,
      "grid_auto_rows": null,
      "grid_column": null,
      "grid_gap": null,
      "grid_row": null,
      "grid_template_areas": null,
      "grid_template_columns": null,
      "grid_template_rows": null,
      "height": null,
      "justify_content": null,
      "justify_items": null,
      "left": null,
      "margin": null,
      "max_height": null,
      "max_width": null,
      "min_height": null,
      "min_width": null,
      "object_fit": null,
      "object_position": null,
      "order": null,
      "overflow": null,
      "overflow_x": null,
      "overflow_y": null,
      "padding": null,
      "right": null,
      "top": null,
      "visibility": null,
      "width": null
     }
    },
    "b05b448942f04ed4a39505a97799965d": {
     "model_module": "@jupyter-widgets/controls",
     "model_module_version": "1.5.0",
     "model_name": "FloatProgressModel",
     "state": {
      "_dom_classes": [],
      "_model_module": "@jupyter-widgets/controls",
      "_model_module_version": "1.5.0",
      "_model_name": "FloatProgressModel",
      "_view_count": null,
      "_view_module": "@jupyter-widgets/controls",
      "_view_module_version": "1.5.0",
      "_view_name": "ProgressView",
      "bar_style": "success",
      "description": "",
      "description_tooltip": null,
      "layout": "IPY_MODEL_f5a793433d574e74bfd9ade865a0f1cc",
      "max": 90868373,
      "min": 0,
      "orientation": "horizontal",
      "style": "IPY_MODEL_e17b55b2a46845f6af37c0443452a220",
      "value": 90868373
     }
    },
    "b2bd7398640e4eb0bc9c6570ad4b1ae4": {
     "model_module": "@jupyter-widgets/base",
     "model_module_version": "1.2.0",
     "model_name": "LayoutModel",
     "state": {
      "_model_module": "@jupyter-widgets/base",
      "_model_module_version": "1.2.0",
      "_model_name": "LayoutModel",
      "_view_count": null,
      "_view_module": "@jupyter-widgets/base",
      "_view_module_version": "1.2.0",
      "_view_name": "LayoutView",
      "align_content": null,
      "align_items": null,
      "align_self": null,
      "border": null,
      "bottom": null,
      "display": null,
      "flex": null,
      "flex_flow": null,
      "grid_area": null,
      "grid_auto_columns": null,
      "grid_auto_flow": null,
      "grid_auto_rows": null,
      "grid_column": null,
      "grid_gap": null,
      "grid_row": null,
      "grid_template_areas": null,
      "grid_template_columns": null,
      "grid_template_rows": null,
      "height": null,
      "justify_content": null,
      "justify_items": null,
      "left": null,
      "margin": null,
      "max_height": null,
      "max_width": null,
      "min_height": null,
      "min_width": null,
      "object_fit": null,
      "object_position": null,
      "order": null,
      "overflow": null,
      "overflow_x": null,
      "overflow_y": null,
      "padding": null,
      "right": null,
      "top": null,
      "visibility": null,
      "width": null
     }
    },
    "b2c8b9debe284b5c903a17d077334865": {
     "model_module": "@jupyter-widgets/controls",
     "model_module_version": "1.5.0",
     "model_name": "DescriptionStyleModel",
     "state": {
      "_model_module": "@jupyter-widgets/controls",
      "_model_module_version": "1.5.0",
      "_model_name": "DescriptionStyleModel",
      "_view_count": null,
      "_view_module": "@jupyter-widgets/base",
      "_view_module_version": "1.2.0",
      "_view_name": "StyleView",
      "description_width": ""
     }
    },
    "b367053208e74bae9c7867191264cd79": {
     "model_module": "@jupyter-widgets/controls",
     "model_module_version": "1.5.0",
     "model_name": "HBoxModel",
     "state": {
      "_dom_classes": [],
      "_model_module": "@jupyter-widgets/controls",
      "_model_module_version": "1.5.0",
      "_model_name": "HBoxModel",
      "_view_count": null,
      "_view_module": "@jupyter-widgets/controls",
      "_view_module_version": "1.5.0",
      "_view_name": "HBoxView",
      "box_style": "",
      "children": [
       "IPY_MODEL_34f05200e51e4afd9c87163ef1060e71",
       "IPY_MODEL_5ee02a457b0d47b395e89ae1602f5215",
       "IPY_MODEL_66c4b65d75b4472a89df8da9ffe3e7d5"
      ],
      "layout": "IPY_MODEL_9fd88e60cb4242978d429f40d07e1d1d"
     }
    },
    "b74560167f19453cb476a688e90087b7": {
     "model_module": "@jupyter-widgets/controls",
     "model_module_version": "1.5.0",
     "model_name": "HTMLModel",
     "state": {
      "_dom_classes": [],
      "_model_module": "@jupyter-widgets/controls",
      "_model_module_version": "1.5.0",
      "_model_name": "HTMLModel",
      "_view_count": null,
      "_view_module": "@jupyter-widgets/controls",
      "_view_module_version": "1.5.0",
      "_view_name": "HTMLView",
      "description": "",
      "description_tooltip": null,
      "layout": "IPY_MODEL_33833c6082fe422ab86d11b7543550a8",
      "placeholder": "​",
      "style": "IPY_MODEL_602c924a63fc44479bec96d6d0a4a586",
      "value": " 122/122 [00:00&lt;00:00, 13.2kB/s]"
     }
    },
    "b764a69af6dc4504a4bcc0571be7856c": {
     "model_module": "@jupyter-widgets/controls",
     "model_module_version": "1.5.0",
     "model_name": "FloatProgressModel",
     "state": {
      "_dom_classes": [],
      "_model_module": "@jupyter-widgets/controls",
      "_model_module_version": "1.5.0",
      "_model_name": "FloatProgressModel",
      "_view_count": null,
      "_view_module": "@jupyter-widgets/controls",
      "_view_module_version": "1.5.0",
      "_view_name": "ProgressView",
      "bar_style": "success",
      "description": "",
      "description_tooltip": null,
      "layout": "IPY_MODEL_fd77ae58700b47bd97763ece40d02592",
      "max": 112,
      "min": 0,
      "orientation": "horizontal",
      "style": "IPY_MODEL_ccb653e93def4927ab23cafb9c099d0c",
      "value": 112
     }
    },
    "bbf4cfb5f3d34b059e25d08b4c445adf": {
     "model_module": "@jupyter-widgets/controls",
     "model_module_version": "1.5.0",
     "model_name": "ProgressStyleModel",
     "state": {
      "_model_module": "@jupyter-widgets/controls",
      "_model_module_version": "1.5.0",
      "_model_name": "ProgressStyleModel",
      "_view_count": null,
      "_view_module": "@jupyter-widgets/base",
      "_view_module_version": "1.2.0",
      "_view_name": "StyleView",
      "bar_color": null,
      "description_width": ""
     }
    },
    "bf321e86805c4068849a6a09073ad1f1": {
     "model_module": "@jupyter-widgets/base",
     "model_module_version": "1.2.0",
     "model_name": "LayoutModel",
     "state": {
      "_model_module": "@jupyter-widgets/base",
      "_model_module_version": "1.2.0",
      "_model_name": "LayoutModel",
      "_view_count": null,
      "_view_module": "@jupyter-widgets/base",
      "_view_module_version": "1.2.0",
      "_view_name": "LayoutView",
      "align_content": null,
      "align_items": null,
      "align_self": null,
      "border": null,
      "bottom": null,
      "display": null,
      "flex": null,
      "flex_flow": null,
      "grid_area": null,
      "grid_auto_columns": null,
      "grid_auto_flow": null,
      "grid_auto_rows": null,
      "grid_column": null,
      "grid_gap": null,
      "grid_row": null,
      "grid_template_areas": null,
      "grid_template_columns": null,
      "grid_template_rows": null,
      "height": null,
      "justify_content": null,
      "justify_items": null,
      "left": null,
      "margin": null,
      "max_height": null,
      "max_width": null,
      "min_height": null,
      "min_width": null,
      "object_fit": null,
      "object_position": null,
      "order": null,
      "overflow": null,
      "overflow_x": null,
      "overflow_y": null,
      "padding": null,
      "right": null,
      "top": null,
      "visibility": null,
      "width": null
     }
    },
    "c2a21030fcdf412f8b4cf9df1744b3c7": {
     "model_module": "@jupyter-widgets/base",
     "model_module_version": "1.2.0",
     "model_name": "LayoutModel",
     "state": {
      "_model_module": "@jupyter-widgets/base",
      "_model_module_version": "1.2.0",
      "_model_name": "LayoutModel",
      "_view_count": null,
      "_view_module": "@jupyter-widgets/base",
      "_view_module_version": "1.2.0",
      "_view_name": "LayoutView",
      "align_content": null,
      "align_items": null,
      "align_self": null,
      "border": null,
      "bottom": null,
      "display": null,
      "flex": null,
      "flex_flow": null,
      "grid_area": null,
      "grid_auto_columns": null,
      "grid_auto_flow": null,
      "grid_auto_rows": null,
      "grid_column": null,
      "grid_gap": null,
      "grid_row": null,
      "grid_template_areas": null,
      "grid_template_columns": null,
      "grid_template_rows": null,
      "height": null,
      "justify_content": null,
      "justify_items": null,
      "left": null,
      "margin": null,
      "max_height": null,
      "max_width": null,
      "min_height": null,
      "min_width": null,
      "object_fit": null,
      "object_position": null,
      "order": null,
      "overflow": null,
      "overflow_x": null,
      "overflow_y": null,
      "padding": null,
      "right": null,
      "top": null,
      "visibility": null,
      "width": null
     }
    },
    "c65bdef4ebfe4b65af4c8a9bb05abeaa": {
     "model_module": "@jupyter-widgets/controls",
     "model_module_version": "1.5.0",
     "model_name": "ProgressStyleModel",
     "state": {
      "_model_module": "@jupyter-widgets/controls",
      "_model_module_version": "1.5.0",
      "_model_name": "ProgressStyleModel",
      "_view_count": null,
      "_view_module": "@jupyter-widgets/base",
      "_view_module_version": "1.2.0",
      "_view_name": "StyleView",
      "bar_color": null,
      "description_width": ""
     }
    },
    "c72aa30a4c974fa684adec034ae8c9c3": {
     "model_module": "@jupyter-widgets/controls",
     "model_module_version": "1.5.0",
     "model_name": "HBoxModel",
     "state": {
      "_dom_classes": [],
      "_model_module": "@jupyter-widgets/controls",
      "_model_module_version": "1.5.0",
      "_model_name": "HBoxModel",
      "_view_count": null,
      "_view_module": "@jupyter-widgets/controls",
      "_view_module_version": "1.5.0",
      "_view_name": "HBoxView",
      "box_style": "",
      "children": [
       "IPY_MODEL_842371a334e14a26bf1d7994448de09c",
       "IPY_MODEL_e454f43b82de48dea39d6e3e8dfdbca9",
       "IPY_MODEL_24d44584aeb646e4bf3f2771779f48d5"
      ],
      "layout": "IPY_MODEL_d10e2b7d621c4722a90f44c7f8db9cdb"
     }
    },
    "c7adf27796ba4214b7ced3cc11581ea6": {
     "model_module": "@jupyter-widgets/base",
     "model_module_version": "1.2.0",
     "model_name": "LayoutModel",
     "state": {
      "_model_module": "@jupyter-widgets/base",
      "_model_module_version": "1.2.0",
      "_model_name": "LayoutModel",
      "_view_count": null,
      "_view_module": "@jupyter-widgets/base",
      "_view_module_version": "1.2.0",
      "_view_name": "LayoutView",
      "align_content": null,
      "align_items": null,
      "align_self": null,
      "border": null,
      "bottom": null,
      "display": null,
      "flex": null,
      "flex_flow": null,
      "grid_area": null,
      "grid_auto_columns": null,
      "grid_auto_flow": null,
      "grid_auto_rows": null,
      "grid_column": null,
      "grid_gap": null,
      "grid_row": null,
      "grid_template_areas": null,
      "grid_template_columns": null,
      "grid_template_rows": null,
      "height": null,
      "justify_content": null,
      "justify_items": null,
      "left": null,
      "margin": null,
      "max_height": null,
      "max_width": null,
      "min_height": null,
      "min_width": null,
      "object_fit": null,
      "object_position": null,
      "order": null,
      "overflow": null,
      "overflow_x": null,
      "overflow_y": null,
      "padding": null,
      "right": null,
      "top": null,
      "visibility": null,
      "width": null
     }
    },
    "c8242b2504fe40aa9e6846149732a1ed": {
     "model_module": "@jupyter-widgets/base",
     "model_module_version": "1.2.0",
     "model_name": "LayoutModel",
     "state": {
      "_model_module": "@jupyter-widgets/base",
      "_model_module_version": "1.2.0",
      "_model_name": "LayoutModel",
      "_view_count": null,
      "_view_module": "@jupyter-widgets/base",
      "_view_module_version": "1.2.0",
      "_view_name": "LayoutView",
      "align_content": null,
      "align_items": null,
      "align_self": null,
      "border": null,
      "bottom": null,
      "display": null,
      "flex": null,
      "flex_flow": null,
      "grid_area": null,
      "grid_auto_columns": null,
      "grid_auto_flow": null,
      "grid_auto_rows": null,
      "grid_column": null,
      "grid_gap": null,
      "grid_row": null,
      "grid_template_areas": null,
      "grid_template_columns": null,
      "grid_template_rows": null,
      "height": null,
      "justify_content": null,
      "justify_items": null,
      "left": null,
      "margin": null,
      "max_height": null,
      "max_width": null,
      "min_height": null,
      "min_width": null,
      "object_fit": null,
      "object_position": null,
      "order": null,
      "overflow": null,
      "overflow_x": null,
      "overflow_y": null,
      "padding": null,
      "right": null,
      "top": null,
      "visibility": null,
      "width": null
     }
    },
    "cb57434d31ab4a0d88f5438a2db9b72f": {
     "model_module": "@jupyter-widgets/controls",
     "model_module_version": "1.5.0",
     "model_name": "HTMLModel",
     "state": {
      "_dom_classes": [],
      "_model_module": "@jupyter-widgets/controls",
      "_model_module_version": "1.5.0",
      "_model_name": "HTMLModel",
      "_view_count": null,
      "_view_module": "@jupyter-widgets/controls",
      "_view_module_version": "1.5.0",
      "_view_name": "HTMLView",
      "description": "",
      "description_tooltip": null,
      "layout": "IPY_MODEL_18a3167db68c4648a5e0adae9ef92a0f",
      "placeholder": "​",
      "style": "IPY_MODEL_7c1aa2f48d0b4f3eabb142c50524a868",
      "value": " 229/229 [00:00&lt;00:00, 18.5kB/s]"
     }
    },
    "cb85bf352b004403bb02e0e267023e52": {
     "model_module": "@jupyter-widgets/controls",
     "model_module_version": "1.5.0",
     "model_name": "HTMLModel",
     "state": {
      "_dom_classes": [],
      "_model_module": "@jupyter-widgets/controls",
      "_model_module_version": "1.5.0",
      "_model_name": "HTMLModel",
      "_view_count": null,
      "_view_module": "@jupyter-widgets/controls",
      "_view_module_version": "1.5.0",
      "_view_name": "HTMLView",
      "description": "",
      "description_tooltip": null,
      "layout": "IPY_MODEL_4e4d6a12c63b4877a2621ca475e49303",
      "placeholder": "​",
      "style": "IPY_MODEL_b2c8b9debe284b5c903a17d077334865",
      "value": "README.md: 100%"
     }
    },
    "cba9452902fe4253aa42f05b4b2a4989": {
     "model_module": "@jupyter-widgets/controls",
     "model_module_version": "1.5.0",
     "model_name": "DescriptionStyleModel",
     "state": {
      "_model_module": "@jupyter-widgets/controls",
      "_model_module_version": "1.5.0",
      "_model_name": "DescriptionStyleModel",
      "_view_count": null,
      "_view_module": "@jupyter-widgets/base",
      "_view_module_version": "1.2.0",
      "_view_name": "StyleView",
      "description_width": ""
     }
    },
    "ccb653e93def4927ab23cafb9c099d0c": {
     "model_module": "@jupyter-widgets/controls",
     "model_module_version": "1.5.0",
     "model_name": "ProgressStyleModel",
     "state": {
      "_model_module": "@jupyter-widgets/controls",
      "_model_module_version": "1.5.0",
      "_model_name": "ProgressStyleModel",
      "_view_count": null,
      "_view_module": "@jupyter-widgets/base",
      "_view_module_version": "1.2.0",
      "_view_name": "StyleView",
      "bar_color": null,
      "description_width": ""
     }
    },
    "d10e2b7d621c4722a90f44c7f8db9cdb": {
     "model_module": "@jupyter-widgets/base",
     "model_module_version": "1.2.0",
     "model_name": "LayoutModel",
     "state": {
      "_model_module": "@jupyter-widgets/base",
      "_model_module_version": "1.2.0",
      "_model_name": "LayoutModel",
      "_view_count": null,
      "_view_module": "@jupyter-widgets/base",
      "_view_module_version": "1.2.0",
      "_view_name": "LayoutView",
      "align_content": null,
      "align_items": null,
      "align_self": null,
      "border": null,
      "bottom": null,
      "display": null,
      "flex": null,
      "flex_flow": null,
      "grid_area": null,
      "grid_auto_columns": null,
      "grid_auto_flow": null,
      "grid_auto_rows": null,
      "grid_column": null,
      "grid_gap": null,
      "grid_row": null,
      "grid_template_areas": null,
      "grid_template_columns": null,
      "grid_template_rows": null,
      "height": null,
      "justify_content": null,
      "justify_items": null,
      "left": null,
      "margin": null,
      "max_height": null,
      "max_width": null,
      "min_height": null,
      "min_width": null,
      "object_fit": null,
      "object_position": null,
      "order": null,
      "overflow": null,
      "overflow_x": null,
      "overflow_y": null,
      "padding": null,
      "right": null,
      "top": null,
      "visibility": null,
      "width": null
     }
    },
    "d10f106cabdf4b64923c16f826a936a3": {
     "model_module": "@jupyter-widgets/controls",
     "model_module_version": "1.5.0",
     "model_name": "HTMLModel",
     "state": {
      "_dom_classes": [],
      "_model_module": "@jupyter-widgets/controls",
      "_model_module_version": "1.5.0",
      "_model_name": "HTMLModel",
      "_view_count": null,
      "_view_module": "@jupyter-widgets/controls",
      "_view_module_version": "1.5.0",
      "_view_name": "HTMLView",
      "description": "",
      "description_tooltip": null,
      "layout": "IPY_MODEL_c7adf27796ba4214b7ced3cc11581ea6",
      "placeholder": "​",
      "style": "IPY_MODEL_4a5031030c80452ebef8863aa4079eea",
      "value": "tokenizer_config.json: 100%"
     }
    },
    "d8b350ccce1043589f855a01b4bc5ef5": {
     "model_module": "@jupyter-widgets/controls",
     "model_module_version": "1.5.0",
     "model_name": "HTMLModel",
     "state": {
      "_dom_classes": [],
      "_model_module": "@jupyter-widgets/controls",
      "_model_module_version": "1.5.0",
      "_model_name": "HTMLModel",
      "_view_count": null,
      "_view_module": "@jupyter-widgets/controls",
      "_view_module_version": "1.5.0",
      "_view_name": "HTMLView",
      "description": "",
      "description_tooltip": null,
      "layout": "IPY_MODEL_5db0e557ecca47c8bcb2fed445eac1f0",
      "placeholder": "​",
      "style": "IPY_MODEL_f37d8f94a742465198a6d9b93781a8fe",
      "value": " 190/190 [00:00&lt;00:00, 20.9kB/s]"
     }
    },
    "daa02f77b6f14e0cb4d743ddb3574cb6": {
     "model_module": "@jupyter-widgets/controls",
     "model_module_version": "1.5.0",
     "model_name": "ProgressStyleModel",
     "state": {
      "_model_module": "@jupyter-widgets/controls",
      "_model_module_version": "1.5.0",
      "_model_name": "ProgressStyleModel",
      "_view_count": null,
      "_view_module": "@jupyter-widgets/base",
      "_view_module_version": "1.2.0",
      "_view_name": "StyleView",
      "bar_color": null,
      "description_width": ""
     }
    },
    "db7809d71c664b0b81c6cef35400969c": {
     "model_module": "@jupyter-widgets/base",
     "model_module_version": "1.2.0",
     "model_name": "LayoutModel",
     "state": {
      "_model_module": "@jupyter-widgets/base",
      "_model_module_version": "1.2.0",
      "_model_name": "LayoutModel",
      "_view_count": null,
      "_view_module": "@jupyter-widgets/base",
      "_view_module_version": "1.2.0",
      "_view_name": "LayoutView",
      "align_content": null,
      "align_items": null,
      "align_self": null,
      "border": null,
      "bottom": null,
      "display": null,
      "flex": null,
      "flex_flow": null,
      "grid_area": null,
      "grid_auto_columns": null,
      "grid_auto_flow": null,
      "grid_auto_rows": null,
      "grid_column": null,
      "grid_gap": null,
      "grid_row": null,
      "grid_template_areas": null,
      "grid_template_columns": null,
      "grid_template_rows": null,
      "height": null,
      "justify_content": null,
      "justify_items": null,
      "left": null,
      "margin": null,
      "max_height": null,
      "max_width": null,
      "min_height": null,
      "min_width": null,
      "object_fit": null,
      "object_position": null,
      "order": null,
      "overflow": null,
      "overflow_x": null,
      "overflow_y": null,
      "padding": null,
      "right": null,
      "top": null,
      "visibility": null,
      "width": null
     }
    },
    "deff5c666466471bb4f4424a788d5ef0": {
     "model_module": "@jupyter-widgets/controls",
     "model_module_version": "1.5.0",
     "model_name": "HTMLModel",
     "state": {
      "_dom_classes": [],
      "_model_module": "@jupyter-widgets/controls",
      "_model_module_version": "1.5.0",
      "_model_name": "HTMLModel",
      "_view_count": null,
      "_view_module": "@jupyter-widgets/controls",
      "_view_module_version": "1.5.0",
      "_view_name": "HTMLView",
      "description": "",
      "description_tooltip": null,
      "layout": "IPY_MODEL_7497b12aaee64e1d8363f7584fc1a4a5",
      "placeholder": "​",
      "style": "IPY_MODEL_5f7b24d25f514d42b1476665eaf78912",
      "value": "Batches: 100%"
     }
    },
    "e09726b9248e4fa181169e2ac8521616": {
     "model_module": "@jupyter-widgets/base",
     "model_module_version": "1.2.0",
     "model_name": "LayoutModel",
     "state": {
      "_model_module": "@jupyter-widgets/base",
      "_model_module_version": "1.2.0",
      "_model_name": "LayoutModel",
      "_view_count": null,
      "_view_module": "@jupyter-widgets/base",
      "_view_module_version": "1.2.0",
      "_view_name": "LayoutView",
      "align_content": null,
      "align_items": null,
      "align_self": null,
      "border": null,
      "bottom": null,
      "display": null,
      "flex": null,
      "flex_flow": null,
      "grid_area": null,
      "grid_auto_columns": null,
      "grid_auto_flow": null,
      "grid_auto_rows": null,
      "grid_column": null,
      "grid_gap": null,
      "grid_row": null,
      "grid_template_areas": null,
      "grid_template_columns": null,
      "grid_template_rows": null,
      "height": null,
      "justify_content": null,
      "justify_items": null,
      "left": null,
      "margin": null,
      "max_height": null,
      "max_width": null,
      "min_height": null,
      "min_width": null,
      "object_fit": null,
      "object_position": null,
      "order": null,
      "overflow": null,
      "overflow_x": null,
      "overflow_y": null,
      "padding": null,
      "right": null,
      "top": null,
      "visibility": null,
      "width": null
     }
    },
    "e149cf4948784c3e97ed62fba6dc7892": {
     "model_module": "@jupyter-widgets/controls",
     "model_module_version": "1.5.0",
     "model_name": "HTMLModel",
     "state": {
      "_dom_classes": [],
      "_model_module": "@jupyter-widgets/controls",
      "_model_module_version": "1.5.0",
      "_model_name": "HTMLModel",
      "_view_count": null,
      "_view_module": "@jupyter-widgets/controls",
      "_view_module_version": "1.5.0",
      "_view_name": "HTMLView",
      "description": "",
      "description_tooltip": null,
      "layout": "IPY_MODEL_2feb8c8d0ec3419f9e89f65dc5e9bcaf",
      "placeholder": "​",
      "style": "IPY_MODEL_e841b613727b4e78a87e81d50b778c9e",
      "value": " 112/112 [00:00&lt;00:00, 9.87kB/s]"
     }
    },
    "e17b55b2a46845f6af37c0443452a220": {
     "model_module": "@jupyter-widgets/controls",
     "model_module_version": "1.5.0",
     "model_name": "ProgressStyleModel",
     "state": {
      "_model_module": "@jupyter-widgets/controls",
      "_model_module_version": "1.5.0",
      "_model_name": "ProgressStyleModel",
      "_view_count": null,
      "_view_module": "@jupyter-widgets/base",
      "_view_module_version": "1.2.0",
      "_view_name": "StyleView",
      "bar_color": null,
      "description_width": ""
     }
    },
    "e454f43b82de48dea39d6e3e8dfdbca9": {
     "model_module": "@jupyter-widgets/controls",
     "model_module_version": "1.5.0",
     "model_name": "FloatProgressModel",
     "state": {
      "_dom_classes": [],
      "_model_module": "@jupyter-widgets/controls",
      "_model_module_version": "1.5.0",
      "_model_name": "FloatProgressModel",
      "_view_count": null,
      "_view_module": "@jupyter-widgets/controls",
      "_view_module_version": "1.5.0",
      "_view_name": "ProgressView",
      "bar_style": "success",
      "description": "",
      "description_tooltip": null,
      "layout": "IPY_MODEL_1b3e67a8a4244b60955e693e6a770c27",
      "max": 466081,
      "min": 0,
      "orientation": "horizontal",
      "style": "IPY_MODEL_bbf4cfb5f3d34b059e25d08b4c445adf",
      "value": 466081
     }
    },
    "e6b94b51a327456c9b266ad657ff82ee": {
     "model_module": "@jupyter-widgets/controls",
     "model_module_version": "1.5.0",
     "model_name": "DescriptionStyleModel",
     "state": {
      "_model_module": "@jupyter-widgets/controls",
      "_model_module_version": "1.5.0",
      "_model_name": "DescriptionStyleModel",
      "_view_count": null,
      "_view_module": "@jupyter-widgets/base",
      "_view_module_version": "1.2.0",
      "_view_name": "StyleView",
      "description_width": ""
     }
    },
    "e752ea62e0df4c1ab6018e10f3f3df3c": {
     "model_module": "@jupyter-widgets/base",
     "model_module_version": "1.2.0",
     "model_name": "LayoutModel",
     "state": {
      "_model_module": "@jupyter-widgets/base",
      "_model_module_version": "1.2.0",
      "_model_name": "LayoutModel",
      "_view_count": null,
      "_view_module": "@jupyter-widgets/base",
      "_view_module_version": "1.2.0",
      "_view_name": "LayoutView",
      "align_content": null,
      "align_items": null,
      "align_self": null,
      "border": null,
      "bottom": null,
      "display": null,
      "flex": null,
      "flex_flow": null,
      "grid_area": null,
      "grid_auto_columns": null,
      "grid_auto_flow": null,
      "grid_auto_rows": null,
      "grid_column": null,
      "grid_gap": null,
      "grid_row": null,
      "grid_template_areas": null,
      "grid_template_columns": null,
      "grid_template_rows": null,
      "height": null,
      "justify_content": null,
      "justify_items": null,
      "left": null,
      "margin": null,
      "max_height": null,
      "max_width": null,
      "min_height": null,
      "min_width": null,
      "object_fit": null,
      "object_position": null,
      "order": null,
      "overflow": null,
      "overflow_x": null,
      "overflow_y": null,
      "padding": null,
      "right": null,
      "top": null,
      "visibility": null,
      "width": null
     }
    },
    "e841b613727b4e78a87e81d50b778c9e": {
     "model_module": "@jupyter-widgets/controls",
     "model_module_version": "1.5.0",
     "model_name": "DescriptionStyleModel",
     "state": {
      "_model_module": "@jupyter-widgets/controls",
      "_model_module_version": "1.5.0",
      "_model_name": "DescriptionStyleModel",
      "_view_count": null,
      "_view_module": "@jupyter-widgets/base",
      "_view_module_version": "1.2.0",
      "_view_name": "StyleView",
      "description_width": ""
     }
    },
    "e9450d019fd843b8ac0340b6cc378e88": {
     "model_module": "@jupyter-widgets/base",
     "model_module_version": "1.2.0",
     "model_name": "LayoutModel",
     "state": {
      "_model_module": "@jupyter-widgets/base",
      "_model_module_version": "1.2.0",
      "_model_name": "LayoutModel",
      "_view_count": null,
      "_view_module": "@jupyter-widgets/base",
      "_view_module_version": "1.2.0",
      "_view_name": "LayoutView",
      "align_content": null,
      "align_items": null,
      "align_self": null,
      "border": null,
      "bottom": null,
      "display": null,
      "flex": null,
      "flex_flow": null,
      "grid_area": null,
      "grid_auto_columns": null,
      "grid_auto_flow": null,
      "grid_auto_rows": null,
      "grid_column": null,
      "grid_gap": null,
      "grid_row": null,
      "grid_template_areas": null,
      "grid_template_columns": null,
      "grid_template_rows": null,
      "height": null,
      "justify_content": null,
      "justify_items": null,
      "left": null,
      "margin": null,
      "max_height": null,
      "max_width": null,
      "min_height": null,
      "min_width": null,
      "object_fit": null,
      "object_position": null,
      "order": null,
      "overflow": null,
      "overflow_x": null,
      "overflow_y": null,
      "padding": null,
      "right": null,
      "top": null,
      "visibility": null,
      "width": null
     }
    },
    "ea95c96c1db64072b340769bdc83863d": {
     "model_module": "@jupyter-widgets/controls",
     "model_module_version": "1.5.0",
     "model_name": "HBoxModel",
     "state": {
      "_dom_classes": [],
      "_model_module": "@jupyter-widgets/controls",
      "_model_module_version": "1.5.0",
      "_model_name": "HBoxModel",
      "_view_count": null,
      "_view_module": "@jupyter-widgets/controls",
      "_view_module_version": "1.5.0",
      "_view_name": "HBoxView",
      "box_style": "",
      "children": [
       "IPY_MODEL_deff5c666466471bb4f4424a788d5ef0",
       "IPY_MODEL_88cd9a8a92584a35be2c8766b29be5ea",
       "IPY_MODEL_f7ec0465bbf44eef926e8689dcf53810"
      ],
      "layout": "IPY_MODEL_374d96b6c46d47fb961883ab671182f7"
     }
    },
    "edda6260755c4df1a010f77c9e413864": {
     "model_module": "@jupyter-widgets/controls",
     "model_module_version": "1.5.0",
     "model_name": "HTMLModel",
     "state": {
      "_dom_classes": [],
      "_model_module": "@jupyter-widgets/controls",
      "_model_module_version": "1.5.0",
      "_model_name": "HTMLModel",
      "_view_count": null,
      "_view_module": "@jupyter-widgets/controls",
      "_view_module_version": "1.5.0",
      "_view_name": "HTMLView",
      "description": "",
      "description_tooltip": null,
      "layout": "IPY_MODEL_0e3d7c158f1f432ea79e894c65e27734",
      "placeholder": "​",
      "style": "IPY_MODEL_02e7af70b8244674b3ba36162081345e",
      "value": " 1238/1238 [00:54&lt;00:00, 90.20it/s]"
     }
    },
    "f2925ce10218436bb7911241cb9159ed": {
     "model_module": "@jupyter-widgets/controls",
     "model_module_version": "1.5.0",
     "model_name": "ProgressStyleModel",
     "state": {
      "_model_module": "@jupyter-widgets/controls",
      "_model_module_version": "1.5.0",
      "_model_name": "ProgressStyleModel",
      "_view_count": null,
      "_view_module": "@jupyter-widgets/base",
      "_view_module_version": "1.2.0",
      "_view_name": "StyleView",
      "bar_color": null,
      "description_width": ""
     }
    },
    "f31d4b6fd72540978f04e37122943072": {
     "model_module": "@jupyter-widgets/controls",
     "model_module_version": "1.5.0",
     "model_name": "DescriptionStyleModel",
     "state": {
      "_model_module": "@jupyter-widgets/controls",
      "_model_module_version": "1.5.0",
      "_model_name": "DescriptionStyleModel",
      "_view_count": null,
      "_view_module": "@jupyter-widgets/base",
      "_view_module_version": "1.2.0",
      "_view_name": "StyleView",
      "description_width": ""
     }
    },
    "f37d8f94a742465198a6d9b93781a8fe": {
     "model_module": "@jupyter-widgets/controls",
     "model_module_version": "1.5.0",
     "model_name": "DescriptionStyleModel",
     "state": {
      "_model_module": "@jupyter-widgets/controls",
      "_model_module_version": "1.5.0",
      "_model_name": "DescriptionStyleModel",
      "_view_count": null,
      "_view_module": "@jupyter-widgets/base",
      "_view_module_version": "1.2.0",
      "_view_name": "StyleView",
      "description_width": ""
     }
    },
    "f3ef0e005ab944eaa1ecf1b73ab3a4cd": {
     "model_module": "@jupyter-widgets/base",
     "model_module_version": "1.2.0",
     "model_name": "LayoutModel",
     "state": {
      "_model_module": "@jupyter-widgets/base",
      "_model_module_version": "1.2.0",
      "_model_name": "LayoutModel",
      "_view_count": null,
      "_view_module": "@jupyter-widgets/base",
      "_view_module_version": "1.2.0",
      "_view_name": "LayoutView",
      "align_content": null,
      "align_items": null,
      "align_self": null,
      "border": null,
      "bottom": null,
      "display": null,
      "flex": null,
      "flex_flow": null,
      "grid_area": null,
      "grid_auto_columns": null,
      "grid_auto_flow": null,
      "grid_auto_rows": null,
      "grid_column": null,
      "grid_gap": null,
      "grid_row": null,
      "grid_template_areas": null,
      "grid_template_columns": null,
      "grid_template_rows": null,
      "height": null,
      "justify_content": null,
      "justify_items": null,
      "left": null,
      "margin": null,
      "max_height": null,
      "max_width": null,
      "min_height": null,
      "min_width": null,
      "object_fit": null,
      "object_position": null,
      "order": null,
      "overflow": null,
      "overflow_x": null,
      "overflow_y": null,
      "padding": null,
      "right": null,
      "top": null,
      "visibility": null,
      "width": null
     }
    },
    "f571307555f84e459f32801bd2a6d7b4": {
     "model_module": "@jupyter-widgets/controls",
     "model_module_version": "1.5.0",
     "model_name": "HBoxModel",
     "state": {
      "_dom_classes": [],
      "_model_module": "@jupyter-widgets/controls",
      "_model_module_version": "1.5.0",
      "_model_name": "HBoxModel",
      "_view_count": null,
      "_view_module": "@jupyter-widgets/controls",
      "_view_module_version": "1.5.0",
      "_view_name": "HBoxView",
      "box_style": "",
      "children": [
       "IPY_MODEL_cb85bf352b004403bb02e0e267023e52",
       "IPY_MODEL_1b34be5e23c7490080cbbb7c9ec47df9",
       "IPY_MODEL_79ddfa4ecfeb4789a23bf3eabea1b3dd"
      ],
      "layout": "IPY_MODEL_9562b9ad8bf949acb90ec10ecb925e48"
     }
    },
    "f5a793433d574e74bfd9ade865a0f1cc": {
     "model_module": "@jupyter-widgets/base",
     "model_module_version": "1.2.0",
     "model_name": "LayoutModel",
     "state": {
      "_model_module": "@jupyter-widgets/base",
      "_model_module_version": "1.2.0",
      "_model_name": "LayoutModel",
      "_view_count": null,
      "_view_module": "@jupyter-widgets/base",
      "_view_module_version": "1.2.0",
      "_view_name": "LayoutView",
      "align_content": null,
      "align_items": null,
      "align_self": null,
      "border": null,
      "bottom": null,
      "display": null,
      "flex": null,
      "flex_flow": null,
      "grid_area": null,
      "grid_auto_columns": null,
      "grid_auto_flow": null,
      "grid_auto_rows": null,
      "grid_column": null,
      "grid_gap": null,
      "grid_row": null,
      "grid_template_areas": null,
      "grid_template_columns": null,
      "grid_template_rows": null,
      "height": null,
      "justify_content": null,
      "justify_items": null,
      "left": null,
      "margin": null,
      "max_height": null,
      "max_width": null,
      "min_height": null,
      "min_width": null,
      "object_fit": null,
      "object_position": null,
      "order": null,
      "overflow": null,
      "overflow_x": null,
      "overflow_y": null,
      "padding": null,
      "right": null,
      "top": null,
      "visibility": null,
      "width": null
     }
    },
    "f7ec0465bbf44eef926e8689dcf53810": {
     "model_module": "@jupyter-widgets/controls",
     "model_module_version": "1.5.0",
     "model_name": "HTMLModel",
     "state": {
      "_dom_classes": [],
      "_model_module": "@jupyter-widgets/controls",
      "_model_module_version": "1.5.0",
      "_model_name": "HTMLModel",
      "_view_count": null,
      "_view_module": "@jupyter-widgets/controls",
      "_view_module_version": "1.5.0",
      "_view_name": "HTMLView",
      "description": "",
      "description_tooltip": null,
      "layout": "IPY_MODEL_e9450d019fd843b8ac0340b6cc378e88",
      "placeholder": "​",
      "style": "IPY_MODEL_1ae51a0e191b40e181cc0ff4b30dce4e",
      "value": " 1238/1238 [01:43&lt;00:00, 109.05it/s]"
     }
    },
    "fa894c895a1245cd818b57e5c16dfecf": {
     "model_module": "@jupyter-widgets/controls",
     "model_module_version": "1.5.0",
     "model_name": "DescriptionStyleModel",
     "state": {
      "_model_module": "@jupyter-widgets/controls",
      "_model_module_version": "1.5.0",
      "_model_name": "DescriptionStyleModel",
      "_view_count": null,
      "_view_module": "@jupyter-widgets/base",
      "_view_module_version": "1.2.0",
      "_view_name": "StyleView",
      "description_width": ""
     }
    },
    "fd77ae58700b47bd97763ece40d02592": {
     "model_module": "@jupyter-widgets/base",
     "model_module_version": "1.2.0",
     "model_name": "LayoutModel",
     "state": {
      "_model_module": "@jupyter-widgets/base",
      "_model_module_version": "1.2.0",
      "_model_name": "LayoutModel",
      "_view_count": null,
      "_view_module": "@jupyter-widgets/base",
      "_view_module_version": "1.2.0",
      "_view_name": "LayoutView",
      "align_content": null,
      "align_items": null,
      "align_self": null,
      "border": null,
      "bottom": null,
      "display": null,
      "flex": null,
      "flex_flow": null,
      "grid_area": null,
      "grid_auto_columns": null,
      "grid_auto_flow": null,
      "grid_auto_rows": null,
      "grid_column": null,
      "grid_gap": null,
      "grid_row": null,
      "grid_template_areas": null,
      "grid_template_columns": null,
      "grid_template_rows": null,
      "height": null,
      "justify_content": null,
      "justify_items": null,
      "left": null,
      "margin": null,
      "max_height": null,
      "max_width": null,
      "min_height": null,
      "min_width": null,
      "object_fit": null,
      "object_position": null,
      "order": null,
      "overflow": null,
      "overflow_x": null,
      "overflow_y": null,
      "padding": null,
      "right": null,
      "top": null,
      "visibility": null,
      "width": null
     }
    },
    "fe1357d817344cf484f0c3ae02a9b481": {
     "model_module": "@jupyter-widgets/controls",
     "model_module_version": "1.5.0",
     "model_name": "HBoxModel",
     "state": {
      "_dom_classes": [],
      "_model_module": "@jupyter-widgets/controls",
      "_model_module_version": "1.5.0",
      "_model_name": "HBoxModel",
      "_view_count": null,
      "_view_module": "@jupyter-widgets/controls",
      "_view_module_version": "1.5.0",
      "_view_name": "HBoxView",
      "box_style": "",
      "children": [
       "IPY_MODEL_d10f106cabdf4b64923c16f826a936a3",
       "IPY_MODEL_8088e990c3ab47de950efdcab34d9043",
       "IPY_MODEL_99e308769cfe443993bffeeacec1bd63"
      ],
      "layout": "IPY_MODEL_2b9edeed2bca47d08aafed347e886adb"
     }
    },
    "fe3a3cef0dd64a81a6f868254846e5d7": {
     "model_module": "@jupyter-widgets/controls",
     "model_module_version": "1.5.0",
     "model_name": "HTMLModel",
     "state": {
      "_dom_classes": [],
      "_model_module": "@jupyter-widgets/controls",
      "_model_module_version": "1.5.0",
      "_model_name": "HTMLModel",
      "_view_count": null,
      "_view_module": "@jupyter-widgets/controls",
      "_view_module_version": "1.5.0",
      "_view_name": "HTMLView",
      "description": "",
      "description_tooltip": null,
      "layout": "IPY_MODEL_39d63fda76e44c5182827a1c119e644e",
      "placeholder": "​",
      "style": "IPY_MODEL_e6b94b51a327456c9b266ad657ff82ee",
      "value": "model.safetensors: 100%"
     }
    }
   }
  }
 },
 "nbformat": 4,
 "nbformat_minor": 0
}
